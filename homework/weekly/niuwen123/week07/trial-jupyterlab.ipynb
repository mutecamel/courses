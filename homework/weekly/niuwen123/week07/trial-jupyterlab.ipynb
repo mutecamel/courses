{
 "cells": [
  {
   "cell_type": "code",
   "execution_count": 1,
   "id": "4bca9ff5-cdd5-4681-ae95-c9f13f8cc7c6",
   "metadata": {},
   "outputs": [
    {
     "name": "stdout",
     "output_type": "stream",
     "text": [
      "aaaaa\n"
     ]
    }
   ],
   "source": [
    "x = 5\n",
    "x = \"a\" * x\n",
    "print(x)"
   ]
  },
  {
   "cell_type": "code",
   "execution_count": 2,
   "id": "9ed80840-9901-4cf9-a5cc-b1aecd704ae3",
   "metadata": {},
   "outputs": [
    {
     "name": "stdout",
     "output_type": "stream",
     "text": [
      "aaaaa\n"
     ]
    }
   ],
   "source": [
    "x = 5\n",
    "x = \"a\" * x\n",
    "print(x)\n",
    "x = 9"
   ]
  },
  {
   "cell_type": "code",
   "execution_count": 3,
   "id": "8792c21b-0ae4-4d0b-83a1-1587ae11776a",
   "metadata": {},
   "outputs": [
    {
     "name": "stdout",
     "output_type": "stream",
     "text": [
      "aaaaa\n"
     ]
    },
    {
     "data": {
      "text/plain": [
       "27"
      ]
     },
     "execution_count": 3,
     "metadata": {},
     "output_type": "execute_result"
    }
   ],
   "source": [
    "x = 5\n",
    "x = \"a\" * x\n",
    "print(x)\n",
    "x = 9\n",
    "x * 3"
   ]
  },
  {
   "cell_type": "code",
   "execution_count": 4,
   "id": "3c5c4336-3bc1-4c43-af98-b12f86661235",
   "metadata": {},
   "outputs": [
    {
     "data": {
      "text/plain": [
       "[4, 2, 9]"
      ]
     },
     "execution_count": 4,
     "metadata": {},
     "output_type": "execute_result"
    }
   ],
   "source": [
    "a = [4,2,9]\n",
    "a"
   ]
  },
  {
   "cell_type": "code",
   "execution_count": 5,
   "id": "4a486e8d-05eb-4c25-80d8-f4ab17e14caa",
   "metadata": {},
   "outputs": [
    {
     "data": {
      "text/plain": [
       "9"
      ]
     },
     "execution_count": 5,
     "metadata": {},
     "output_type": "execute_result"
    }
   ],
   "source": [
    "a.pop()"
   ]
  },
  {
   "cell_type": "code",
   "execution_count": 6,
   "id": "0bebc4ec-5608-4a82-873a-ba581ab464cc",
   "metadata": {},
   "outputs": [
    {
     "data": {
      "text/plain": [
       "[4, 2]"
      ]
     },
     "execution_count": 6,
     "metadata": {},
     "output_type": "execute_result"
    }
   ],
   "source": [
    "a"
   ]
  },
  {
   "cell_type": "code",
   "execution_count": 7,
   "id": "0378c59f-40fe-4a91-8129-e4e21bf96691",
   "metadata": {},
   "outputs": [
    {
     "name": "stdout",
     "output_type": "stream",
     "text": [
      "[4, 2]\n"
     ]
    }
   ],
   "source": [
    "print(a)"
   ]
  },
  {
   "cell_type": "code",
   "execution_count": 9,
   "id": "964fb0b0-14f0-412c-99d3-fa7eb68c6a40",
   "metadata": {},
   "outputs": [],
   "source": [
    "a.append(7)"
   ]
  },
  {
   "cell_type": "code",
   "execution_count": 10,
   "id": "b5bc731f-d755-4b0f-baae-75c1c4ddaa2e",
   "metadata": {},
   "outputs": [
    {
     "data": {
      "text/plain": [
       "[4, 2, 7, 7]"
      ]
     },
     "execution_count": 10,
     "metadata": {},
     "output_type": "execute_result"
    }
   ],
   "source": [
    "a"
   ]
  },
  {
   "cell_type": "code",
   "execution_count": 16,
   "id": "3fa058db-695b-4a11-b8f3-926dc179a05e",
   "metadata": {},
   "outputs": [
    {
     "name": "stdout",
     "output_type": "stream",
     "text": [
      "hello\n",
      "hello\n",
      "hello\n",
      "hello\n",
      "hello\n",
      "hello\n",
      "hello\n",
      "hello\n",
      "hello\n",
      "hello\n",
      "hello\n",
      "hello\n",
      "hello\n",
      "hello\n",
      "hello\n",
      "hello\n",
      "hello\n",
      "hello\n",
      "hello\n",
      "hello\n",
      "hello\n",
      "hello\n",
      "hello\n",
      "hello\n",
      "hello\n"
     ]
    },
    {
     "ename": "KeyboardInterrupt",
     "evalue": "",
     "output_type": "error",
     "traceback": [
      "\u001b[31m---------------------------------------------------------------------------\u001b[39m",
      "\u001b[31mKeyboardInterrupt\u001b[39m                         Traceback (most recent call last)",
      "\u001b[36mCell\u001b[39m\u001b[36m \u001b[39m\u001b[32mIn[16]\u001b[39m\u001b[32m, line 5\u001b[39m\n\u001b[32m      3\u001b[39m \u001b[38;5;28;01mwhile\u001b[39;00m \u001b[38;5;28;01mTrue\u001b[39;00m:\n\u001b[32m      4\u001b[39m     \u001b[38;5;28mprint\u001b[39m(\u001b[33m'\u001b[39m\u001b[33mhello\u001b[39m\u001b[33m'\u001b[39m)\n\u001b[32m----> \u001b[39m\u001b[32m5\u001b[39m     \u001b[43mtime\u001b[49m\u001b[43m.\u001b[49m\u001b[43msleep\u001b[49m\u001b[43m(\u001b[49m\u001b[32;43m3\u001b[39;49m\u001b[43m)\u001b[49m\n",
      "\u001b[31mKeyboardInterrupt\u001b[39m: "
     ]
    }
   ],
   "source": [
    "import time\n",
    "\n",
    "while True:\n",
    "    print('hello')\n",
    "    time.sleep(3)"
   ]
  },
  {
   "cell_type": "code",
   "execution_count": 17,
   "id": "60b39a98-e3ef-42da-9329-1ca2cc66c979",
   "metadata": {},
   "outputs": [],
   "source": [
    "x = 20"
   ]
  },
  {
   "cell_type": "code",
   "execution_count": 19,
   "id": "9e4f29c5-9b78-4661-ae08-04327293ca61",
   "metadata": {},
   "outputs": [
    {
     "name": "stdout",
     "output_type": "stream",
     "text": [
      "25\n"
     ]
    }
   ],
   "source": [
    "x = 5\n",
    "print(x ** 2)"
   ]
  },
  {
   "cell_type": "code",
   "execution_count": null,
   "id": "dea7df42-bd34-4868-82b6-5627c516450d",
   "metadata": {},
   "outputs": [],
   "source": []
  },
  {
   "cell_type": "code",
   "execution_count": null,
   "id": "56ef42f8-7d53-450c-9317-7e43745882a8",
   "metadata": {},
   "outputs": [],
   "source": [
    "## 1. 标题层级展示\n",
    "\n",
    "## 2. 列表的运用\n",
    "### 无序列表\n",
    "- 这是无序列表的第一项\n",
    "- 第二项\n",
    "- 第三项\n",
    "\n",
    "### 有序列表\n",
    "1. 这是有序列表的第一项\n",
    "2. 第二项\n",
    "3. 第三项\n",
    "\n",
    "## 3. 插入图片\n",
    "这里展示一张美丽的风景图片：\n",
    "\n",
    "## 4. 表格呈现\n",
    "| 姓名 | 年龄 | 职业 |\n",
    "| ---- | ---- | ---- |\n",
    "| 张三 | 25 | 工程师 |\n",
    "| 李四 | 30 | 设计师 |\n",
    "| 王五 | 22 | 学生 |\n",
    "\n",
    "## 5. 代码块演示\n",
    "### Python 代码示例\n",
    "```python\n",
    "# 计算 1 到 10 的和\n",
    "sum = 0\n",
    "for i in range(1, 11):\n",
    "    sum += i\n",
    "print(\"1 到 10 的和为:\", sum)"
   ]
  },
  {
   "cell_type": "code",
   "execution_count": null,
   "id": "446121a5-6d26-41f9-8707-53170761e726",
   "metadata": {},
   "outputs": [],
   "source": [
    "  <table>\n",
    "        <thead>\n",
    "            <tr>\n",
    "                <th rowspan=\"2\">序号</th>\n",
    "                <th rowspan=\"2\">产品名称</th>\n",
    "                <th colspan=\"3\">季度销售数据</th>\n",
    "                <th rowspan=\"2\">年度总计</th>\n",
    "                <th rowspan=\"2\">评价</th>\n",
    "            </tr>\n",
    "            <tr>\n",
    "                <th>第一季度</th>\n",
    "                <th>第二季度</th>\n",
    "                <th>第三季度</th>\n",
    "            </tr>\n",
    "        </thead>\n",
    "        <tbody>\n",
    "            <tr>\n",
    "                <td>1</td>\n",
    "                <td>智能手机</td>\n",
    "                <td>1500</td>\n",
    "                <td>1800</td>\n",
    "                <td>2200</td>\n",
    "                <td>5500</td>\n",
    "                <td><i class=\"fa-solid fa-thumbs-up text-green-500\"></i> 畅销</td>\n",
    "            </tr>\n",
    "            <tr>\n",
    "                <td>2</td>\n",
    "                <td>平板电脑</td>\n",
    "                <td>800</td>\n",
    "                <td>900</td>\n",
    "                <td>1000</td>\n",
    "                <td>2700</td>\n",
    "                <td><i class=\"fa-solid fa-check text-yellow-500\"></i> 稳定</td>\n",
    "            </tr>\n",
    "            <tr>\n",
    "                <td>3</td>\n",
    "                <td>智能手表</td>\n",
    "                <td>300</td>\n",
    "                <td>350</td>\n",
    "                <td>400</td>\n",
    "                <td>1050</td>\n",
    "                <td><i class=\"fa-solid fa-arrow-up text-blue-500\"></i> 增长中</td>\n",
    "            </tr>\n",
    "            <tr>\n",
    "                <td colspan=\"7\">备注：以上数据为模拟数据，仅供参考。</td>\n",
    "            </tr>\n",
    "        </tbody>\n",
    "    </table>"
   ]
  },
  {
   "cell_type": "markdown",
   "id": "18d48e15-6a34-4099-8b96-b4f6bd8980c7",
   "metadata": {},
   "source": [
    "多元函数 \\( f(x_1,x_2,\\cdots,x_n) \\) 在点 \\( \\mathbf{a}=(a_1,a_2,\\cdots,a_n) \\) 处的二阶泰勒展开式为：\n",
    "\n",
    "$$\n",
    "f(\\mathbf{x}) = f(\\mathbf{a})+\\sum_{i = 1}^{n}\\frac{\\partial f}{\\partial x_i}\\big|_{\\mathbf{x}=\\mathbf{a}}(x_i - a_i)+\\frac{1}{2}\\sum_{i = 1}^{n}\\sum_{j = 1}^{n}\\frac{\\partial^{2} f}{\\partial x_i\\partial x_j}\\big|_{\\mathbf{x}=\\mathbf{a}}(x_i - a_i)(x_j - a_j)+R_2(\\mathbf{x})\n",
    "$$\n",
    "\n",
    "其中 \\( R_2(\\mathbf{x}) \\) 是余项。\n",
    "\n",
    "矩阵指数函数的定义：设 \\( A \\) 是一个 \\( n\\times n \\) 的方阵，则矩阵指数函数 \\( e^A \\) 定义为\n",
    "\n",
    "$$\n",
    "e^A=\\sum_{k = 0}^{\\infty}\\frac{1}{k!}A^k=I + A+\\frac{1}{2!}A^2+\\frac{1}{3!}A^3+\\cdots\n",
    "$$\n",
    "\n",
    "其中 \\( I \\) 是 \\( n\\times n \\) 的单位矩阵。\n",
    "\n",
    "傅里叶变换对：函数 \\( f(t) \\) 的傅里叶变换 \\( F(\\omega) \\) 定义为\n",
    "\n",
    "$$\n",
    "F(\\omega)=\\int_{-\\infty}^{\\infty}f(t)e^{-i\\omega t}dt\n",
    "$$\n",
    "\n",
    "其逆傅里叶变换为\n",
    "\n",
    "$$\n",
    "f(t)=\\frac{1}{2\\pi}\\int_{-\\infty}^{\\infty}F(\\omega)e^{i\\omega t}d\\omega\n",
    "$$"
   ]
  },
  {
   "cell_type": "code",
   "execution_count": null,
   "id": "97a0e7c7-bef1-43c5-9fad-0481e10ab252",
   "metadata": {},
   "outputs": [],
   "source": []
  }
 ],
 "metadata": {
  "kernelspec": {
   "display_name": "Python 3 (ipykernel)",
   "language": "python",
   "name": "python3"
  },
  "language_info": {
   "codemirror_mode": {
    "name": "ipython",
    "version": 3
   },
   "file_extension": ".py",
   "mimetype": "text/x-python",
   "name": "python",
   "nbconvert_exporter": "python",
   "pygments_lexer": "ipython3",
   "version": "3.12.10"
  }
 },
 "nbformat": 4,
 "nbformat_minor": 5
}
