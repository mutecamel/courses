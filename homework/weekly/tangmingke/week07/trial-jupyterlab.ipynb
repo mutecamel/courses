{
 "cells": [
  {
   "cell_type": "code",
   "execution_count": null,
   "id": "a3045587-56aa-4f73-9d18-713a332d2b4d",
   "metadata": {},
   "outputs": [],
   "source": []
  },
  {
   "cell_type": "code",
   "execution_count": null,
   "id": "49bd035c-0225-43f0-81f3-f99d97a8b122",
   "metadata": {},
   "outputs": [],
   "source": []
  },
  {
   "cell_type": "code",
   "execution_count": null,
   "id": "7e95a913-0239-46a9-9a6d-2fd4bd9dd4c2",
   "metadata": {},
   "outputs": [],
   "source": []
  },
  {
   "cell_type": "code",
   "execution_count": null,
   "id": "6bd407c8-02c9-4375-b24f-d50baf442ca8",
   "metadata": {},
   "outputs": [],
   "source": []
  },
  {
   "cell_type": "code",
   "execution_count": null,
   "id": "a44e87e8-48b5-4702-901a-637c9a469651",
   "metadata": {},
   "outputs": [],
   "source": []
  },
  {
   "cell_type": "code",
   "execution_count": 1,
   "id": "8a8686ea-52bf-4e4b-a979-1cc7d5ff1b43",
   "metadata": {},
   "outputs": [
    {
     "name": "stdout",
     "output_type": "stream",
     "text": [
      "aaaaa\n"
     ]
    }
   ],
   "source": [
    "x = 5\n",
    "x = \"a\" * x\n",
    "print(x)"
   ]
  },
  {
   "cell_type": "code",
   "execution_count": 2,
   "id": "7a4fdd53-23bc-41ed-a51a-9106d819f900",
   "metadata": {},
   "outputs": [
    {
     "name": "stdout",
     "output_type": "stream",
     "text": [
      "aaaaa\n"
     ]
    },
    {
     "data": {
      "text/plain": [
       "27"
      ]
     },
     "execution_count": 2,
     "metadata": {},
     "output_type": "execute_result"
    }
   ],
   "source": [
    "x = 5\n",
    "x = \"a\" * x\n",
    "print(x)\n",
    "x = 9\n",
    "x * 3"
   ]
  },
  {
   "cell_type": "code",
   "execution_count": 3,
   "id": "d854e82a-90c2-4ddd-a88f-74c1d4130d77",
   "metadata": {},
   "outputs": [
    {
     "data": {
      "text/plain": [
       "[4, 2, 9]"
      ]
     },
     "execution_count": 3,
     "metadata": {},
     "output_type": "execute_result"
    }
   ],
   "source": [
    "a = [4, 2, 9]\n",
    "a"
   ]
  },
  {
   "cell_type": "code",
   "execution_count": 4,
   "id": "e2b8d6bf-2a5b-472a-b096-a7ee1bc4f908",
   "metadata": {},
   "outputs": [
    {
     "data": {
      "text/plain": [
       "9"
      ]
     },
     "execution_count": 4,
     "metadata": {},
     "output_type": "execute_result"
    }
   ],
   "source": [
    "a.pop()"
   ]
  },
  {
   "cell_type": "code",
   "execution_count": 5,
   "id": "72e51226-2f38-4c7b-a8cb-dd0d8fcbcd7c",
   "metadata": {},
   "outputs": [
    {
     "data": {
      "text/plain": [
       "[4, 2]"
      ]
     },
     "execution_count": 5,
     "metadata": {},
     "output_type": "execute_result"
    }
   ],
   "source": [
    "a"
   ]
  },
  {
   "cell_type": "code",
   "execution_count": 6,
   "id": "09b43e4a-ac9b-4b7a-88f8-c60481d538e7",
   "metadata": {},
   "outputs": [
    {
     "name": "stdout",
     "output_type": "stream",
     "text": [
      "[4, 2]\n"
     ]
    }
   ],
   "source": [
    "print(a)"
   ]
  },
  {
   "cell_type": "code",
   "execution_count": 7,
   "id": "2e353753-f994-47af-b56d-1cf0a3c5d667",
   "metadata": {},
   "outputs": [],
   "source": [
    "a.append(7)"
   ]
  },
  {
   "cell_type": "code",
   "execution_count": 8,
   "id": "ee98314b-f315-4f20-bc48-81235bf56abb",
   "metadata": {},
   "outputs": [
    {
     "data": {
      "text/plain": [
       "[4, 2, 7]"
      ]
     },
     "execution_count": 8,
     "metadata": {},
     "output_type": "execute_result"
    }
   ],
   "source": [
    "a"
   ]
  },
  {
   "cell_type": "code",
   "execution_count": 9,
   "id": "5520f3f3-ce49-4bc6-9434-2d8c3014c753",
   "metadata": {},
   "outputs": [
    {
     "ename": "TypeError",
     "evalue": "can only concatenate list (not \"int\") to list",
     "output_type": "error",
     "traceback": [
      "\u001b[31m---------------------------------------------------------------------------\u001b[39m",
      "\u001b[31mTypeError\u001b[39m                                 Traceback (most recent call last)",
      "\u001b[36mCell\u001b[39m\u001b[36m \u001b[39m\u001b[32mIn[9]\u001b[39m\u001b[32m, line 1\u001b[39m\n\u001b[32m----> \u001b[39m\u001b[32m1\u001b[39m \u001b[43m_8\u001b[49m\u001b[43m \u001b[49m\u001b[43m+\u001b[49m\u001b[43m \u001b[49m\u001b[32;43m5\u001b[39;49m\n",
      "\u001b[31mTypeError\u001b[39m: can only concatenate list (not \"int\") to list"
     ]
    }
   ],
   "source": [
    "_8 + 5"
   ]
  },
  {
   "cell_type": "code",
   "execution_count": 11,
   "id": "03c54c5d-b9d0-4cf4-9c17-53dab49d6410",
   "metadata": {},
   "outputs": [
    {
     "name": "stdout",
     "output_type": "stream",
     "text": [
      "hello\n",
      "hello\n",
      "hello\n",
      "hello\n"
     ]
    },
    {
     "ename": "KeyboardInterrupt",
     "evalue": "",
     "output_type": "error",
     "traceback": [
      "\u001b[31m---------------------------------------------------------------------------\u001b[39m",
      "\u001b[31mKeyboardInterrupt\u001b[39m                         Traceback (most recent call last)",
      "\u001b[36mCell\u001b[39m\u001b[36m \u001b[39m\u001b[32mIn[11]\u001b[39m\u001b[32m, line 5\u001b[39m\n\u001b[32m      3\u001b[39m \u001b[38;5;28;01mwhile\u001b[39;00m \u001b[38;5;28;01mTrue\u001b[39;00m:\n\u001b[32m      4\u001b[39m     \u001b[38;5;28mprint\u001b[39m(\u001b[33m'\u001b[39m\u001b[33mhello\u001b[39m\u001b[33m'\u001b[39m)\n\u001b[32m----> \u001b[39m\u001b[32m5\u001b[39m     \u001b[43mtime\u001b[49m\u001b[43m.\u001b[49m\u001b[43msleep\u001b[49m\u001b[43m(\u001b[49m\u001b[32;43m3\u001b[39;49m\u001b[43m)\u001b[49m\n",
      "\u001b[31mKeyboardInterrupt\u001b[39m: "
     ]
    }
   ],
   "source": [
    "import time \n",
    "\n",
    "while True:\n",
    "    print('hello')\n",
    "    time.sleep(3)"
   ]
  },
  {
   "cell_type": "code",
   "execution_count": null,
   "id": "debe0c9c-c8c1-45a7-9030-c7837b13e67f",
   "metadata": {},
   "outputs": [],
   "source": [
    "x = 20"
   ]
  },
  {
   "cell_type": "code",
   "execution_count": 10,
   "id": "f5b873d1-151d-4780-b8d9-1ce344072fea",
   "metadata": {},
   "outputs": [
    {
     "data": {
      "text/plain": [
       "9"
      ]
     },
     "execution_count": 10,
     "metadata": {},
     "output_type": "execute_result"
    }
   ],
   "source": [
    "x"
   ]
  },
  {
   "cell_type": "code",
   "execution_count": 12,
   "id": "9f319dac-0e06-456c-bcc5-2350f33ce0c2",
   "metadata": {},
   "outputs": [
    {
     "name": "stdout",
     "output_type": "stream",
     "text": [
      "25\n"
     ]
    }
   ],
   "source": [
    "x = 5\n",
    "print(x ** 2)"
   ]
  },
  {
   "cell_type": "code",
   "execution_count": 13,
   "id": "ff6c269c-ae9f-48f8-ae64-797d27cc5fd9",
   "metadata": {},
   "outputs": [
    {
     "data": {
      "text/plain": [
       "5"
      ]
     },
     "execution_count": 13,
     "metadata": {},
     "output_type": "execute_result"
    }
   ],
   "source": [
    "x"
   ]
  },
  {
   "cell_type": "markdown",
   "id": "47754b1e-cfa9-4a5c-9195-1be64bcfddd4",
   "metadata": {},
   "source": [
    "# 一级标题\n",
    "这是一段普通的文本。你可以使用不同的字体样式，比如 **加粗**、*斜体* 和 ***加粗斜体***。\n",
    "\n",
    "## 二级标题\n",
    "### 三级标题\n",
    "这里有一个有序列表：\n",
    "1. 第一项\n",
    "2. 第二项\n",
    "3. 第三项\n",
    "\n",
    "还有一个无序列表：\n",
    "- 项目 A\n",
    "- 项目 B\n",
    "- 项目 C\n",
    "\n",
    "#### 代码块\n",
    "以下是一个 Python 代码块：\n",
    "```python\n",
    "def greet(name):\n",
    "    return f\"Hello, {name}!\"\n",
    "\n",
    "print(greet(\"World\"))"
   ]
  },
  {
   "cell_type": "markdown",
   "id": "6ea54d3f-46ef-4ac2-802e-a0a3bb140346",
   "metadata": {},
   "source": [
    "# 图文并茂的 Jupyter Notebook 示例\n",
    "\n",
    "## 一、引言\n",
    "本示例将展示 Jupyter Notebook 中 Markdown 的强大功能，包括文本排版、图片展示、代码块、表格等。\n",
    "\n",
    "## 二、文本排版\n",
    "### 2.1 标题\n",
    "Jupyter Notebook 支持六级标题，从 `#` 到 `######` 分别表示一级到六级标题。例如：\n",
    "# 一级标题\n",
    "## 二级标题\n",
    "### 三级标题\n",
    "#### 四级标题\n",
    "##### 五级标题\n",
    "###### 六级标题\n",
    "\n",
    "### 2.2 段落与强调\n",
    "在 Markdown 中，段落由换行分隔。你可以使用 `*` 或 `_` 来实现强调效果。\n",
    "\n",
    "*斜体* 可以用单星号或单下划线包裹。\n",
    "**粗体** 可以用双星号或双下划线包裹。\n",
    "***粗斜体*** 则使用三星号或三下划线。\n",
    "\n",
    "### 2.3 列表\n",
    "#### 无序列表\n",
    "- 项目 1\n",
    "- 项目 2\n",
    "    - 子项目 2.1\n",
    "    - 子项目 2.2\n",
    "- 项目 3\n",
    "\n",
    "#### 有序列表\n",
    "1. 第一项\n",
    "2. 第二项\n",
    "    1. 子项 2.1\n",
    "    2. 子项 2.2\n",
    "3. 第三项\n",
    "\n",
    "## 三、图片展示\n",
    "你可以直接在 Markdown 中插入图片，使用 `![图片描述](图片链接)` 的格式。例如，下面是一张随机风景图片：\n",
    "![风景](https://picsum.photos/800/400)\n",
    "\n",
    "## 四、代码块\n",
    "### 4.1 行内代码\n",
    "你可以使用反引号 ` 来表示行内代码，例如 `print(\"Hello, World!\")`。\n",
    "\n",
    "### 4.2 代码块\n",
    "使用三个反引号 ``` 或四个空格缩进可以创建代码块。以下是一个 Python 代码块示例：\n",
    "```python\n",
    "def factorial(n):\n",
    "    if n == 0 or n == 1:\n",
    "        return 1\n",
    "    else:\n",
    "        return n * factorial(n-1)\n",
    "\n",
    "# 计算 5 的阶乘\n",
    "result = factorial(5)\n",
    "print(f\"5 的阶乘是: {result}\")"
   ]
  },
  {
   "cell_type": "code",
   "execution_count": 17,
   "id": "f63e6c2b-757c-499b-9a20-660a8964fac3",
   "metadata": {},
   "outputs": [
    {
     "name": "stdout",
     "output_type": "stream",
     "text": [
      "5 的阶乘是: 120\n"
     ]
    }
   ],
   "source": [
    "def factorial(n):\n",
    "    if n == 0 or n == 1:\n",
    "        return 1\n",
    "    else:\n",
    "        return n * factorial(n-1)\n",
    "\n",
    "# 计算 5 的阶乘\n",
    "result = factorial(5)\n",
    "print(f\"5 的阶乘是: {result}\")"
   ]
  },
  {
   "cell_type": "markdown",
   "id": "6183f356-f4c5-4667-bf17-ffbb065bca82",
   "metadata": {},
   "source": [
    "Jupyter的发展历史如下：\n",
    "- **起源与IPython阶段（2001 - 2011年）**：2001年，Fernando Pérez发起了IPython项目，旨在为Python提供一个增强的交互式解释器，以满足科学计算和数据分析的需求。经过多年发展，IPython逐渐形成了丰富的工具集。2011年，IPython通过Qt框架获得了专用的前端，同年晚些时候，又推出了基于Web的前端，称为IPython Notebook，它为用户提供了在浏览器中编写和运行Python代码的环境。\n",
    "- **Jupyter项目诞生（2014年）**：随着IPython Notebook支持的语言不断增加，2014年，从IPython项目中分离出了Jupyter项目。IPython继续作为Python的shell和Jupyter的内核存在，而IPython Notebook中的笔记本功能和其他与语言无关的部分则归入Jupyter名下，Jupyter Notebook也成为了Jupyter项目的核心产品之一。\n",
    "- **名称由来**：“Jupyter”这个名字是由Julia、Python和R三种编程语言的名字组合而成，体现了项目支持多语言交互计算的特点，也致敬了伽利略发现木星卫星的笔记本，象征着探索和发现。\n",
    "- **快速发展与功能扩展（2015年及以后）**：2015年，Jupyter Notebook在GitHub上的数量约为20万个，且增加了对多种内核的支持和改进了用户界面。随着时间推移，其数量大幅增长，到2018年约有250万个，2021年1月接近1000万个。2018年，JupyterLab发布，这是新一代的用户界面，提供了比经典笔记本界面更灵活的用户界面和更多功能。2023年8月，Jupyter AI发布，它将生成式人工智能集成到Jupyter Notebook中，使用户能够解释和生成代码、纠正错误、总结内容等。\n",
    "\n",
    "如今，Jupyter Notebook已成为数据科学、机器学习、科学计算和教育等领域中广泛使用的工具，被众多高校和研究机构采用，如哈佛大学、麻省理工学院和斯坦福大学等将其作为教授数据科学和科学计算的主要工具。同时，Jupyter生态系统还在不断发展壮大，包括JupyterHub等工具，为用户提供了更丰富的功能和更好的使用体验。"
   ]
  },
  {
   "cell_type": "markdown",
   "id": "96f6485a-918a-4591-b3de-16fde83c29c7",
   "metadata": {},
   "source": [
    "<!DOCTYPE html>\n",
    "<html lang=\"en\">\n",
    "\n",
    "<head>\n",
    "    <meta charset=\"UTF-8\">\n",
    "    <meta name=\"viewport\" content=\"width=device-width, initial-scale=1.0\">\n",
    "    <script src=\"https://cdn.tailwindcss.com\"></script>\n",
    "    <link href=\"https://cdnjs.cloudflare.com/ajax/libs/font-awesome/6.7.2/css/all.min.css\" rel=\"stylesheet\">\n",
    "    <title>HTML 示例页面</title>\n",
    "</head>\n",
    "\n",
    "<body class=\"bg-gray-100 font-sans\">\n",
    "    <!-- 导航栏 -->\n",
    "    <nav class=\"bg-blue-600 p-4\">\n",
    "        <div class=\"container mx-auto flex justify-between items-center\">\n",
    "            <a href=\"#\" class=\"text-white text-2xl font-bold\">示例网站</a>\n",
    "            <ul class=\"flex space-x-4\">\n",
    "                <li><a href=\"#\" class=\"text-white hover:text-gray-200\">首页</a></li>\n",
    "                <li><a href=\"#\" class=\"text-white hover:text-gray-200\">关于</a></li>\n",
    "                <li><a href=\"#\" class=\"text-white hover:text-gray-200\">联系我们</a></li>\n",
    "            </ul>\n",
    "        </div>\n",
    "    </nav>\n",
    "\n",
    "    <!-- 英雄部分 -->\n",
    "    <section class=\"bg-cover bg-center py-20\" style=\"background-image: url('https://picsum.photos/1200/600');\">\n",
    "        <div class=\"container mx-auto text-center text-white\">\n",
    "            <h1 class=\"text-4xl font-bold mb-4\">欢迎来到示例网站</h1>\n",
    "            <p class=\"text-lg mb-8\">探索我们的精彩内容和服务。</p>\n",
    "            <a href=\"#\" class=\"bg-white text-blue-600 py-2 px-4 rounded-md hover:bg-gray-200\">了解更多</a>\n",
    "        </div>\n",
    "    </section>\n",
    "\n",
    "    <!-- 特色部分 -->\n",
    "    <section class=\"container mx-auto py-16\">\n",
    "        <h2 class=\"text-3xl font-bold text-center mb-8\">我们的特色</h2>\n",
    "        <div class=\"grid grid-cols-1 md:grid-cols-3 gap-8\">\n",
    "            <div class=\"bg-white p-6 rounded-md shadow-md text-center\">\n",
    "                <i class=\"fa-solid fa-lightbulb text-4xl text-blue-600 mb-4\"></i>\n",
    "                <h3 class=\"text-xl font-bold mb-2\">创新理念</h3>\n",
    "                <p>我们始终秉持创新理念，不断探索新的可能性。</p>\n",
    "            </div>\n",
    "            <div class=\"bg-white p-6 rounded-md shadow-md text-center\">\n",
    "                <i class=\"fa-solid fa-users text-4xl text-blue-600 mb-4\"></i>\n",
    "                <h3 class=\"text-xl font-bold mb-2\">优质服务</h3>\n",
    "                <p>我们提供优质的服务，满足您的各种需求。</p>\n",
    "            </div>\n",
    "            <div class=\"bg-white p-6 rounded-md shadow-md text-center\">\n",
    "                <i class=\"fa-solid fa-chart-line text-4xl text-blue-600 mb-4\"></i>\n",
    "                <h3 class=\"text-xl font-bold mb-2\">数据驱动</h3>\n",
    "                <p>我们以数据为驱动，做出更明智的决策。</p>\n",
    "            </div>\n",
    "        </div>\n",
    "    </section>\n",
    "\n",
    "    <!-- 页脚 -->\n",
    "    <footer class=\"bg-gray-800 text-white py-8\">\n",
    "        <div class=\"container mx-auto text-center\">\n",
    "            <p>&copy; 2025 示例网站。保留所有权利。</p>\n",
    "        </div>\n",
    "    </footer>\n",
    "</body>\n",
    "\n",
    "</html>\n",
    "    "
   ]
  },
  {
   "cell_type": "markdown",
   "id": "cd3e61e0-b2c9-492c-8498-5a28adb67cc4",
   "metadata": {},
   "source": [
    "<!DOCTYPE html>\n",
    "<html lang=\"en\">\n",
    "\n",
    "<head>\n",
    "    <meta charset=\"UTF-8\">\n",
    "    <meta name=\"viewport\" content=\"width=device-width, initial-scale=1.0\">\n",
    "    <title>无 CSS 的 HTML 示例</title>\n",
    "</head>\n",
    "\n",
    "<body>\n",
    "    <!-- 页面标题 -->\n",
    "    <h1>欢迎来到无 CSS 的 HTML 页面</h1>\n",
    "\n",
    "    <!-- 段落 -->\n",
    "    <p>这是一个简单的 HTML 页面示例，没有使用任何 CSS 样式。下面将展示一些常见的 HTML 元素。</p>\n",
    "\n",
    "    <!-- 无序列表 -->\n",
    "    <h2>无序列表</h2>\n",
    "    <ul>\n",
    "        <li>列表项 1</li>\n",
    "        <li>列表项 2</li>\n",
    "        <li>列表项 3</li>\n",
    "    </ul>\n",
    "\n",
    "    <!-- 有序列表 -->\n",
    "    <h2>有序列表</h2>\n",
    "    <ol>\n",
    "        <li>第一项</li>\n",
    "        <li>第二项</li>\n",
    "        <li>第三项</li>\n",
    "    </ol>\n",
    "\n",
    "    <!-- 链接 -->\n",
    "    <h2>链接</h2>\n",
    "    <p>你可以点击下面的链接访问百度：</p>\n",
    "    <a href=\"https://www.baidu.com\">访问百度</a>\n",
    "\n",
    "    <!-- 图片 -->\n",
    "    <h2>图片</h2>\n",
    "    <p>这里展示一张示例图片：</p>\n",
    "    <img src=\"https://picsum.photos/200/300\" alt=\"示例图片\">\n",
    "\n",
    "    <!-- 表格 -->\n",
    "    <h2>表格</h2>\n",
    "    <table>\n",
    "        <tr>\n",
    "            <th>姓名</th>\n",
    "            <th>年龄</th>\n",
    "            <th>职业</th>\n",
    "        </tr>\n",
    "        <tr>\n",
    "            <td>张三</td>\n",
    "            <td>25</td>\n",
    "            <td>工程师</td>\n",
    "        </tr>\n",
    "        <tr>\n",
    "            <td>李四</td>\n",
    "            <td>30</td>\n",
    "            <td>设计师</td>\n",
    "        </tr>\n",
    "    </table>\n",
    "</body>\n",
    "\n",
    "</html>    "
   ]
  },
  {
   "cell_type": "markdown",
   "id": "221dc450-ad8a-4b4e-bdde-5111cca5f772",
   "metadata": {},
   "source": [
    "<h1>欢迎来到无 CSS 的 HTML 页面</h1>\n",
    "\n",
    "<!-- 段落 -->\n",
    "<p>这是一个简单的 HTML 页面示例，没有使用任何 CSS 样式。下面将展示一些常见的 HTML 元素。</p>\n",
    "\n",
    "<!-- 无序列表 -->\n",
    "<h2>无序列表</h2>\n",
    "<ul>\n",
    "    <li>列表项 1</li>\n",
    "    <li>列表项 2</li>\n",
    "    <li>列表项 3</li>\n",
    "</ul>\n",
    "\n",
    "<!-- 有序列表 -->\n",
    "<h2>有序列表</h2>\n",
    "<ol>\n",
    "    <li>第一项</li>\n",
    "    <li>第二项</li>\n",
    "    <li>第三项</li>\n",
    "</ol>\n",
    "\n",
    "<!-- 链接 -->\n",
    "<h2>链接</h2>\n",
    "<p>你可以点击下面的链接访问百度：</p>\n",
    "<a href=\"https://www.baidu.com\">访问百度</a>\n",
    "\n",
    "<!-- 图片 -->\n",
    "<h2>图片</h2>\n",
    "<p>这里展示一张示例图片：</p>\n",
    "<img src=\"https://picsum.photos/200/300\" alt=\"示例图片\">\n",
    "\n",
    "<!-- 表格 -->\n",
    "<h2>表格</h2>\n",
    "<table>\n",
    "    <tr>\n",
    "        <th>姓名</th>\n",
    "        <th>年龄</th>\n",
    "        <th>职业</th>\n",
    "    </tr>\n",
    "    <tr>\n",
    "        <td>张三</td>\n",
    "        <td>25</td>\n",
    "        <td>工程师</td>\n",
    "    </tr>\n",
    "    <tr>\n",
    "        <td>李四</td>\n",
    "        <td>30</td>\n",
    "        <td>设计师</td>\n",
    "    </tr>\n",
    "</table>"
   ]
  },
  {
   "cell_type": "markdown",
   "id": "7287433e-9c58-477f-998f-6d54f7c371bc",
   "metadata": {},
   "source": [
    "\\documentclass{article}\n",
    "\\usepackage{amsmath}\n",
    "\\begin{document}\n",
    "\n",
    "在量子力学中，一维含时薛定谔方程可表示为：\n",
    "\\[\n",
    "i\\hbar\\frac{\\partial}{\\partial t}\\Psi(x,t) = \\left[-\\frac{\\hbar^{2}}{2m}\\frac{\\partial^{2}}{\\partial x^{2}} + V(x,t)\\right]\\Psi(x,t)\n",
    "\\]\n",
    "\n",
    "黎曼ζ函数定义如下：\n",
    "\\[\n",
    "\\zeta(s) = \\sum_{n = 1}^{\\infty}\\frac{1}{n^{s}} = \\prod_{p\\text{ prime}}\\frac{1}{1 - p^{-s}}, \\quad \\text{Re}(s)>1\n",
    "\\]\n",
    "\n",
    "多元函数的泰勒展开式（以二元函数为例）：\n",
    "设 \\(z = f(x,y)\\) 在点 \\((a,b)\\) 具有直到 \\(n + 1\\) 阶的连续偏导数，则有\n",
    "\\[\n",
    "f(x,y)=f(a,b)+\\sum_{i = 1}^{n}\\frac{1}{i!}\\left[(x - a)\\frac{\\partial}{\\partial x}+(y - b)\\frac{\\partial}{\\partial y}\\right]^{i}f(a,b)+R_{n}(x,y)\n",
    "\\]\n",
    "其中 \\(R_{n}(x,y)\\) 是余项，可由拉格朗日型余项给出：\n",
    "\\[\n",
    "R_{n}(x,y)=\\frac{1}{(n + 1)!}\\left[(x - a)\\frac{\\partial}{\\partial x}+(y - b)\\frac{\\partial}{\\partial y}\\right]^{n+1}f(a+\\theta(x - a),b+\\theta(y - b)),\\quad 0<\\theta<1\n",
    "\\]\n",
    "\n",
    "\\end{document}"
   ]
  },
  {
   "cell_type": "markdown",
   "id": "7ac0ab68-f5df-4345-959f-6c772eada077",
   "metadata": {},
   "source": [
    "在量子力学中，一维含时薛定谔方程可表示为：\n",
    "\n",
    "$$\n",
    "i\\hbar\\frac{\\partial}{\\partial t}\\Psi(x,t) = \\left[-\\frac{\\hbar^{2}}{2m}\\frac{\\partial^{2}}{\\partial x^{2}} + V(x,t)\\right]\\Psi(x,t)\n",
    "$$\n",
    "\n",
    "黎曼ζ函数定义如下：\n",
    "\n",
    "$$\n",
    "\\zeta(s) = \\sum_{n = 1}^{\\infty}\\frac{1}{n^{s}} = \\prod_{p\\text{ prime}}\\frac{1}{1 - p^{-s}}, \\quad \\text{Re}(s)>1\n",
    "$$\n",
    "\n",
    "多元函数的泰勒展开式（以二元函数为例）：\n",
    "设 \\(z = f(x,y)\\) 在点 \\((a,b)\\) 具有直到 \\(n + 1\\) 阶的连续偏导数，则有\n",
    "\n",
    "$$\n",
    "f(x,y)=f(a,b)+\\sum_{i = 1}^{n}\\frac{1}{i!}\\left[(x - a)\\frac{\\partial}{\\partial x}+(y - b)\\frac{\\partial}{\\partial y}\\right]^{i}f(a,b)+R_{n}(x,y)\n",
    "$$\n",
    "\n",
    "其中 \\(R_{n}(x,y)\\) 是余项，可由拉格朗日型余项给出：\n",
    "\n",
    "$$\n",
    "R_{n}(x,y)=\\frac{1}{(n + 1)!}\\left[(x - a)\\frac{\\partial}{\\partial x}+(y - b)\\frac{\\partial}{\\partial y}\\right]^{n+1}f(a+\\theta(x - a),b+\\theta(y - b)),\\quad 0<\\theta<1\n",
    "$$\n",
    "    "
   ]
  },
  {
   "cell_type": "code",
   "execution_count": null,
   "id": "5911db4e-2f01-4f46-83ce-4b2d7e3c95cf",
   "metadata": {},
   "outputs": [],
   "source": []
  }
 ],
 "metadata": {
  "kernelspec": {
   "display_name": "Python 3 (ipykernel)",
   "language": "python",
   "name": "python3"
  },
  "language_info": {
   "codemirror_mode": {
    "name": "ipython",
    "version": 3
   },
   "file_extension": ".py",
   "mimetype": "text/x-python",
   "name": "python",
   "nbconvert_exporter": "python",
   "pygments_lexer": "ipython3",
   "version": "3.12.10"
  }
 },
 "nbformat": 4,
 "nbformat_minor": 5
}
