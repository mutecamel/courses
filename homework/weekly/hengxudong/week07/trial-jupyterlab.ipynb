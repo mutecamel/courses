{
 "cells": [
  {
   "cell_type": "code",
   "execution_count": null,
   "id": "59568cd0-50f9-4523-8ab7-27387f26e101",
   "metadata": {},
   "outputs": [],
   "source": []
  },
  {
   "cell_type": "code",
   "execution_count": 1,
   "id": "0c6f27bf-f920-490a-afa2-755d98b2ffe2",
   "metadata": {},
   "outputs": [
    {
     "name": "stdout",
     "output_type": "stream",
     "text": [
      "aaaaa\n"
     ]
    }
   ],
   "source": [
    "x = 5\n",
    "x = \"a\" * x\n",
    "print(x)"
   ]
  },
  {
   "cell_type": "code",
   "execution_count": null,
   "id": "2b73258a-5375-4b68-8bd1-4aec5d0c5b6f",
   "metadata": {},
   "outputs": [],
   "source": []
  },
  {
   "cell_type": "code",
   "execution_count": 4,
   "id": "efde1054-c2ce-448f-8dfe-9dca235fa2d9",
   "metadata": {},
   "outputs": [
    {
     "name": "stdout",
     "output_type": "stream",
     "text": [
      "aaaaa\n"
     ]
    }
   ],
   "source": [
    "x = 5\n",
    "x = \"a\" * x\n",
    "print(x)\n",
    "x = 9"
   ]
  },
  {
   "cell_type": "code",
   "execution_count": null,
   "id": "39876d6f-4a72-4a42-94fc-4dc3005972fb",
   "metadata": {},
   "outputs": [],
   "source": []
  },
  {
   "cell_type": "code",
   "execution_count": 6,
   "id": "6e939c23-5ced-4a6c-b6b4-d3afd3b31c8e",
   "metadata": {},
   "outputs": [
    {
     "name": "stdout",
     "output_type": "stream",
     "text": [
      "aaaaa\n"
     ]
    },
    {
     "data": {
      "text/plain": [
       "27"
      ]
     },
     "execution_count": 6,
     "metadata": {},
     "output_type": "execute_result"
    }
   ],
   "source": [
    "x = 5\n",
    "x = \"a\" * x\n",
    "print(x)\n",
    "x = 9\n",
    "x * 3"
   ]
  },
  {
   "cell_type": "code",
   "execution_count": 7,
   "id": "8d81186d-0886-4f9a-b7cc-b21c24b21551",
   "metadata": {},
   "outputs": [
    {
     "data": {
      "text/plain": [
       "[4, 2, 9]"
      ]
     },
     "execution_count": 7,
     "metadata": {},
     "output_type": "execute_result"
    }
   ],
   "source": [
    "a = [4,2,9]\n",
    "a"
   ]
  },
  {
   "cell_type": "code",
   "execution_count": 8,
   "id": "c5f98932-e8f0-4954-bf53-e0cb29d4f565",
   "metadata": {},
   "outputs": [
    {
     "data": {
      "text/plain": [
       "9"
      ]
     },
     "execution_count": 8,
     "metadata": {},
     "output_type": "execute_result"
    }
   ],
   "source": [
    "a.pop()"
   ]
  },
  {
   "cell_type": "code",
   "execution_count": 9,
   "id": "db095124-1fbe-470a-b21f-85fae87c0669",
   "metadata": {},
   "outputs": [
    {
     "data": {
      "text/plain": [
       "[4, 2]"
      ]
     },
     "execution_count": 9,
     "metadata": {},
     "output_type": "execute_result"
    }
   ],
   "source": [
    "a"
   ]
  },
  {
   "cell_type": "code",
   "execution_count": 10,
   "id": "49b5c8e2-33d0-4aec-a374-8bc4f231b492",
   "metadata": {},
   "outputs": [
    {
     "name": "stdout",
     "output_type": "stream",
     "text": [
      "[4, 2]\n"
     ]
    }
   ],
   "source": [
    "print(a)"
   ]
  },
  {
   "cell_type": "code",
   "execution_count": 11,
   "id": "2a69d78b-5423-42bc-bc4b-45edffce5891",
   "metadata": {},
   "outputs": [],
   "source": [
    "a.append(7)"
   ]
  },
  {
   "cell_type": "code",
   "execution_count": 12,
   "id": "de1cc4ec-bd99-4141-9928-a05850a47c0a",
   "metadata": {},
   "outputs": [
    {
     "data": {
      "text/plain": [
       "[4, 2, 7]"
      ]
     },
     "execution_count": 12,
     "metadata": {},
     "output_type": "execute_result"
    }
   ],
   "source": [
    "a"
   ]
  },
  {
   "cell_type": "code",
   "execution_count": 13,
   "id": "dfb0e7d7-af8f-49b7-85aa-cb3ec613231a",
   "metadata": {},
   "outputs": [
    {
     "data": {
      "text/plain": [
       "9"
      ]
     },
     "execution_count": 13,
     "metadata": {},
     "output_type": "execute_result"
    }
   ],
   "source": [
    "_8"
   ]
  },
  {
   "cell_type": "code",
   "execution_count": 14,
   "id": "dc253fa0-6549-49e4-a41d-3b7a8d3f2f66",
   "metadata": {},
   "outputs": [
    {
     "data": {
      "text/plain": [
       "14"
      ]
     },
     "execution_count": 14,
     "metadata": {},
     "output_type": "execute_result"
    }
   ],
   "source": [
    "_8+5"
   ]
  },
  {
   "cell_type": "code",
   "execution_count": 15,
   "id": "6a8e00fb-baab-427f-b8ce-6bf2ca360ea1",
   "metadata": {},
   "outputs": [
    {
     "name": "stdout",
     "output_type": "stream",
     "text": [
      "hello\n",
      "hello\n",
      "hello\n",
      "hello\n",
      "hello\n",
      "hello\n",
      "hello\n",
      "hello\n",
      "hello\n",
      "hello\n",
      "hello\n",
      "hello\n",
      "hello\n",
      "hello\n",
      "hello\n",
      "hello\n",
      "hello\n",
      "hello\n",
      "hello\n",
      "hello\n",
      "hello\n",
      "hello\n"
     ]
    },
    {
     "ename": "KeyboardInterrupt",
     "evalue": "",
     "output_type": "error",
     "traceback": [
      "\u001b[31m---------------------------------------------------------------------------\u001b[39m",
      "\u001b[31mKeyboardInterrupt\u001b[39m                         Traceback (most recent call last)",
      "\u001b[36mCell\u001b[39m\u001b[36m \u001b[39m\u001b[32mIn[15]\u001b[39m\u001b[32m, line 5\u001b[39m\n\u001b[32m      3\u001b[39m \u001b[38;5;28;01mwhile\u001b[39;00m \u001b[38;5;28;01mTrue\u001b[39;00m:\n\u001b[32m      4\u001b[39m     \u001b[38;5;28mprint\u001b[39m(\u001b[33m'\u001b[39m\u001b[33mhello\u001b[39m\u001b[33m'\u001b[39m)\n\u001b[32m----> \u001b[39m\u001b[32m5\u001b[39m     \u001b[43mtime\u001b[49m\u001b[43m.\u001b[49m\u001b[43msleep\u001b[49m\u001b[43m(\u001b[49m\u001b[32;43m3\u001b[39;49m\u001b[43m)\u001b[49m\n",
      "\u001b[31mKeyboardInterrupt\u001b[39m: "
     ]
    }
   ],
   "source": [
    "import time\n",
    "\n",
    "while True:\n",
    "    print('hello')\n",
    "    time.sleep(3)"
   ]
  },
  {
   "cell_type": "code",
   "execution_count": 16,
   "id": "549f4c38-7cdd-434e-9cfe-e2d596b0a1fb",
   "metadata": {},
   "outputs": [],
   "source": [
    "x = 20"
   ]
  },
  {
   "cell_type": "markdown",
   "id": "2f567a71-621b-4e82-ac12-4d36aa90115a",
   "metadata": {},
   "source": [
    "print('done')"
   ]
  },
  {
   "cell_type": "code",
   "execution_count": 2,
   "id": "afce8c99-c762-4dda-b451-ca1a27045697",
   "metadata": {},
   "outputs": [
    {
     "name": "stdout",
     "output_type": "stream",
     "text": [
      "done\n"
     ]
    }
   ],
   "source": [
    "print('done')"
   ]
  },
  {
   "cell_type": "markdown",
   "id": "0969ca83-48d6-446e-b835-8234e4d8bf13",
   "metadata": {},
   "source": [
    "# 一级标题\n",
    "## 二级标题\n",
    "### 三级标题\n",
    "\n",
    "这是一段普通文本。可以使用 **粗体** 和 *斜体* 来突出显示文字。\n",
    "\n",
    "### 列表\n",
    "#### 无序列表\n",
    "- 列表项 1\n",
    "- 列表项 2\n",
    "- 列表项 3\n",
    "\n",
    "#### 有序列表\n",
    "1. 第一项\n",
    "2. 第二项\n",
    "3. 第三项\n",
    "\n",
    "### 链接\n",
    "这是一个 [示例链接](https://www.example.com)。\n",
    "\n",
    "### 图片\n",
    "![示例图片](https://picsum.photos/200/300)\n",
    "\n",
    "### 代码块\n",
    "```python\n",
    "def hello_world():\n",
    "    print(\"Hello, World!\")\n",
    "\n",
    "hello_world()"
   ]
  },
  {
   "cell_type": "markdown",
   "id": "06909854-f3c1-42d7-8a8b-e192c56fe862",
   "metadata": {},
   "source": [
    "<!DOCTYPE html>\n",
    "<html lang=\"zh-CN\">\n",
    "<head>\n",
    "    <meta charset=\"UTF-8\">\n",
    "    <meta name=\"viewport\" content=\"width=device-width, initial-scale=1.0\">\n",
    "    <title>产品卡片示例</title>\n",
    "    <script src=\"https://cdn.tailwindcss.com\"></script>\n",
    "    <link href=\"https://cdnjs.cloudflare.com/ajax/libs/font-awesome/6.7.2/css/all.min.css\" rel=\"stylesheet\">\n",
    "    \n",
    "    <script>\n",
    "        tailwind.config = {\n",
    "            theme: {\n",
    "                extend: {\n",
    "                    colors: {\n",
    "                        primary: '#3B82F6',\n",
    "                        secondary: '#10B981',\n",
    "                        dark: '#1F2937',\n",
    "                        light: '#F9FAFB'\n",
    "                    },\n",
    "                    fontFamily: {\n",
    "                        inter: ['Inter', 'sans-serif'],\n",
    "                    },\n",
    "                }\n",
    "            }\n",
    "        }\n",
    "    </script>\n",
    "    \n",
    "    <style type=\"text/tailwindcss\">\n",
    "        @layer utilities {\n",
    "            .content-auto {\n",
    "                content-visibility: auto;\n",
    "            }\n",
    "            .card-hover {\n",
    "                @apply transition-all duration-300 hover:shadow-xl hover:-translate-y-1;\n",
    "            }\n",
    "        }\n",
    "    </style>\n",
    "</head>\n",
    "<body class=\"bg-gray-50 font-inter\">\n",
    "    <div class=\"container mx-auto px-4 py-12\">\n",
    "        <div class=\"max-w-md mx-auto\">\n",
    "            <div class=\"bg-white rounded-xl shadow-lg overflow-hidden card-hover\">\n",
    "                <!-- 产品图片 -->\n",
    "                <div class=\"relative h-48 overflow-hidden\">\n",
    "                    <img src=\"https://picsum.photos/id/26/800/600\" alt=\"产品图片\" class=\"w-full h-full object-cover transition-transform duration-500 hover:scale-110\">\n",
    "                    <div class=\"absolute top-4 left-4 bg-primary text-white text-xs font-bold px-3 py-1 rounded-full\">\n",
    "                        新品\n",
    "                    </div>\n",
    "                </div>\n",
    "                \n",
    "                <!-- 产品信息 -->\n",
    "                <div class=\"p-6\">\n",
    "                    <div class=\"flex justify-between items-start mb-3\">\n",
    "                        <h3 class=\"text-xl font-bold text-dark\">高级无线耳机</h3>\n",
    "                        <div class=\"flex items-center\">\n",
    "                            <i class=\"fa-solid fa-star text-yellow-400\"></i>\n",
    "                            <span class=\"ml-1 text-gray-600\">4.8</span>\n",
    "                        </div>\n",
    "                    </div>\n",
    "                    \n",
    "                    <p class=\"text-gray-600 mb-4\">\n",
    "                        采用最新蓝牙技术，提供卓越音质和舒适佩戴体验，长达30小时电池续航。\n",
    "                    </p>\n",
    "                    \n",
    "                    <div class=\"flex justify-between items-center\">\n",
    "                        <div>\n",
    "                            <span class=\"text-2xl font-bold text-dark\">¥899</span>\n",
    "                            <span class=\"text-gray-400 line-through ml-2\">¥1299</span>\n",
    "                        </div>\n",
    "                        \n",
    "                        <button class=\"bg-primary text-white px-4 py-2 rounded-lg font-medium hover:bg-primary/90 transition-colors shadow-md hover:shadow-lg\">\n",
    "                            <i class=\"fa-solid fa-shopping-cart mr-2\"></i> 加入购物车\n",
    "                        </button>\n",
    "                    </div>\n",
    "                </div>\n",
    "            </div>\n",
    "        </div>\n",
    "    </div>\n",
    "</body>\n",
    "</html>"
   ]
  },
  {
   "cell_type": "markdown",
   "id": "846a431a-6963-49c6-bc11-f366e6774167",
   "metadata": {},
   "source": [
    "<!DOCTYPE html>\n",
    "<html lang=\"zh-CN\">\n",
    "<head>\n",
    "    <meta charset=\"UTF-8\">\n",
    "    <meta name=\"viewport\" content=\"width=device-width, initial-scale=1.0\">\n",
    "    <title>产品信息</title>\n",
    "</head>\n",
    "<body>\n",
    "    <h1>高级无线耳机</h1>\n",
    "    \n",
    "    <img src=\"https://picsum.photos/id/26/800/600\" alt=\"高级无线耳机\" width=\"400\">\n",
    "    \n",
    "    <h2>产品特性</h2>\n",
    "    <ul>\n",
    "        <li>采用最新蓝牙5.3技术</li>\n",
    "        <li>主动降噪功能</li>\n",
    "        <li>30小时超长电池续航</li>\n",
    "        <li>IPX7防水等级</li>\n",
    "        <li>触控操作面板</li>\n",
    "    </ul>\n",
    "    \n",
    "    <h2>技术规格</h2>\n",
    "    <table border=\"1\">\n",
    "        <tr>\n",
    "            <td>尺寸</td>\n",
    "            <td>22 x 20 x 30 mm</td>\n",
    "        </tr>\n",
    "        <tr>\n",
    "            <td>重量</td>\n",
    "            <td>5.4g（单耳）</td>\n",
    "        </tr>\n",
    "        <tr>\n",
    "            <td>电池</td>\n",
    "            <td>55mAh（耳机）+ 580mAh（充电盒）</td>\n",
    "        </tr>\n",
    "        <tr>\n",
    "            <td>蓝牙版本</td>\n",
    "            <td>蓝牙5.3</td>\n",
    "        </tr>\n",
    "    </table>\n",
    "    \n",
    "    <h2>用户评价</h2>\n",
    "    <p><strong>李明</strong>: 音质非常出色，降噪效果超乎预期，佩戴也很舒适。</p>\n",
    "    <p><strong>张华</strong>: 电池续航确实很长，我每天使用2小时，充一次电可以用两周。</p>\n",
    "    \n",
    "    <h2>购买信息</h2>\n",
    "    <p>价格: ¥899 (原价: ¥1299)</p>\n",
    "    <p>立即购买: <a href=\"#\">点击这里</a></p>\n",
    "</body>\n",
    "</html>"
   ]
  },
  {
   "cell_type": "markdown",
   "id": "aa14cf91-3f8e-4570-847f-bb974f746c53",
   "metadata": {},
   "source": [
    "<h1>高级无线耳机</h1>\n",
    "\n",
    "<img src=\"https://picsum.photos/id/26/800/600\" alt=\"高级无线耳机\" width=\"400\">\n",
    "\n",
    "<h2>产品特性</h2>\n",
    "<ul>\n",
    "    <li>采用最新蓝牙5.3技术</li>\n",
    "    <li>主动降噪功能</li>\n",
    "    <li>30小时超长电池续航</li>\n",
    "    <li>IPX7防水等级</li>\n",
    "    <li>触控操作面板</li>\n",
    "</ul>\n",
    "\n",
    "<h2>技术规格</h2>\n",
    "<table border=\"1\">\n",
    "    <tr>\n",
    "        <td>尺寸</td>\n",
    "        <td>22 x 20 x 30 mm</td>\n",
    "    </tr>\n",
    "    <tr>\n",
    "        <td>重量</td>\n",
    "        <td>5.4g（单耳）</td>\n",
    "    </tr>\n",
    "    <tr>\n",
    "        <td>电池</td>\n",
    "        <td>55mAh（耳机）+ 580mAh（充电盒）</td>\n",
    "    </tr>\n",
    "    <tr>\n",
    "        <td>蓝牙版本</td>\n",
    "        <td>蓝牙5.3</td>\n",
    "    </tr>\n",
    "</table>\n",
    "\n",
    "<h2>用户评价</h2>\n",
    "<p><strong>李明</strong>: 音质非常出色，降噪效果超乎预期，佩戴也很舒适。</p>\n",
    "<p><strong>张华</strong>: 电池续航确实很长，我每天使用2小时，充一次电可以用两周。</p>\n",
    "\n",
    "<h2>购买信息</h2>\n",
    "<p>价格: ¥899 (原价: ¥1299)</p>\n",
    "<p>立即购买: <a href=\"#\">点击这里</a></p>"
   ]
  },
  {
   "cell_type": "markdown",
   "id": "832582ca-4be2-42da-96c9-18bb3c7a0dd3",
   "metadata": {},
   "source": [
    "### 基础数学公式\n",
    "\n",
    "行内公式：$E=mc^2$ 是爱因斯坦的质能方程。\n",
    "\n",
    "行间公式：\n",
    "$$\n",
    "F(x) = \\int_{a}^{b} f(x) \\, dx\n",
    "$$\n",
    "\n",
    "### 微积分公式\n",
    "\n",
    "牛顿-莱布尼茨公式：\n",
    "$$\n",
    "\\int_{a}^{b} f'(x) \\, dx = f(b) - f(a)\n",
    "$$\n",
    "\n",
    "泰勒展开式：\n",
    "$$\n",
    "f(x) = \\sum_{n=0}^{\\infty} \\frac{f^{(n)}(a)}{n!} (x-a)^n\n",
    "$$\n",
    "\n",
    "### 矩阵与向量\n",
    "\n",
    "矩阵乘法：\n",
    "$$\n",
    "\\begin{bmatrix}\n",
    "a & b \\\\\n",
    "c & d\n",
    "\\end{bmatrix}\n",
    "\\begin{bmatrix}\n",
    "e & f \\\\\n",
    "g & h\n",
    "\\end{bmatrix}\n",
    "=\n",
    "\\begin{bmatrix}\n",
    "ae+bg & af+bh \\\\\n",
    "ce+dg & cf+dh\n",
    "\\end{bmatrix}\n",
    "$$\n",
    "\n",
    "向量点积：\n",
    "$$\n",
    "\\mathbf{a} \\cdot \\mathbf{b} = \\sum_{i=1}^{n} a_i b_i\n",
    "$$\n",
    "\n",
    "### 概率论\n",
    "\n",
    "正态分布概率密度函数：\n",
    "$$\n",
    "f(x) = \\frac{1}{\\sigma \\sqrt{2\\pi}} e^{-\\frac{(x-\\mu)^2}{2\\sigma^2}}\n",
    "$$\n",
    "\n",
    "### 复杂公式\n",
    "\n",
    "麦克斯韦方程组：\n",
    "$$\n",
    "\\begin{align}\n",
    "\\nabla \\cdot \\mathbf{E} &= \\frac{\\rho}{\\epsilon_0} \\\\\n",
    "\\nabla \\cdot \\mathbf{B} &= 0 \\\\\n",
    "\\nabla \\times \\mathbf{E} &= -\\frac{\\partial \\mathbf{B}}{\\partial t} \\\\\n",
    "\\nabla \\times \\mathbf{B} &= \\mu_0 \\mathbf{J} + \\mu_0 \\epsilon_0 \\frac{\\partial \\mathbf{E}}{\\partial t}\n",
    "\\end{align}\n",
    "$$"
   ]
  },
  {
   "cell_type": "code",
   "execution_count": null,
   "id": "bdcffc10-d1f4-4ddb-8dda-fde72febaf24",
   "metadata": {},
   "outputs": [],
   "source": []
  }
 ],
 "metadata": {
  "kernelspec": {
   "display_name": "Python 3 (ipykernel)",
   "language": "python",
   "name": "python3"
  },
  "language_info": {
   "codemirror_mode": {
    "name": "ipython",
    "version": 3
   },
   "file_extension": ".py",
   "mimetype": "text/x-python",
   "name": "python",
   "nbconvert_exporter": "python",
   "pygments_lexer": "ipython3",
   "version": "3.12.10"
  }
 },
 "nbformat": 4,
 "nbformat_minor": 5
}
