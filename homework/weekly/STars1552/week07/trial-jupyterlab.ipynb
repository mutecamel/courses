{
 "cells": [
  {
   "cell_type": "code",
   "execution_count": 1,
   "id": "9494c6db-55f2-49b4-9ddf-41816a78fb54",
   "metadata": {},
   "outputs": [
    {
     "name": "stdout",
     "output_type": "stream",
     "text": [
      "aaaaa\n"
     ]
    }
   ],
   "source": [
    "x = 5\n",
    "x = \"a\" * x\n",
    "print(x)"
   ]
  },
  {
   "cell_type": "code",
   "execution_count": null,
   "id": "c4b542d0-ecd9-4455-94ca-2b8a6cd4a76f",
   "metadata": {},
   "outputs": [],
   "source": []
  },
  {
   "cell_type": "code",
   "execution_count": 2,
   "id": "a7ac654c-e0c5-4cba-9002-f448d2ab14c0",
   "metadata": {},
   "outputs": [
    {
     "name": "stdout",
     "output_type": "stream",
     "text": [
      "aaaaa\n"
     ]
    },
    {
     "data": {
      "text/plain": [
       "27"
      ]
     },
     "execution_count": 2,
     "metadata": {},
     "output_type": "execute_result"
    }
   ],
   "source": [
    "x = 5\n",
    "x = \"a\" * x\n",
    "print(x)\n",
    "x = 9\n",
    "x * 3"
   ]
  },
  {
   "cell_type": "code",
   "execution_count": null,
   "id": "43a70b6d-6154-4912-886f-8c886e13e5a2",
   "metadata": {},
   "outputs": [],
   "source": []
  },
  {
   "cell_type": "code",
   "execution_count": null,
   "id": "f989dd79-3f0e-4188-afbb-6844283445d1",
   "metadata": {},
   "outputs": [],
   "source": [
    "x = 9"
   ]
  },
  {
   "cell_type": "code",
   "execution_count": 3,
   "id": "eb5d51c9-714b-47c6-9384-978f5da7e018",
   "metadata": {},
   "outputs": [
    {
     "data": {
      "text/plain": [
       "[4, 2, 9]"
      ]
     },
     "execution_count": 3,
     "metadata": {},
     "output_type": "execute_result"
    }
   ],
   "source": [
    "a =[4,2,9]\n",
    "a"
   ]
  },
  {
   "cell_type": "code",
   "execution_count": 4,
   "id": "03bda8bc-2942-4efe-83c9-8baf158aa0aa",
   "metadata": {},
   "outputs": [
    {
     "data": {
      "text/plain": [
       "9"
      ]
     },
     "execution_count": 4,
     "metadata": {},
     "output_type": "execute_result"
    }
   ],
   "source": [
    "a.pop()"
   ]
  },
  {
   "cell_type": "code",
   "execution_count": 5,
   "id": "b1fd8536-08ca-466e-9684-fc0e112be4fb",
   "metadata": {},
   "outputs": [
    {
     "data": {
      "text/plain": [
       "[4, 2]"
      ]
     },
     "execution_count": 5,
     "metadata": {},
     "output_type": "execute_result"
    }
   ],
   "source": [
    "a"
   ]
  },
  {
   "cell_type": "code",
   "execution_count": 6,
   "id": "0bbe1e1d-fc71-4f03-8455-6b8b0ec096c2",
   "metadata": {},
   "outputs": [
    {
     "name": "stdout",
     "output_type": "stream",
     "text": [
      "[4, 2]\n"
     ]
    }
   ],
   "source": [
    "print(a)"
   ]
  },
  {
   "cell_type": "code",
   "execution_count": 7,
   "id": "a51b7ed6-182c-4e83-ae4c-e5de484c5235",
   "metadata": {},
   "outputs": [],
   "source": [
    "a.append(7)"
   ]
  },
  {
   "cell_type": "code",
   "execution_count": 8,
   "id": "8e94c17d-8044-4f03-ab8a-aee979123af5",
   "metadata": {},
   "outputs": [
    {
     "data": {
      "text/plain": [
       "[4, 2, 7]"
      ]
     },
     "execution_count": 8,
     "metadata": {},
     "output_type": "execute_result"
    }
   ],
   "source": [
    "a"
   ]
  },
  {
   "cell_type": "code",
   "execution_count": 9,
   "id": "4e092f00-f87d-4279-b8cf-faccea70dae9",
   "metadata": {},
   "outputs": [
    {
     "data": {
      "text/plain": [
       "9"
      ]
     },
     "execution_count": 9,
     "metadata": {},
     "output_type": "execute_result"
    }
   ],
   "source": [
    "_4"
   ]
  },
  {
   "cell_type": "code",
   "execution_count": 10,
   "id": "e67575c1-a791-4d7c-8918-d994329aaac2",
   "metadata": {},
   "outputs": [
    {
     "name": "stdout",
     "output_type": "stream",
     "text": [
      "hellp\n",
      "hellp\n",
      "hellp\n",
      "hellp\n",
      "hellp\n",
      "hellp\n",
      "hellp\n",
      "hellp\n",
      "hellp\n",
      "hellp\n",
      "hellp\n",
      "hellp\n",
      "hellp\n",
      "hellp\n",
      "hellp\n",
      "hellp\n",
      "hellp\n",
      "hellp\n",
      "hellp\n",
      "hellp\n",
      "hellp\n",
      "hellp\n",
      "hellp\n",
      "hellp\n",
      "hellp\n",
      "hellp\n",
      "hellp\n",
      "hellp\n",
      "hellp\n",
      "hellp\n",
      "hellp\n",
      "hellp\n"
     ]
    },
    {
     "ename": "KeyboardInterrupt",
     "evalue": "",
     "output_type": "error",
     "traceback": [
      "\u001b[31m---------------------------------------------------------------------------\u001b[39m",
      "\u001b[31mKeyboardInterrupt\u001b[39m                         Traceback (most recent call last)",
      "\u001b[36mCell\u001b[39m\u001b[36m \u001b[39m\u001b[32mIn[10]\u001b[39m\u001b[32m, line 5\u001b[39m\n\u001b[32m      3\u001b[39m \u001b[38;5;28;01mwhile\u001b[39;00m \u001b[38;5;28;01mTrue\u001b[39;00m:\n\u001b[32m      4\u001b[39m     \u001b[38;5;28mprint\u001b[39m(\u001b[33m'\u001b[39m\u001b[33mhellp\u001b[39m\u001b[33m'\u001b[39m)\n\u001b[32m----> \u001b[39m\u001b[32m5\u001b[39m     \u001b[43mtime\u001b[49m\u001b[43m.\u001b[49m\u001b[43msleep\u001b[49m\u001b[43m(\u001b[49m\u001b[32;43m3\u001b[39;49m\u001b[43m)\u001b[49m\n",
      "\u001b[31mKeyboardInterrupt\u001b[39m: "
     ]
    }
   ],
   "source": [
    "import time\n",
    "\n",
    "while True:\n",
    "    print('hellp')\n",
    "    time.sleep(3)"
   ]
  },
  {
   "cell_type": "code",
   "execution_count": 12,
   "id": "e034fb46-0678-4e8c-9bd9-1db63e222876",
   "metadata": {},
   "outputs": [],
   "source": [
    "x = 20"
   ]
  },
  {
   "cell_type": "code",
   "execution_count": 15,
   "id": "2d84f5b7-64e8-491b-b090-2682ea51e637",
   "metadata": {},
   "outputs": [
    {
     "name": "stdout",
     "output_type": "stream",
     "text": [
      "25\n"
     ]
    }
   ],
   "source": [
    "x = 5\n",
    "print(x ** 2)"
   ]
  },
  {
   "cell_type": "markdown",
   "id": "1f407335-ea4f-4457-9b9e-410342f2ea96",
   "metadata": {},
   "source": [
    "# 一级标题\n",
    "这是一个一级标题，通常用于文章的主标题。\n",
    "\n",
    "## 二级标题\n",
    "二级标题可以用来划分文章的主要部分。\n",
    "\n",
    "### 三级标题\n",
    "三级标题用于进一步细分内容。\n",
    "\n",
    "这是一个普通段落，在这里你可以输入文本内容，进行一般性的描述和阐述。\n",
    "\n",
    "- 无序列表项 1\n",
    "- 无序列表项 2\n",
    "  - 无序列表的子项 1\n",
    "  - 无序列表的子项 2\n",
    "\n",
    "1. 有序列表项 1\n",
    "2. 有序列表项 2\n",
    "\n",
    "[这是一个链接](https://www.example.com)，点击可以跳转到指定的网页。\n",
    "\n",
    "![示例图片](https://example.com/image.jpg \"图片描述\")，这里应该显示一张图片，如果链接有效且图片存在的话。\n",
    "\n",
    "**加粗文本**：使用两个星号包围文本可以使其加粗，用于强调重要内容。\n",
    "\n",
    "*斜体文本*：使用单个星号包围文本可以使其变为斜体，用于突出显示。\n",
    "\n",
    "`单行代码`：使用反引号包围代码片段，表示单行代码。\n",
    "\n",
    "```python\n",
    "# 这是一个 Python 代码块示例\n",
    "def add_numbers(a, b):\n",
    "    return a + b"
   ]
  },
  {
   "cell_type": "markdown",
   "id": "13280fee-f72e-4cf2-8507-0d2e80bb3486",
   "metadata": {},
   "source": [
    "```markdown\n",
    "# 标题 1：Jupyter Notebook 中 Markdown 功能展示\n",
    "\n",
    "## 标题 2：二级标题示例\n",
    "\n",
    "这是一段普通的文本内容，用于介绍和说明一些相关信息。我们可以在 Markdown 中使用不同的格式来突出显示重要内容，例如**加粗**文本和*斜体*文本。\n",
    "\n",
    "### 无序列表\n",
    "- 列表项 1\n",
    "- 列表项 2\n",
    "    - 子列表项 2.1\n",
    "    - 子列表项 2.2\n",
    "- 列表项 3\n",
    "\n",
    "### 有序列表\n",
    "1. 有序列表项 1\n",
    "2. 有序列表项 2\n",
    "3. 有序列表项 3\n",
    "\n",
    "### 表格示例\n",
    "| 表头 1 | 表头 2 |\n",
    "| ---- | ---- |\n",
    "| 单元格 1-1 | 单元格 1-2 |\n",
    "| 单元格 2-1 | 单元格 2-2 |\n",
    "| 单元格 3-1 | 单元格 3-2 |\n",
    "\n",
    "### 图片展示\n",
    "我们可以在 Markdown 中插入图片，例如插入一张本地的图片（假设图片名为 `example.jpg` 且与 notebook 在同一目录下）：\n",
    "![示例图片](example.jpg)\n",
    "\n",
    "也可以插入网络图片，比如插入 Python 的官方 logo：\n",
    "![Python Logo](https://www.python.org/static/community_logos/python-logo-master-v3-TM.png)\n",
    "\n",
    "### 代码块示例\n",
    "以下是 Python 代码块的示例：\n",
    "```python\n",
    "# 这是一个简单的 Python 函数示例\n",
    "def add_numbers(a, b):\n",
    "    return a + b\n",
    "\n",
    "result = add_numbers(3, 5)\n",
    "print(result)\n",
    "```\n",
    "\n",
    "以下是 JavaScript 代码块的示例：\n",
    "```javascript\n",
    "// 这是一个简单的 JavaScript 函数示例\n",
    "function add(a, b) {\n",
    "    return a + b;\n",
    "}\n",
    "\n",
    "let sum = add(2, 4);\n",
    "console.log(sum);\n",
    "```\n",
    "\n",
    "### 引用示例\n",
    "> 这是一段引用的内容，用于引用他人的观点或重要的说明文字。\n",
    "> 可以有多行引用，并且可以在引用中继续使用其他 Markdown 格式，例如**加粗**或*斜体*。"
   ]
  },
  {
   "cell_type": "code",
   "execution_count": null,
   "id": "2499fa0a-5003-4246-b4ab-5783c7abe1eb",
   "metadata": {},
   "outputs": [],
   "source": []
  }
 ],
 "metadata": {
  "kernelspec": {
   "display_name": "Python 3 (ipykernel)",
   "language": "python",
   "name": "python3"
  },
  "language_info": {
   "codemirror_mode": {
    "name": "ipython",
    "version": 3
   },
   "file_extension": ".py",
   "mimetype": "text/x-python",
   "name": "python",
   "nbconvert_exporter": "python",
   "pygments_lexer": "ipython3",
   "version": "3.12.10"
  }
 },
 "nbformat": 4,
 "nbformat_minor": 5
}
