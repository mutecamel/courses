{
 "cells": [
  {
   "cell_type": "code",
   "execution_count": 1,
   "id": "b6588ba8-9db3-4901-9873-6e737453e3e4",
   "metadata": {},
   "outputs": [
    {
     "name": "stdout",
     "output_type": "stream",
     "text": [
      "19\n"
     ]
    }
   ],
   "source": [
    "m = 9 \n",
    "n = 10 \n",
    "x = m + n\n",
    "print(x)"
   ]
  },
  {
   "cell_type": "code",
   "execution_count": 4,
   "id": "ecf18152-5edf-4d57-91b6-9dc9e56a3747",
   "metadata": {},
   "outputs": [
    {
     "name": "stdout",
     "output_type": "stream",
     "text": [
      "19\n"
     ]
    },
    {
     "data": {
      "text/plain": [
       "90"
      ]
     },
     "execution_count": 4,
     "metadata": {},
     "output_type": "execute_result"
    }
   ],
   "source": [
    "m = 9 \n",
    "n = 10 \n",
    "print(m+n)\n",
    "x = 9\n",
    "x*10"
   ]
  },
  {
   "cell_type": "code",
   "execution_count": 5,
   "id": "91e54e18-4f5f-4de7-8ee1-fa8404fa25c4",
   "metadata": {},
   "outputs": [
    {
     "data": {
      "text/plain": [
       "{9, 10, 109, 910}"
      ]
     },
     "execution_count": 5,
     "metadata": {},
     "output_type": "execute_result"
    }
   ],
   "source": [
    "x = {9,10,910,109}\n",
    "x"
   ]
  },
  {
   "cell_type": "code",
   "execution_count": 6,
   "id": "532d194d-ee02-40da-983f-73305c1934db",
   "metadata": {},
   "outputs": [
    {
     "data": {
      "text/plain": [
       "9"
      ]
     },
     "execution_count": 6,
     "metadata": {},
     "output_type": "execute_result"
    }
   ],
   "source": [
    "x.pop()"
   ]
  },
  {
   "cell_type": "code",
   "execution_count": 7,
   "id": "6796a5cc-59e9-405f-a058-d6910592de61",
   "metadata": {},
   "outputs": [
    {
     "data": {
      "text/plain": [
       "{10, 109, 910}"
      ]
     },
     "execution_count": 7,
     "metadata": {},
     "output_type": "execute_result"
    }
   ],
   "source": [
    "x"
   ]
  },
  {
   "cell_type": "code",
   "execution_count": 8,
   "id": "c45b4e06-ce9d-465d-b937-fda306f8dca4",
   "metadata": {},
   "outputs": [
    {
     "name": "stdout",
     "output_type": "stream",
     "text": [
      "{10, 109, 910}\n"
     ]
    }
   ],
   "source": [
    "print(x)"
   ]
  },
  {
   "cell_type": "code",
   "execution_count": 11,
   "id": "1f6a3e4f-f81a-4ed5-b4ba-394e44bdadad",
   "metadata": {},
   "outputs": [],
   "source": [
    "m = [9,10,109,910]"
   ]
  },
  {
   "cell_type": "code",
   "execution_count": 12,
   "id": "eb1da0c8-acb4-46c6-a731-3c45e4cbe369",
   "metadata": {},
   "outputs": [
    {
     "data": {
      "text/plain": [
       "[9, 10, 109, 910]"
      ]
     },
     "execution_count": 12,
     "metadata": {},
     "output_type": "execute_result"
    }
   ],
   "source": [
    "m"
   ]
  },
  {
   "cell_type": "code",
   "execution_count": 13,
   "id": "81b6a7e9-c8d3-4106-b15d-6c7886a9ac5d",
   "metadata": {},
   "outputs": [
    {
     "data": {
      "text/plain": [
       "910"
      ]
     },
     "execution_count": 13,
     "metadata": {},
     "output_type": "execute_result"
    }
   ],
   "source": [
    "m.pop()"
   ]
  },
  {
   "cell_type": "code",
   "execution_count": 14,
   "id": "560ec43a-e92d-40e6-bf7b-03cdfe64751c",
   "metadata": {},
   "outputs": [
    {
     "data": {
      "text/plain": [
       "[9, 10, 109]"
      ]
     },
     "execution_count": 14,
     "metadata": {},
     "output_type": "execute_result"
    }
   ],
   "source": [
    "m"
   ]
  },
  {
   "cell_type": "code",
   "execution_count": 15,
   "id": "37d8df9d-9940-468c-ac58-816d988ba346",
   "metadata": {},
   "outputs": [],
   "source": [
    "m.append(1)"
   ]
  },
  {
   "cell_type": "code",
   "execution_count": 16,
   "id": "f831d64a-f642-452e-b1dc-14febf0661b9",
   "metadata": {},
   "outputs": [
    {
     "data": {
      "text/plain": [
       "[9, 10, 109, 1]"
      ]
     },
     "execution_count": 16,
     "metadata": {},
     "output_type": "execute_result"
    }
   ],
   "source": [
    "m"
   ]
  },
  {
   "cell_type": "code",
   "execution_count": 17,
   "id": "2c3f51f0-2317-4adf-9e9f-a203623aa82e",
   "metadata": {},
   "outputs": [
    {
     "data": {
      "text/plain": [
       "910"
      ]
     },
     "execution_count": 17,
     "metadata": {},
     "output_type": "execute_result"
    }
   ],
   "source": [
    "_13"
   ]
  },
  {
   "cell_type": "code",
   "execution_count": 18,
   "id": "0a5ad73a-589f-4cee-9569-19a83c0238f2",
   "metadata": {},
   "outputs": [
    {
     "data": {
      "text/plain": [
       "1019"
      ]
     },
     "execution_count": 18,
     "metadata": {},
     "output_type": "execute_result"
    }
   ],
   "source": [
    "_13+109"
   ]
  },
  {
   "cell_type": "code",
   "execution_count": 19,
   "id": "b01f5a14-99c6-4111-a437-1cb8413dda03",
   "metadata": {},
   "outputs": [
    {
     "name": "stdout",
     "output_type": "stream",
     "text": [
      "dokyeom\n",
      "dokyeom\n",
      "dokyeom\n",
      "dokyeom\n",
      "dokyeom\n",
      "dokyeom\n",
      "dokyeom\n",
      "dokyeom\n",
      "dokyeom\n",
      "dokyeom\n",
      "dokyeom\n",
      "dokyeom\n",
      "dokyeom\n",
      "dokyeom\n",
      "dokyeom\n",
      "dokyeom\n",
      "dokyeom\n",
      "dokyeom\n",
      "dokyeom\n",
      "dokyeom\n",
      "dokyeom\n",
      "dokyeom\n",
      "dokyeom\n",
      "dokyeom\n",
      "dokyeom\n",
      "dokyeom\n",
      "dokyeom\n",
      "dokyeom\n"
     ]
    },
    {
     "ename": "KeyboardInterrupt",
     "evalue": "",
     "output_type": "error",
     "traceback": [
      "\u001b[31m---------------------------------------------------------------------------\u001b[39m",
      "\u001b[31mKeyboardInterrupt\u001b[39m                         Traceback (most recent call last)",
      "\u001b[36mCell\u001b[39m\u001b[36m \u001b[39m\u001b[32mIn[19]\u001b[39m\u001b[32m, line 5\u001b[39m\n\u001b[32m      3\u001b[39m \u001b[38;5;28;01mwhile\u001b[39;00m \u001b[38;5;28;01mTrue\u001b[39;00m:\n\u001b[32m      4\u001b[39m     \u001b[38;5;28mprint\u001b[39m(\u001b[33m'\u001b[39m\u001b[33mdokyeom\u001b[39m\u001b[33m'\u001b[39m)\n\u001b[32m----> \u001b[39m\u001b[32m5\u001b[39m     \u001b[43mtime\u001b[49m\u001b[43m.\u001b[49m\u001b[43msleep\u001b[49m\u001b[43m(\u001b[49m\u001b[32;43m3\u001b[39;49m\u001b[43m)\u001b[49m\n",
      "\u001b[31mKeyboardInterrupt\u001b[39m: "
     ]
    }
   ],
   "source": [
    "import time\n",
    "\n",
    "while True:\n",
    "    print('dokyeom')\n",
    "    time.sleep(3)"
   ]
  },
  {
   "cell_type": "code",
   "execution_count": 20,
   "id": "4e6df467-ff33-4987-830a-e108646084ae",
   "metadata": {},
   "outputs": [
    {
     "name": "stdout",
     "output_type": "stream",
     "text": [
      "mingyu\n"
     ]
    }
   ],
   "source": [
    "x = \"mingyu\"\n",
    "print(x)"
   ]
  },
  {
   "cell_type": "markdown",
   "id": "96f9f171-1dbc-4801-a967-11d9408a6f2c",
   "metadata": {},
   "source": [
    "# 探索太阳系的奥秘\n",
    "\n",
    "## 一、太阳系简介\n",
    "太阳系是一个以太阳为中心，受太阳引力约束在一起的天体系统，包括太阳、行星及其卫星、矮行星、小行星、彗星和行星际物质。\n",
    "\n",
    "### 太阳系的主要成员\n",
    "- **太阳**：太阳系的中心天体，占有太阳系总体质量的 99.86%。\n",
    "- **八大行星**：水星、金星、地球、火星、木星、土星、天王星、海王星。\n",
    "- **矮行星**：冥王星等。\n",
    "- **小行星**：主要分布在火星和木星轨道之间的小行星带。\n",
    "- **彗星**：由冰和尘埃组成，具有独特的彗尾。\n",
    "\n",
    "## 二、八大行星数据对比\n",
    "\n",
    "| 行星名称 | 直径（千米） | 与太阳平均距离（亿千米） | 公转周期（地球年） | 卫星数量 |\n",
    "| ---- | ---- | ---- | ---- | ---- |\n",
    "| 水星 | 4880 | 0.579 | 0.241 | 0 |\n",
    "| 金星 | 12103.6 | 1.082 | 0.615 | 0 |\n",
    "| 地球 | 12742 | 1.496 | 1 | 1 |\n",
    "| 火星 | 6779 | 2.279 | 1.881 | 2 |\n",
    "| 木星 | 139822 | 7.785 | 11.86 | 79 |\n",
    "| 土星 | 116464 | 14.334 | 29.46 | 82 |\n",
    "| 天王星 | 50724 | 28.725 | 84.01 | 27 |\n",
    "| 海王星 | 49244 | 44.951 | 164.8 | 14 |\n",
    "\n",
    "## 三、行星的运行轨道\n",
    "\n",
    "### 开普勒定律\n",
    "行星运动遵循开普勒三大定律，用数学公式表达如下：\n",
    "\n",
    "#### 开普勒第一定律（轨道定律）\n",
    "所有行星绕太阳运动的轨道都是椭圆，太阳处在椭圆的一个焦点上。数学表达式为：\n",
    "\\[ \\frac{x^{2}}{a^{2}}+\\frac{y^{2}}{b^{2}} = 1 \\]\n",
    "其中 \\(a\\) 为椭圆的半长轴，\\(b\\) 为椭圆的半短轴。\n",
    "\n",
    "#### 开普勒第二定律（面积定律）\n",
    "对任意一个行星来说，它与太阳的连线在相等的时间内扫过相等的面积。\n",
    "\n",
    "#### 开普勒第三定律（周期定律）\n",
    "所有行星的轨道的半长轴的三次方跟它的公转周期的二次方的比值都相等。数学表达式为：\n",
    "\\[ \\frac{a^{3}}{T^{2}}=k \\]\n",
    "其中 \\(a\\) 是行星公转轨道半长轴，\\(T\\) 是行星公转周期，\\(k\\) 是一个与行星无关的常量。\n",
    "\n",
    "## 四、太阳系的美丽图片\n",
    "\n",
    "### 太阳\n",
    "![太阳](https://upload.wikimedia.org/wikipedia/commons/thumb/4/49/Solar_flare_from_SDO.jpg/1200px-Solar_flare_from_SDO.jpg)\n",
    "这张图片展示了太阳表面的一次耀斑爆发，耀斑是太阳活动的重要表现之一。\n",
    "\n",
    "### 地球\n",
    "![地球](https://upload.wikimedia.org/wikipedia/commons/thumb/9/97/The_Earth_seen_from_Apollo_17.jpg/1200px-The_Earth_seen_from_Apollo_17.jpg)\n",
    "从太空中看，地球是一个蓝色的星球，被称为“蓝色弹珠”。\n",
    "\n",
    "### 土星\n",
    "![土星](https://upload.wikimedia.org/wikipedia/commons/thumb/c/c7/Saturn_during_Equinox.jpg/1200px-Saturn_during_Equinox.jpg)\n",
    "土星以其壮观的光环而闻名，光环主要由冰和尘埃组成。\n",
    "\n",
    "## 五、进一步探索的资源\n",
    "\n",
    "### 相关书籍\n",
    "- [《时间简史》](https://book.douban.com/subject/1086360/)：作者霍金以通俗易懂的语言介绍了宇宙的起源、黑洞等概念。\n",
    "- [《果壳中的宇宙》](https://book.douban.com/subject/1043713/)：继续探讨宇宙的奥秘，包括时间旅行等有趣的话题。\n",
    "\n",
    "### 在线科普网站\n",
    "- [NASA 官方网站](https://www.nasa.gov/)：提供了大量关于太阳系、宇宙探索的最新消息和研究成果。\n",
    "- [中国国家航天局官网](https://www.cae.ac.cn/)：了解中国航天事业的发展和相关的科学研究。"
   ]
  },
  {
   "cell_type": "markdown",
   "id": "ba0d1037-3dd6-4699-afd3-2365b61a8248",
   "metadata": {},
   "source": [
    "\n",
    "<h1>欢迎来到我的网页</h1>\n",
    "\n",
    "<!-- 段落内容 -->\n",
    "<p>这是一个不使用 CSS 的简单 HTML 示例，用于展示基本的 HTML 元素。</p>\n",
    "\n",
    "<!-- 无序列表 -->\n",
    "<h2>无序列表示例</h2>\n",
    "<ul>\n",
    "    <li>苹果</li>\n",
    "    <li>香蕉</li>\n",
    "    <li>橙子</li>\n",
    "</ul>\n",
    "\n",
    "<!-- 有序列表 -->\n",
    "<h2>有序列表示例</h2>\n",
    "<ol>\n",
    "    <li>起床</li>\n",
    "    <li>刷牙洗脸</li>\n",
    "    <li>吃早餐</li>\n",
    "</ol>\n",
    "\n",
    "<!-- 表格 -->\n",
    "<h2>表格示例</h2>\n",
    "<table>\n",
    "    <tr>\n",
    "        <th>姓名</th>\n",
    "        <th>年龄</th>\n",
    "        <th>职业</th>\n",
    "    </tr>\n",
    "    <tr>\n",
    "        <td>张三</td>\n",
    "        <td>25</td>\n",
    "        <td>程序员</td>\n",
    "    </tr>\n",
    "    <tr>\n",
    "        <td>李四</td>\n",
    "        <td>30</td>\n",
    "        <td>设计师</td>\n",
    "    </tr>\n",
    "</table>\n",
    "\n",
    "<!-- 图片 -->\n",
    "<h2>图片示例</h2>\n",
    "<img src=\"https://picsum.photos/200\" alt=\"示例图片\">\n",
    "\n",
    "<!-- 链接 -->\n",
    "<h2>链接示例</h2>\n",
    "<p>访问 <a href=\"https://www.example.com\">示例网站</a> 获取更多信息。</p>"
   ]
  },
  {
   "cell_type": "markdown",
   "id": "9907dafc-637b-40ff-b803-19485670e18a",
   "metadata": {},
   "source": [
    "\n",
    "在行内可以插入简单的公式，如 $a^2 + b^2 = c^2$，这就是著名的勾股定理。\n",
    "\n",
    "下面是一些块级公式：\n",
    "\n",
    "### 二次函数求根公式\n",
    "对于一元二次方程 $ax^2 + bx + c = 0$（$a\\neq0$），其求根公式为：\n",
    "\\[\n",
    "x = \\frac{-b \\pm \\sqrt{b^2 - 4ac}}{2a}\n",
    "\\]\n",
    "\n",
    "### 矩阵表示\n",
    "一个 $2\\times2$ 的矩阵可以表示为：\n",
    "\\[\n",
    "A = \n",
    "\\begin{pmatrix}\n",
    "a & b \\\\\n",
    "c & d\n",
    "\\end{pmatrix}\n",
    "\\]\n",
    "\n",
    "### 积分公式\n",
    "定积分的牛顿 - 莱布尼茨公式：\n",
    "\\[\n",
    "\\int_{a}^{b} f(x)dx = F(b) - F(a)\n",
    "\\]\n",
    "其中 $F(x)$ 是 $f(x)$ 的一个原函数。\n",
    "\n",
    "### 级数展开\n",
    "指数函数 $e^x$ 的麦克劳林级数展开式为：\n",
    "\\[\n",
    "e^x = \\sum_{n = 0}^{\\infty} \\frac{x^n}{n!} = 1 + x + \\frac{x^2}{2!} + \\frac{x^3}{3!} + \\cdots\n",
    "\\]\n",
    "\n",
    "### 向量运算\n",
    "设 $\\vec{a}=(a_1,a_2,a_3)$，$\\vec{b}=(b_1,b_2,b_3)$，则它们的点积为：\n",
    "\\[\n",
    "\\vec{a} \\cdot \\vec{b} = a_1b_1 + a_2b_2 + a_3b_3\n",
    "\\]\n",
    "\n",
    "\\end{document}"
   ]
  },
  {
   "cell_type": "code",
   "execution_count": null,
   "id": "a1ef724c-17d6-45e8-8a73-cef51528e77b",
   "metadata": {},
   "outputs": [],
   "source": []
  }
 ],
 "metadata": {
  "kernelspec": {
   "display_name": "Python 3 (ipykernel)",
   "language": "python",
   "name": "python3"
  },
  "language_info": {
   "codemirror_mode": {
    "name": "ipython",
    "version": 3
   },
   "file_extension": ".py",
   "mimetype": "text/x-python",
   "name": "python",
   "nbconvert_exporter": "python",
   "pygments_lexer": "ipython3",
   "version": "3.12.10"
  }
 },
 "nbformat": 4,
 "nbformat_minor": 5
}
