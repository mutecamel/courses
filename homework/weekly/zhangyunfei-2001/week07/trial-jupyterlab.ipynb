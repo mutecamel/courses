{
 "cells": [
  {
   "cell_type": "code",
   "execution_count": 1,
   "id": "c0536ff3-26d8-4361-93de-753e926258f5",
   "metadata": {},
   "outputs": [
    {
     "name": "stdout",
     "output_type": "stream",
     "text": [
      "aaaaa\n"
     ]
    }
   ],
   "source": [
    "x=5\n",
    "x=\"a\"*x\n",
    "print(x)"
   ]
  },
  {
   "cell_type": "code",
   "execution_count": 2,
   "id": "24a55879-41c1-40e2-bb66-288d234571e7",
   "metadata": {},
   "outputs": [
    {
     "data": {
      "text/plain": [
       "[1, 2, 3]"
      ]
     },
     "execution_count": 2,
     "metadata": {},
     "output_type": "execute_result"
    }
   ],
   "source": [
    "x=[1,2,3]\n",
    "x"
   ]
  },
  {
   "cell_type": "code",
   "execution_count": 3,
   "id": "ee69764f-6236-4784-9126-7b0ec7c1e21c",
   "metadata": {},
   "outputs": [
    {
     "name": "stdout",
     "output_type": "stream",
     "text": [
      "[1, 2, 3]\n"
     ]
    }
   ],
   "source": [
    "x=[1,2,3]\n",
    "print(x)"
   ]
  },
  {
   "cell_type": "markdown",
   "id": "f5772f39-12b4-4ac4-9110-308d3c4f7257",
   "metadata": {},
   "source": [
    "# Jupyter Notebook 功能展示\n",
    "\n",
    "## 一、文本样式\n",
    "在 Markdown 中，可以轻松设置不同的文本样式。\n",
    "- **粗体**：使用两个星号 `**` 包裹文本，如 `**粗体**`。\n",
    "- *斜体*：使用一个星号 `*` 包裹文本，如 `*斜体*`。\n",
    "- ~~删除线~~：使用两个波浪线 `~~` 包裹文本，如 `~~删除线~~`。\n",
    "\n",
    "## 二、列表\n",
    "### 无序列表\n",
    "无序列表使用 `-`、`+` 或 `*` 开头。\n",
    "- 项目 1\n",
    "- 项目 2\n",
    "- 项目 3\n",
    "\n",
    "### 有序列表\n",
    "有序列表使用数字加 `.` 开头。\n",
    "1. 第一项\n",
    "2. 第二项\n",
    "3. 第三项\n",
    "\n",
    "## 三、代码块\n",
    "代码块可以用来展示代码，并且支持语法高亮。\n",
    "```python\n",
    "# 这是一段 Python 代码\n",
    "def greet(name):\n",
    "    return f\"Hello, {name}!\"\n",
    "\n",
    "print(greet(\"Jupyter\"))\n",
    "```\n",
    "\n",
    "```javascript\n",
    "// 这是一段 JavaScript 代码\n",
    "function greet(name) {\n",
    "    return `Hello, ${name}!`;\n",
    "}\n",
    "console.log(greet(\"Jupyter\"));\n",
    "```\n",
    "\n",
    "## 四、引用\n",
    "引用可以用来突出显示重要的语句。\n",
    "> 知识就是力量。 - 培根\n",
    "\n",
    "## 五、链接\n",
    "链接可以指向网页、文件等。\n",
    "- [访问 Google](https://www.google.com)\n",
    "- [查看 GitHub 仓库](https://github.com)\n",
    "\n",
    "## 六、图片\n",
    "可以插入本地图片或网络图片。\n",
    "![示例图片](https://picsum.photos/800/400)\n",
    "\n",
    "## 七、表格\n",
    "表格可以清晰地展示数据。\n",
    "| 姓名 | 年龄 | 职业 |\n",
    "| ---- | ---- | ---- |\n",
    "| 张三 | 25 | 工程师 |\n",
    "| 李四 | 30 | 教师 |\n",
    "| 王五 | 22 | 学生 |\n",
    "\n",
    "## 八、数学公式\n",
    "在 Jupyter Notebook 中，可以使用 LaTeX 语法来编写数学公式。\n",
    "### 行内公式\n",
    "行内公式使用 `$` 包裹，如 $E=mc^2$。\n",
    "\n",
    "### 块级公式\n",
    "块级公式使用 `$$` 包裹，如下所示：\n",
    "$$\n",
    "\\int_{a}^{b} f(x) dx = F(b) - F(a)\n",
    "$$\n"
   ]
  },
  {
   "cell_type": "markdown",
   "id": "89b65345-b0a8-4dc6-b3e2-03c44f503124",
   "metadata": {},
   "source": [
    "<!DOCTYPE html>\n",
    "<html lang=\"en\">\n",
    "\n",
    "<head>\n",
    "    <meta charset=\"UTF-8\">\n",
    "    <meta name=\"viewport\" content=\"width=device-width, initial-scale=1.0\">\n",
    "    <title>无 CSS 的 HTML 表格</title>\n",
    "</head>\n",
    "\n",
    "<body>\n",
    "    <table>\n",
    "        <thead>\n",
    "            <tr>\n",
    "                <th>姓名</th>\n",
    "                <th>年龄</th>\n",
    "                <th>职业</th>\n",
    "            </tr>\n",
    "        </thead>\n",
    "        <tbody>\n",
    "            <tr>\n",
    "                <td>张三</td>\n",
    "                <td>28</td>\n",
    "                <td>软件工程师</td>\n",
    "            </tr>\n",
    "            <tr>\n",
    "                <td>李四</td>\n",
    "                <td>32</td>\n",
    "                <td>教师</td>\n",
    "            </tr>\n",
    "            <tr>\n",
    "                <td>王五</td>\n",
    "                <td>25</td>\n",
    "                <td>设计师</td>\n",
    "            </tr>\n",
    "        </tbody>\n",
    "    </table>\n",
    "</body>\n",
    "\n",
    "</html>    "
   ]
  },
  {
   "cell_type": "markdown",
   "id": "3a970277-61a1-4d83-9fae-9229b89f2562",
   "metadata": {},
   "source": [
    "\n",
    "\n",
    "$$\n",
    "\\mathcal{F}\\left\\{ \\frac{\\partial^2 u(x,t)}{\\partial x^2} + k\\frac{\\partial u(x,t)}{\\partial t} \\right\\} = \\int_{-\\infty}^{\\infty} \\left( \\frac{\\partial^2 u(x,t)}{\\partial x^2} + k\\frac{\\partial u(x,t)}{\\partial t} \\right) e^{-i\\omega x} dx = -\\omega^2 U(\\omega,t) + ik\\omega \\frac{\\partial U(\\omega,t)}{\\partial t}\n",
    "$$\n",
    "\n"
   ]
  },
  {
   "cell_type": "code",
   "execution_count": null,
   "id": "9e502dfa-c0e7-4069-99cb-17cb01e5ac5f",
   "metadata": {},
   "outputs": [],
   "source": []
  }
 ],
 "metadata": {
  "kernelspec": {
   "display_name": "Python 3 (ipykernel)",
   "language": "python",
   "name": "python3"
  },
  "language_info": {
   "codemirror_mode": {
    "name": "ipython",
    "version": 3
   },
   "file_extension": ".py",
   "mimetype": "text/x-python",
   "name": "python",
   "nbconvert_exporter": "python",
   "pygments_lexer": "ipython3",
   "version": "3.12.10"
  }
 },
 "nbformat": 4,
 "nbformat_minor": 5
}
