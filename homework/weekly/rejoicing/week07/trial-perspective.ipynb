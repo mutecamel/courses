{
 "cells": [
  {
   "cell_type": "code",
   "execution_count": 2,
   "id": "3a3e9249-2c8a-478d-bffa-4e5b3041f1b1",
   "metadata": {},
   "outputs": [],
   "source": [
    "import polars as pl"
   ]
  },
  {
   "cell_type": "code",
   "execution_count": 3,
   "id": "06c00f91-4eb7-4842-b337-22416ae8e96f",
   "metadata": {},
   "outputs": [],
   "source": [
    "from perspective.widget import PerspectiveWidget"
   ]
  },
  {
   "cell_type": "code",
   "execution_count": 4,
   "id": "5f1d198e-1a9f-49fc-affd-d7cb6668cf4d",
   "metadata": {},
   "outputs": [],
   "source": [
    "d1 = pl.read_parquet(\"new_share.parquet\")"
   ]
  },
  {
   "cell_type": "code",
   "execution_count": 5,
   "id": "e00caec7-5030-4aaf-b7dc-363521237871",
   "metadata": {},
   "outputs": [],
   "source": [
    "d2 = pl.read_parquet(\"stock_basic.parquet\")"
   ]
  },
  {
   "cell_type": "code",
   "execution_count": 6,
   "id": "f8760e9e-bd6d-4e34-8175-7e37e590fc9f",
   "metadata": {},
   "outputs": [
    {
     "data": {
      "text/html": [
       "<div><style>\n",
       ".dataframe > thead > tr,\n",
       ".dataframe > tbody > tr {\n",
       "  text-align: right;\n",
       "  white-space: pre-wrap;\n",
       "}\n",
       "</style>\n",
       "<small>shape: (2_000, 12)</small><table border=\"1\" class=\"dataframe\"><thead><tr><th>ts_code</th><th>sub_code</th><th>name</th><th>ipo_date</th><th>issue_date</th><th>amount</th><th>market_amount</th><th>price</th><th>pe</th><th>limit_amount</th><th>funds</th><th>ballot</th></tr><tr><td>str</td><td>str</td><td>str</td><td>str</td><td>str</td><td>f64</td><td>f64</td><td>f64</td><td>f64</td><td>f64</td><td>f64</td><td>f64</td></tr></thead><tbody><tr><td>&quot;603014.SH&quot;</td><td>&quot;732014&quot;</td><td>&quot;威高血净&quot;</td><td>&quot;20250508&quot;</td><td>null</td><td>4114.0</td><td>0.0</td><td>0.0</td><td>0.0</td><td>1.1</td><td>0.0</td><td>0.0</td></tr><tr><td>&quot;301595.SZ&quot;</td><td>&quot;301595&quot;</td><td>&quot;太力科技&quot;</td><td>&quot;20250508&quot;</td><td>null</td><td>2707.0</td><td>0.0</td><td>0.0</td><td>0.0</td><td>0.65</td><td>0.0</td><td>0.0</td></tr><tr><td>&quot;688755.SH&quot;</td><td>&quot;787755&quot;</td><td>&quot;汉邦科技&quot;</td><td>&quot;20250507&quot;</td><td>null</td><td>2200.0</td><td>528.0</td><td>22.77</td><td>26.35</td><td>0.5</td><td>5.009</td><td>0.0</td></tr><tr><td>&quot;301636.SZ&quot;</td><td>&quot;301636&quot;</td><td>&quot;泽润新能&quot;</td><td>&quot;20250428&quot;</td><td>null</td><td>1597.0</td><td>774.0</td><td>33.06</td><td>17.57</td><td>0.45</td><td>5.279</td><td>0.02</td></tr><tr><td>&quot;920068.BJ&quot;</td><td>&quot;920068&quot;</td><td>&quot;天工股份&quot;</td><td>&quot;20250428&quot;</td><td>null</td><td>6900.0</td><td>4200.0</td><td>3.94</td><td>15.19</td><td>255.0</td><td>2.719</td><td>0.04</td></tr><tr><td>&hellip;</td><td>&hellip;</td><td>&hellip;</td><td>&hellip;</td><td>&hellip;</td><td>&hellip;</td><td>&hellip;</td><td>&hellip;</td><td>&hellip;</td><td>&hellip;</td><td>&hellip;</td><td>&hellip;</td></tr><tr><td>&quot;300777.SZ&quot;</td><td>&quot;300777&quot;</td><td>&quot;中简科技&quot;</td><td>&quot;20190506&quot;</td><td>&quot;20190516&quot;</td><td>4001.0</td><td>3601.0</td><td>6.06</td><td>22.98</td><td>1.1</td><td>2.425</td><td>0.04</td></tr><tr><td>&quot;603267.SH&quot;</td><td>&quot;732267&quot;</td><td>&quot;鸿远电子&quot;</td><td>&quot;20190430&quot;</td><td>&quot;20190515&quot;</td><td>4134.0</td><td>3721.0</td><td>20.24</td><td>16.5</td><td>1.6</td><td>8.367</td><td>0.03</td></tr><tr><td>&quot;600989.SH&quot;</td><td>&quot;730989&quot;</td><td>&quot;宝丰能源&quot;</td><td>&quot;20190430&quot;</td><td>&quot;20190516&quot;</td><td>73336.0</td><td>66002.0</td><td>11.12</td><td>22.07</td><td>22.0</td><td>81.55</td><td>0.25</td></tr><tr><td>&quot;300778.SZ&quot;</td><td>&quot;300778&quot;</td><td>&quot;新城市&quot;</td><td>&quot;20190425&quot;</td><td>&quot;20190510&quot;</td><td>2000.0</td><td>2000.0</td><td>27.33</td><td>22.99</td><td>2.0</td><td>5.466</td><td>0.02</td></tr><tr><td>&quot;002953.SZ&quot;</td><td>&quot;002953&quot;</td><td>&quot;日丰股份&quot;</td><td>&quot;20190424&quot;</td><td>&quot;20190509&quot;</td><td>4302.0</td><td>3872.0</td><td>10.52</td><td>16.34</td><td>1.7</td><td>4.526</td><td>0.03</td></tr></tbody></table></div>"
      ],
      "text/plain": [
       "shape: (2_000, 12)\n",
       "┌─────┬─────┬─────┬────────┬───┬───────┬───────┬───────┬───────┐\n",
       "│ ts_ ┆ sub ┆ nam ┆ ipo_da ┆ … ┆ pe    ┆ limit ┆ funds ┆ ballo │\n",
       "│ cod ┆ _co ┆ e   ┆ te     ┆   ┆ ---   ┆ _amou ┆ ---   ┆ t     │\n",
       "│ e   ┆ de  ┆ --- ┆ ---    ┆   ┆ f64   ┆ nt    ┆ f64   ┆ ---   │\n",
       "│ --- ┆ --- ┆ str ┆ str    ┆   ┆       ┆ ---   ┆       ┆ f64   │\n",
       "│ str ┆ str ┆     ┆        ┆   ┆       ┆ f64   ┆       ┆       │\n",
       "╞═════╪═════╪═════╪════════╪═══╪═══════╪═══════╪═══════╪═══════╡\n",
       "│ 603 ┆ 732 ┆ 威  ┆ 202505 ┆ … ┆ 0.0   ┆ 1.1   ┆ 0.0   ┆ 0.0   │\n",
       "│ 014 ┆ 014 ┆ 高  ┆ 08     ┆   ┆       ┆       ┆       ┆       │\n",
       "│ .SH ┆     ┆ 血  ┆        ┆   ┆       ┆       ┆       ┆       │\n",
       "│     ┆     ┆ 净  ┆        ┆   ┆       ┆       ┆       ┆       │\n",
       "│ 301 ┆ 301 ┆ 太  ┆ 202505 ┆ … ┆ 0.0   ┆ 0.65  ┆ 0.0   ┆ 0.0   │\n",
       "│ 595 ┆ 595 ┆ 力  ┆ 08     ┆   ┆       ┆       ┆       ┆       │\n",
       "│ .SZ ┆     ┆ 科  ┆        ┆   ┆       ┆       ┆       ┆       │\n",
       "│     ┆     ┆ 技  ┆        ┆   ┆       ┆       ┆       ┆       │\n",
       "│ 688 ┆ 787 ┆ 汉  ┆ 202505 ┆ … ┆ 26.35 ┆ 0.5   ┆ 5.009 ┆ 0.0   │\n",
       "│ 755 ┆ 755 ┆ 邦  ┆ 07     ┆   ┆       ┆       ┆       ┆       │\n",
       "│ .SH ┆     ┆ 科  ┆        ┆   ┆       ┆       ┆       ┆       │\n",
       "│     ┆     ┆ 技  ┆        ┆   ┆       ┆       ┆       ┆       │\n",
       "│ 301 ┆ 301 ┆ 泽  ┆ 202504 ┆ … ┆ 17.57 ┆ 0.45  ┆ 5.279 ┆ 0.02  │\n",
       "│ 636 ┆ 636 ┆ 润  ┆ 28     ┆   ┆       ┆       ┆       ┆       │\n",
       "│ .SZ ┆     ┆ 新  ┆        ┆   ┆       ┆       ┆       ┆       │\n",
       "│     ┆     ┆ 能  ┆        ┆   ┆       ┆       ┆       ┆       │\n",
       "│ 920 ┆ 920 ┆ 天  ┆ 202504 ┆ … ┆ 15.19 ┆ 255.0 ┆ 2.719 ┆ 0.04  │\n",
       "│ 068 ┆ 068 ┆ 工  ┆ 28     ┆   ┆       ┆       ┆       ┆       │\n",
       "│ .BJ ┆     ┆ 股  ┆        ┆   ┆       ┆       ┆       ┆       │\n",
       "│     ┆     ┆ 份  ┆        ┆   ┆       ┆       ┆       ┆       │\n",
       "│ …   ┆ …   ┆ …   ┆ …      ┆ … ┆ …     ┆ …     ┆ …     ┆ …     │\n",
       "│ 300 ┆ 300 ┆ 中  ┆ 201905 ┆ … ┆ 22.98 ┆ 1.1   ┆ 2.425 ┆ 0.04  │\n",
       "│ 777 ┆ 777 ┆ 简  ┆ 06     ┆   ┆       ┆       ┆       ┆       │\n",
       "│ .SZ ┆     ┆ 科  ┆        ┆   ┆       ┆       ┆       ┆       │\n",
       "│     ┆     ┆ 技  ┆        ┆   ┆       ┆       ┆       ┆       │\n",
       "│ 603 ┆ 732 ┆ 鸿  ┆ 201904 ┆ … ┆ 16.5  ┆ 1.6   ┆ 8.367 ┆ 0.03  │\n",
       "│ 267 ┆ 267 ┆ 远  ┆ 30     ┆   ┆       ┆       ┆       ┆       │\n",
       "│ .SH ┆     ┆ 电  ┆        ┆   ┆       ┆       ┆       ┆       │\n",
       "│     ┆     ┆ 子  ┆        ┆   ┆       ┆       ┆       ┆       │\n",
       "│ 600 ┆ 730 ┆ 宝  ┆ 201904 ┆ … ┆ 22.07 ┆ 22.0  ┆ 81.55 ┆ 0.25  │\n",
       "│ 989 ┆ 989 ┆ 丰  ┆ 30     ┆   ┆       ┆       ┆       ┆       │\n",
       "│ .SH ┆     ┆ 能  ┆        ┆   ┆       ┆       ┆       ┆       │\n",
       "│     ┆     ┆ 源  ┆        ┆   ┆       ┆       ┆       ┆       │\n",
       "│ 300 ┆ 300 ┆ 新  ┆ 201904 ┆ … ┆ 22.99 ┆ 2.0   ┆ 5.466 ┆ 0.02  │\n",
       "│ 778 ┆ 778 ┆ 城  ┆ 25     ┆   ┆       ┆       ┆       ┆       │\n",
       "│ .SZ ┆     ┆ 市  ┆        ┆   ┆       ┆       ┆       ┆       │\n",
       "│ 002 ┆ 002 ┆ 日  ┆ 201904 ┆ … ┆ 16.34 ┆ 1.7   ┆ 4.526 ┆ 0.03  │\n",
       "│ 953 ┆ 953 ┆ 丰  ┆ 24     ┆   ┆       ┆       ┆       ┆       │\n",
       "│ .SZ ┆     ┆ 股  ┆        ┆   ┆       ┆       ┆       ┆       │\n",
       "│     ┆     ┆ 份  ┆        ┆   ┆       ┆       ┆       ┆       │\n",
       "└─────┴─────┴─────┴────────┴───┴───────┴───────┴───────┴───────┘"
      ]
     },
     "execution_count": 6,
     "metadata": {},
     "output_type": "execute_result"
    }
   ],
   "source": [
    "d1"
   ]
  },
  {
   "cell_type": "code",
   "execution_count": 7,
   "id": "e098d7a2-a3ac-4cde-b260-3628da5981da",
   "metadata": {},
   "outputs": [],
   "source": [
    "d1 = d1.with_columns(\n",
    "    ipo_date=pl.col.ipo_date.str.to_date(\"%Y%m%d\"),\n",
    "    issue_date=pl.col.issue_date.str.to_date(\"%Y%m%d\"),\n",
    ")"
   ]
  },
  {
   "cell_type": "code",
   "execution_count": 8,
   "id": "9fe42e7b-a646-4003-9e0c-c0ad9b1ee87b",
   "metadata": {},
   "outputs": [
    {
     "data": {
      "text/html": [
       "<div><style>\n",
       ".dataframe > thead > tr,\n",
       ".dataframe > tbody > tr {\n",
       "  text-align: right;\n",
       "  white-space: pre-wrap;\n",
       "}\n",
       "</style>\n",
       "<small>shape: (2_000, 12)</small><table border=\"1\" class=\"dataframe\"><thead><tr><th>ts_code</th><th>sub_code</th><th>name</th><th>ipo_date</th><th>issue_date</th><th>amount</th><th>market_amount</th><th>price</th><th>pe</th><th>limit_amount</th><th>funds</th><th>ballot</th></tr><tr><td>str</td><td>str</td><td>str</td><td>date</td><td>date</td><td>f64</td><td>f64</td><td>f64</td><td>f64</td><td>f64</td><td>f64</td><td>f64</td></tr></thead><tbody><tr><td>&quot;603014.SH&quot;</td><td>&quot;732014&quot;</td><td>&quot;威高血净&quot;</td><td>2025-05-08</td><td>null</td><td>4114.0</td><td>0.0</td><td>0.0</td><td>0.0</td><td>1.1</td><td>0.0</td><td>0.0</td></tr><tr><td>&quot;301595.SZ&quot;</td><td>&quot;301595&quot;</td><td>&quot;太力科技&quot;</td><td>2025-05-08</td><td>null</td><td>2707.0</td><td>0.0</td><td>0.0</td><td>0.0</td><td>0.65</td><td>0.0</td><td>0.0</td></tr><tr><td>&quot;688755.SH&quot;</td><td>&quot;787755&quot;</td><td>&quot;汉邦科技&quot;</td><td>2025-05-07</td><td>null</td><td>2200.0</td><td>528.0</td><td>22.77</td><td>26.35</td><td>0.5</td><td>5.009</td><td>0.0</td></tr><tr><td>&quot;301636.SZ&quot;</td><td>&quot;301636&quot;</td><td>&quot;泽润新能&quot;</td><td>2025-04-28</td><td>null</td><td>1597.0</td><td>774.0</td><td>33.06</td><td>17.57</td><td>0.45</td><td>5.279</td><td>0.02</td></tr><tr><td>&quot;920068.BJ&quot;</td><td>&quot;920068&quot;</td><td>&quot;天工股份&quot;</td><td>2025-04-28</td><td>null</td><td>6900.0</td><td>4200.0</td><td>3.94</td><td>15.19</td><td>255.0</td><td>2.719</td><td>0.04</td></tr><tr><td>&hellip;</td><td>&hellip;</td><td>&hellip;</td><td>&hellip;</td><td>&hellip;</td><td>&hellip;</td><td>&hellip;</td><td>&hellip;</td><td>&hellip;</td><td>&hellip;</td><td>&hellip;</td><td>&hellip;</td></tr><tr><td>&quot;300777.SZ&quot;</td><td>&quot;300777&quot;</td><td>&quot;中简科技&quot;</td><td>2019-05-06</td><td>2019-05-16</td><td>4001.0</td><td>3601.0</td><td>6.06</td><td>22.98</td><td>1.1</td><td>2.425</td><td>0.04</td></tr><tr><td>&quot;603267.SH&quot;</td><td>&quot;732267&quot;</td><td>&quot;鸿远电子&quot;</td><td>2019-04-30</td><td>2019-05-15</td><td>4134.0</td><td>3721.0</td><td>20.24</td><td>16.5</td><td>1.6</td><td>8.367</td><td>0.03</td></tr><tr><td>&quot;600989.SH&quot;</td><td>&quot;730989&quot;</td><td>&quot;宝丰能源&quot;</td><td>2019-04-30</td><td>2019-05-16</td><td>73336.0</td><td>66002.0</td><td>11.12</td><td>22.07</td><td>22.0</td><td>81.55</td><td>0.25</td></tr><tr><td>&quot;300778.SZ&quot;</td><td>&quot;300778&quot;</td><td>&quot;新城市&quot;</td><td>2019-04-25</td><td>2019-05-10</td><td>2000.0</td><td>2000.0</td><td>27.33</td><td>22.99</td><td>2.0</td><td>5.466</td><td>0.02</td></tr><tr><td>&quot;002953.SZ&quot;</td><td>&quot;002953&quot;</td><td>&quot;日丰股份&quot;</td><td>2019-04-24</td><td>2019-05-09</td><td>4302.0</td><td>3872.0</td><td>10.52</td><td>16.34</td><td>1.7</td><td>4.526</td><td>0.03</td></tr></tbody></table></div>"
      ],
      "text/plain": [
       "shape: (2_000, 12)\n",
       "┌─────┬─────┬─────┬────────┬───┬───────┬───────┬───────┬───────┐\n",
       "│ ts_ ┆ sub ┆ nam ┆ ipo_da ┆ … ┆ pe    ┆ limit ┆ funds ┆ ballo │\n",
       "│ cod ┆ _co ┆ e   ┆ te     ┆   ┆ ---   ┆ _amou ┆ ---   ┆ t     │\n",
       "│ e   ┆ de  ┆ --- ┆ ---    ┆   ┆ f64   ┆ nt    ┆ f64   ┆ ---   │\n",
       "│ --- ┆ --- ┆ str ┆ date   ┆   ┆       ┆ ---   ┆       ┆ f64   │\n",
       "│ str ┆ str ┆     ┆        ┆   ┆       ┆ f64   ┆       ┆       │\n",
       "╞═════╪═════╪═════╪════════╪═══╪═══════╪═══════╪═══════╪═══════╡\n",
       "│ 603 ┆ 732 ┆ 威  ┆ 2025-0 ┆ … ┆ 0.0   ┆ 1.1   ┆ 0.0   ┆ 0.0   │\n",
       "│ 014 ┆ 014 ┆ 高  ┆ 5-08   ┆   ┆       ┆       ┆       ┆       │\n",
       "│ .SH ┆     ┆ 血  ┆        ┆   ┆       ┆       ┆       ┆       │\n",
       "│     ┆     ┆ 净  ┆        ┆   ┆       ┆       ┆       ┆       │\n",
       "│ 301 ┆ 301 ┆ 太  ┆ 2025-0 ┆ … ┆ 0.0   ┆ 0.65  ┆ 0.0   ┆ 0.0   │\n",
       "│ 595 ┆ 595 ┆ 力  ┆ 5-08   ┆   ┆       ┆       ┆       ┆       │\n",
       "│ .SZ ┆     ┆ 科  ┆        ┆   ┆       ┆       ┆       ┆       │\n",
       "│     ┆     ┆ 技  ┆        ┆   ┆       ┆       ┆       ┆       │\n",
       "│ 688 ┆ 787 ┆ 汉  ┆ 2025-0 ┆ … ┆ 26.35 ┆ 0.5   ┆ 5.009 ┆ 0.0   │\n",
       "│ 755 ┆ 755 ┆ 邦  ┆ 5-07   ┆   ┆       ┆       ┆       ┆       │\n",
       "│ .SH ┆     ┆ 科  ┆        ┆   ┆       ┆       ┆       ┆       │\n",
       "│     ┆     ┆ 技  ┆        ┆   ┆       ┆       ┆       ┆       │\n",
       "│ 301 ┆ 301 ┆ 泽  ┆ 2025-0 ┆ … ┆ 17.57 ┆ 0.45  ┆ 5.279 ┆ 0.02  │\n",
       "│ 636 ┆ 636 ┆ 润  ┆ 4-28   ┆   ┆       ┆       ┆       ┆       │\n",
       "│ .SZ ┆     ┆ 新  ┆        ┆   ┆       ┆       ┆       ┆       │\n",
       "│     ┆     ┆ 能  ┆        ┆   ┆       ┆       ┆       ┆       │\n",
       "│ 920 ┆ 920 ┆ 天  ┆ 2025-0 ┆ … ┆ 15.19 ┆ 255.0 ┆ 2.719 ┆ 0.04  │\n",
       "│ 068 ┆ 068 ┆ 工  ┆ 4-28   ┆   ┆       ┆       ┆       ┆       │\n",
       "│ .BJ ┆     ┆ 股  ┆        ┆   ┆       ┆       ┆       ┆       │\n",
       "│     ┆     ┆ 份  ┆        ┆   ┆       ┆       ┆       ┆       │\n",
       "│ …   ┆ …   ┆ …   ┆ …      ┆ … ┆ …     ┆ …     ┆ …     ┆ …     │\n",
       "│ 300 ┆ 300 ┆ 中  ┆ 2019-0 ┆ … ┆ 22.98 ┆ 1.1   ┆ 2.425 ┆ 0.04  │\n",
       "│ 777 ┆ 777 ┆ 简  ┆ 5-06   ┆   ┆       ┆       ┆       ┆       │\n",
       "│ .SZ ┆     ┆ 科  ┆        ┆   ┆       ┆       ┆       ┆       │\n",
       "│     ┆     ┆ 技  ┆        ┆   ┆       ┆       ┆       ┆       │\n",
       "│ 603 ┆ 732 ┆ 鸿  ┆ 2019-0 ┆ … ┆ 16.5  ┆ 1.6   ┆ 8.367 ┆ 0.03  │\n",
       "│ 267 ┆ 267 ┆ 远  ┆ 4-30   ┆   ┆       ┆       ┆       ┆       │\n",
       "│ .SH ┆     ┆ 电  ┆        ┆   ┆       ┆       ┆       ┆       │\n",
       "│     ┆     ┆ 子  ┆        ┆   ┆       ┆       ┆       ┆       │\n",
       "│ 600 ┆ 730 ┆ 宝  ┆ 2019-0 ┆ … ┆ 22.07 ┆ 22.0  ┆ 81.55 ┆ 0.25  │\n",
       "│ 989 ┆ 989 ┆ 丰  ┆ 4-30   ┆   ┆       ┆       ┆       ┆       │\n",
       "│ .SH ┆     ┆ 能  ┆        ┆   ┆       ┆       ┆       ┆       │\n",
       "│     ┆     ┆ 源  ┆        ┆   ┆       ┆       ┆       ┆       │\n",
       "│ 300 ┆ 300 ┆ 新  ┆ 2019-0 ┆ … ┆ 22.99 ┆ 2.0   ┆ 5.466 ┆ 0.02  │\n",
       "│ 778 ┆ 778 ┆ 城  ┆ 4-25   ┆   ┆       ┆       ┆       ┆       │\n",
       "│ .SZ ┆     ┆ 市  ┆        ┆   ┆       ┆       ┆       ┆       │\n",
       "│ 002 ┆ 002 ┆ 日  ┆ 2019-0 ┆ … ┆ 16.34 ┆ 1.7   ┆ 4.526 ┆ 0.03  │\n",
       "│ 953 ┆ 953 ┆ 丰  ┆ 4-24   ┆   ┆       ┆       ┆       ┆       │\n",
       "│ .SZ ┆     ┆ 股  ┆        ┆   ┆       ┆       ┆       ┆       │\n",
       "│     ┆     ┆ 份  ┆        ┆   ┆       ┆       ┆       ┆       │\n",
       "└─────┴─────┴─────┴────────┴───┴───────┴───────┴───────┴───────┘"
      ]
     },
     "execution_count": 8,
     "metadata": {},
     "output_type": "execute_result"
    }
   ],
   "source": [
    "d1"
   ]
  },
  {
   "cell_type": "code",
   "execution_count": 9,
   "id": "0dbce807-0228-47c8-b8d2-8414ce32b941",
   "metadata": {},
   "outputs": [],
   "source": [
    "d2 = d2.with_columns(\n",
    "    list_date=pl.col.list_date.str.to_date(\"%Y%m%d\"),\n",
    ")"
   ]
  },
  {
   "cell_type": "code",
   "execution_count": 10,
   "id": "a232e273-2552-4322-b783-0a50501d9c39",
   "metadata": {},
   "outputs": [
    {
     "data": {
      "text/html": [
       "<div><style>\n",
       ".dataframe > thead > tr,\n",
       ".dataframe > tbody > tr {\n",
       "  text-align: right;\n",
       "  white-space: pre-wrap;\n",
       "}\n",
       "</style>\n",
       "<small>shape: (5_411, 17)</small><table border=\"1\" class=\"dataframe\"><thead><tr><th>ts_code</th><th>symbol</th><th>name</th><th>area</th><th>industry</th><th>fullname</th><th>enname</th><th>cnspell</th><th>market</th><th>exchange</th><th>curr_type</th><th>list_status</th><th>list_date</th><th>delist_date</th><th>is_hs</th><th>act_name</th><th>act_ent_type</th></tr><tr><td>str</td><td>str</td><td>str</td><td>str</td><td>str</td><td>str</td><td>str</td><td>str</td><td>str</td><td>str</td><td>str</td><td>str</td><td>date</td><td>null</td><td>str</td><td>str</td><td>str</td></tr></thead><tbody><tr><td>&quot;000001.SZ&quot;</td><td>&quot;000001&quot;</td><td>&quot;平安银行&quot;</td><td>&quot;深圳&quot;</td><td>&quot;银行&quot;</td><td>&quot;平安银行股份有限公司&quot;</td><td>&quot;Ping An Bank Co., Ltd.&quot;</td><td>&quot;payh&quot;</td><td>&quot;主板&quot;</td><td>&quot;SZSE&quot;</td><td>&quot;CNY&quot;</td><td>&quot;L&quot;</td><td>1991-04-03</td><td>null</td><td>&quot;S&quot;</td><td>&quot;无实际控制人&quot;</td><td>&quot;无&quot;</td></tr><tr><td>&quot;000002.SZ&quot;</td><td>&quot;000002&quot;</td><td>&quot;万科A&quot;</td><td>&quot;深圳&quot;</td><td>&quot;全国地产&quot;</td><td>&quot;万科企业股份有限公司&quot;</td><td>&quot;China Vanke Co.,Ltd.&quot;</td><td>&quot;wka&quot;</td><td>&quot;主板&quot;</td><td>&quot;SZSE&quot;</td><td>&quot;CNY&quot;</td><td>&quot;L&quot;</td><td>1991-01-29</td><td>null</td><td>&quot;S&quot;</td><td>&quot;深圳市人民政府国有资产监督管理委员会&quot;</td><td>&quot;地方国企&quot;</td></tr><tr><td>&quot;000004.SZ&quot;</td><td>&quot;000004&quot;</td><td>&quot;*ST国华&quot;</td><td>&quot;深圳&quot;</td><td>&quot;软件服务&quot;</td><td>&quot;深圳国华网安科技股份有限公司&quot;</td><td>&quot;Shenzhen Guohua Network Securi…</td><td>&quot;stgh&quot;</td><td>&quot;主板&quot;</td><td>&quot;SZSE&quot;</td><td>&quot;CNY&quot;</td><td>&quot;L&quot;</td><td>1991-01-14</td><td>null</td><td>&quot;N&quot;</td><td>&quot;李映彤&quot;</td><td>&quot;民营企业&quot;</td></tr><tr><td>&quot;000006.SZ&quot;</td><td>&quot;000006&quot;</td><td>&quot;深振业A&quot;</td><td>&quot;深圳&quot;</td><td>&quot;区域地产&quot;</td><td>&quot;深圳市振业(集团)股份有限公司&quot;</td><td>&quot;Shenzhen Zhenye(Group) Co., Lt…</td><td>&quot;szya&quot;</td><td>&quot;主板&quot;</td><td>&quot;SZSE&quot;</td><td>&quot;CNY&quot;</td><td>&quot;L&quot;</td><td>1992-04-27</td><td>null</td><td>&quot;S&quot;</td><td>&quot;深圳市人民政府国有资产监督管理委员会&quot;</td><td>&quot;地方国企&quot;</td></tr><tr><td>&quot;000007.SZ&quot;</td><td>&quot;000007&quot;</td><td>&quot;全新好&quot;</td><td>&quot;深圳&quot;</td><td>&quot;其他商业&quot;</td><td>&quot;深圳市全新好股份有限公司&quot;</td><td>&quot;Shenzhen Quanxinhao Co,.Ltd.&quot;</td><td>&quot;qxh&quot;</td><td>&quot;主板&quot;</td><td>&quot;SZSE&quot;</td><td>&quot;CNY&quot;</td><td>&quot;L&quot;</td><td>1992-04-13</td><td>null</td><td>&quot;N&quot;</td><td>&quot;王玩虹&quot;</td><td>&quot;民营企业&quot;</td></tr><tr><td>&hellip;</td><td>&hellip;</td><td>&hellip;</td><td>&hellip;</td><td>&hellip;</td><td>&hellip;</td><td>&hellip;</td><td>&hellip;</td><td>&hellip;</td><td>&hellip;</td><td>&hellip;</td><td>&hellip;</td><td>&hellip;</td><td>&hellip;</td><td>&hellip;</td><td>&hellip;</td><td>&hellip;</td></tr><tr><td>&quot;920489.BJ&quot;</td><td>&quot;920489&quot;</td><td>&quot;佳先股份&quot;</td><td>&quot;安徽&quot;</td><td>&quot;化工原料&quot;</td><td>&quot;安徽佳先功能助剂股份有限公司&quot;</td><td>&quot;Anhui Jiaxian Functional Auxil…</td><td>&quot;jxgf&quot;</td><td>&quot;北交所&quot;</td><td>&quot;BSE&quot;</td><td>&quot;CNY&quot;</td><td>&quot;L&quot;</td><td>2020-07-27</td><td>null</td><td>&quot;N&quot;</td><td>null</td><td>null</td></tr><tr><td>&quot;920682.BJ&quot;</td><td>&quot;920682&quot;</td><td>&quot;球冠电缆&quot;</td><td>&quot;浙江&quot;</td><td>&quot;电气设备&quot;</td><td>&quot;宁波球冠电缆股份有限公司&quot;</td><td>&quot;Ningbo Qrunning Cable Co.,Ltd&quot;</td><td>&quot;qgdl&quot;</td><td>&quot;北交所&quot;</td><td>&quot;BSE&quot;</td><td>&quot;CNY&quot;</td><td>&quot;L&quot;</td><td>2020-07-27</td><td>null</td><td>&quot;N&quot;</td><td>null</td><td>null</td></tr><tr><td>&quot;920799.BJ&quot;</td><td>&quot;920799&quot;</td><td>&quot;艾融软件&quot;</td><td>&quot;上海&quot;</td><td>&quot;软件服务&quot;</td><td>&quot;上海艾融软件股份有限公司&quot;</td><td>&quot;Shanghai I2finance Technology …</td><td>&quot;arrj&quot;</td><td>&quot;北交所&quot;</td><td>&quot;BSE&quot;</td><td>&quot;CNY&quot;</td><td>&quot;L&quot;</td><td>2020-07-27</td><td>null</td><td>&quot;N&quot;</td><td>null</td><td>null</td></tr><tr><td>&quot;920819.BJ&quot;</td><td>&quot;920819&quot;</td><td>&quot;颖泰生物&quot;</td><td>&quot;北京&quot;</td><td>&quot;农药化肥&quot;</td><td>&quot;北京颖泰嘉和生物科技股份有限公司&quot;</td><td>&quot;Nutrichem Company Limited&quot;</td><td>&quot;ytsw&quot;</td><td>&quot;北交所&quot;</td><td>&quot;BSE&quot;</td><td>&quot;CNY&quot;</td><td>&quot;L&quot;</td><td>2020-07-27</td><td>null</td><td>&quot;N&quot;</td><td>null</td><td>null</td></tr><tr><td>&quot;689009.SH&quot;</td><td>&quot;689009&quot;</td><td>&quot;九号公司-WD&quot;</td><td>&quot;北京&quot;</td><td>&quot;摩托车&quot;</td><td>&quot;九号有限公司&quot;</td><td>&quot;Ninebot Limited&quot;</td><td>&quot;jhgs&quot;</td><td>&quot;科创板&quot;</td><td>&quot;SSE&quot;</td><td>&quot;CNY&quot;</td><td>&quot;L&quot;</td><td>2020-10-29</td><td>null</td><td>null</td><td>null</td><td>null</td></tr></tbody></table></div>"
      ],
      "text/plain": [
       "shape: (5_411, 17)\n",
       "┌─────┬─────┬─────┬──────┬───┬────────┬───────┬────────┬───────┐\n",
       "│ ts_ ┆ sym ┆ nam ┆ area ┆ … ┆ delist ┆ is_hs ┆ act_na ┆ act_e │\n",
       "│ cod ┆ bol ┆ e   ┆ ---  ┆   ┆ _date  ┆ ---   ┆ me     ┆ nt_ty │\n",
       "│ e   ┆ --- ┆ --- ┆ str  ┆   ┆ ---    ┆ str   ┆ ---    ┆ pe    │\n",
       "│ --- ┆ str ┆ str ┆      ┆   ┆ null   ┆       ┆ str    ┆ ---   │\n",
       "│ str ┆     ┆     ┆      ┆   ┆        ┆       ┆        ┆ str   │\n",
       "╞═════╪═════╪═════╪══════╪═══╪════════╪═══════╪════════╪═══════╡\n",
       "│ 000 ┆ 000 ┆ 平  ┆ 深圳 ┆ … ┆ null   ┆ S     ┆ 无实际 ┆ 无    │\n",
       "│ 001 ┆ 001 ┆ 安  ┆      ┆   ┆        ┆       ┆ 控制人 ┆       │\n",
       "│ .SZ ┆     ┆ 银  ┆      ┆   ┆        ┆       ┆        ┆       │\n",
       "│     ┆     ┆ 行  ┆      ┆   ┆        ┆       ┆        ┆       │\n",
       "│ 000 ┆ 000 ┆ 万  ┆ 深圳 ┆ … ┆ null   ┆ S     ┆ 深圳市 ┆ 地方  │\n",
       "│ 002 ┆ 002 ┆ 科A ┆      ┆   ┆        ┆       ┆ 人民政 ┆ 国企  │\n",
       "│ .SZ ┆     ┆     ┆      ┆   ┆        ┆       ┆ 府国有 ┆       │\n",
       "│     ┆     ┆     ┆      ┆   ┆        ┆       ┆ 资产监 ┆       │\n",
       "│     ┆     ┆     ┆      ┆   ┆        ┆       ┆ 督管理 ┆       │\n",
       "│     ┆     ┆     ┆      ┆   ┆        ┆       ┆ 委员会 ┆       │\n",
       "│ 000 ┆ 000 ┆ *ST ┆ 深圳 ┆ … ┆ null   ┆ N     ┆ 李映彤 ┆ 民营  │\n",
       "│ 004 ┆ 004 ┆ 国  ┆      ┆   ┆        ┆       ┆        ┆ 企业  │\n",
       "│ .SZ ┆     ┆ 华  ┆      ┆   ┆        ┆       ┆        ┆       │\n",
       "│ 000 ┆ 000 ┆ 深  ┆ 深圳 ┆ … ┆ null   ┆ S     ┆ 深圳市 ┆ 地方  │\n",
       "│ 006 ┆ 006 ┆ 振  ┆      ┆   ┆        ┆       ┆ 人民政 ┆ 国企  │\n",
       "│ .SZ ┆     ┆ 业A ┆      ┆   ┆        ┆       ┆ 府国有 ┆       │\n",
       "│     ┆     ┆     ┆      ┆   ┆        ┆       ┆ 资产监 ┆       │\n",
       "│     ┆     ┆     ┆      ┆   ┆        ┆       ┆ 督管理 ┆       │\n",
       "│     ┆     ┆     ┆      ┆   ┆        ┆       ┆ 委员会 ┆       │\n",
       "│ 000 ┆ 000 ┆ 全  ┆ 深圳 ┆ … ┆ null   ┆ N     ┆ 王玩虹 ┆ 民营  │\n",
       "│ 007 ┆ 007 ┆ 新  ┆      ┆   ┆        ┆       ┆        ┆ 企业  │\n",
       "│ .SZ ┆     ┆ 好  ┆      ┆   ┆        ┆       ┆        ┆       │\n",
       "│ …   ┆ …   ┆ …   ┆ …    ┆ … ┆ …      ┆ …     ┆ …      ┆ …     │\n",
       "│ 920 ┆ 920 ┆ 佳  ┆ 安徽 ┆ … ┆ null   ┆ N     ┆ null   ┆ null  │\n",
       "│ 489 ┆ 489 ┆ 先  ┆      ┆   ┆        ┆       ┆        ┆       │\n",
       "│ .BJ ┆     ┆ 股  ┆      ┆   ┆        ┆       ┆        ┆       │\n",
       "│     ┆     ┆ 份  ┆      ┆   ┆        ┆       ┆        ┆       │\n",
       "│ 920 ┆ 920 ┆ 球  ┆ 浙江 ┆ … ┆ null   ┆ N     ┆ null   ┆ null  │\n",
       "│ 682 ┆ 682 ┆ 冠  ┆      ┆   ┆        ┆       ┆        ┆       │\n",
       "│ .BJ ┆     ┆ 电  ┆      ┆   ┆        ┆       ┆        ┆       │\n",
       "│     ┆     ┆ 缆  ┆      ┆   ┆        ┆       ┆        ┆       │\n",
       "│ 920 ┆ 920 ┆ 艾  ┆ 上海 ┆ … ┆ null   ┆ N     ┆ null   ┆ null  │\n",
       "│ 799 ┆ 799 ┆ 融  ┆      ┆   ┆        ┆       ┆        ┆       │\n",
       "│ .BJ ┆     ┆ 软  ┆      ┆   ┆        ┆       ┆        ┆       │\n",
       "│     ┆     ┆ 件  ┆      ┆   ┆        ┆       ┆        ┆       │\n",
       "│ 920 ┆ 920 ┆ 颖  ┆ 北京 ┆ … ┆ null   ┆ N     ┆ null   ┆ null  │\n",
       "│ 819 ┆ 819 ┆ 泰  ┆      ┆   ┆        ┆       ┆        ┆       │\n",
       "│ .BJ ┆     ┆ 生  ┆      ┆   ┆        ┆       ┆        ┆       │\n",
       "│     ┆     ┆ 物  ┆      ┆   ┆        ┆       ┆        ┆       │\n",
       "│ 689 ┆ 689 ┆ 九  ┆ 北京 ┆ … ┆ null   ┆ null  ┆ null   ┆ null  │\n",
       "│ 009 ┆ 009 ┆ 号  ┆      ┆   ┆        ┆       ┆        ┆       │\n",
       "│ .SH ┆     ┆ 公  ┆      ┆   ┆        ┆       ┆        ┆       │\n",
       "│     ┆     ┆ 司- ┆      ┆   ┆        ┆       ┆        ┆       │\n",
       "│     ┆     ┆ WD  ┆      ┆   ┆        ┆       ┆        ┆       │\n",
       "└─────┴─────┴─────┴──────┴───┴────────┴───────┴────────┴───────┘"
      ]
     },
     "execution_count": 10,
     "metadata": {},
     "output_type": "execute_result"
    }
   ],
   "source": [
    "d2"
   ]
  },
  {
   "cell_type": "code",
   "execution_count": 11,
   "id": "2dd07af9-dd88-463d-b271-79f5bf908106",
   "metadata": {},
   "outputs": [
    {
     "data": {
      "application/vnd.jupyter.widget-view+json": {
       "model_id": "8371a7b537254110922e89d7a5567022",
       "version_major": 2,
       "version_minor": 0
      },
      "text/plain": [
       "PerspectiveWidget(binding_mode='server', columns=['ts_code', 'sub_code', 'name', 'ipo_date', 'issue_date', 'am…"
      ]
     },
     "execution_count": 11,
     "metadata": {},
     "output_type": "execute_result"
    }
   ],
   "source": [
    "PerspectiveWidget(d1)"
   ]
  },
  {
   "cell_type": "code",
   "execution_count": 12,
   "id": "6243a862-791c-4f9d-a600-8b4bf9c33b88",
   "metadata": {},
   "outputs": [
    {
     "data": {
      "application/vnd.jupyter.widget-view+json": {
       "model_id": "59952163aa534143b8fe15e2259aca5c",
       "version_major": 2,
       "version_minor": 0
      },
      "text/plain": [
       "PerspectiveWidget(binding_mode='server', columns=['ts_code', 'symbol', 'name', 'area', 'industry', 'fullname',…"
      ]
     },
     "execution_count": 12,
     "metadata": {},
     "output_type": "execute_result"
    }
   ],
   "source": [
    "PerspectiveWidget(d2)"
   ]
  },
  {
   "cell_type": "code",
   "execution_count": null,
   "id": "7d0d30cc-ddc7-4ed7-b348-3e23048f3f54",
   "metadata": {},
   "outputs": [],
   "source": []
  }
 ],
 "metadata": {
  "kernelspec": {
   "display_name": "Python 3 (ipykernel)",
   "language": "python",
   "name": "python3"
  },
  "language_info": {
   "codemirror_mode": {
    "name": "ipython",
    "version": 3
   },
   "file_extension": ".py",
   "mimetype": "text/x-python",
   "name": "python",
   "nbconvert_exporter": "python",
   "pygments_lexer": "ipython3",
   "version": "3.12.10"
  }
 },
 "nbformat": 4,
 "nbformat_minor": 5
}
