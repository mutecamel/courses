{
 "cells": [
  {
   "cell_type": "code",
   "execution_count": null,
   "id": "9907e5d2-78c3-4b28-b24b-9b33465c9186",
   "metadata": {},
   "outputs": [],
   "source": []
  },
  {
   "cell_type": "code",
   "execution_count": null,
   "id": "295a5305-9841-41bc-a1d9-f51336960d26",
   "metadata": {},
   "outputs": [],
   "source": []
  },
  {
   "cell_type": "code",
   "execution_count": 3,
   "id": "a0377337-099e-4aa7-96e8-e325b9513cbc",
   "metadata": {},
   "outputs": [
    {
     "name": "stdout",
     "output_type": "stream",
     "text": [
      "aaaaa\n"
     ]
    },
    {
     "data": {
      "text/plain": [
       "27"
      ]
     },
     "execution_count": 3,
     "metadata": {},
     "output_type": "execute_result"
    }
   ],
   "source": [
    "x=5\n",
    "x=\"a\"*x\n",
    "print(x)\n",
    "\n",
    "x=9\n",
    "x*3"
   ]
  },
  {
   "cell_type": "code",
   "execution_count": 4,
   "id": "acc5afd9-e0d6-417f-93cc-44fbb862f5a7",
   "metadata": {},
   "outputs": [],
   "source": [
    "a=[4,2,9]"
   ]
  },
  {
   "cell_type": "code",
   "execution_count": 5,
   "id": "005f249e-bc6c-411a-a1b4-6afa97fabed2",
   "metadata": {},
   "outputs": [
    {
     "data": {
      "text/plain": [
       "9"
      ]
     },
     "execution_count": 5,
     "metadata": {},
     "output_type": "execute_result"
    }
   ],
   "source": [
    "a.pop()"
   ]
  },
  {
   "cell_type": "code",
   "execution_count": 6,
   "id": "a8ac5d1f-a880-4490-9202-02c04631150e",
   "metadata": {},
   "outputs": [
    {
     "data": {
      "text/plain": [
       "[4, 2]"
      ]
     },
     "execution_count": 6,
     "metadata": {},
     "output_type": "execute_result"
    }
   ],
   "source": [
    "a"
   ]
  },
  {
   "cell_type": "markdown",
   "id": "399474ab-b143-4628-b206-767789dabd8f",
   "metadata": {},
   "source": [
    "# 欢迎来到我的Jupyter Notebook\n",
    "\n",
    "## 这是一个标题\n",
    "这是一个段落,用于展示Markdown的基本语法\n",
    "\n",
    "### 列表\n",
    "- 这是一个无序列表项\n",
    "- 另一个无序列表项\n",
    "\n",
    "1. 这是一个有序列表项\n",
    "2. 另一个有序列表项\n",
    "\n",
    "### 强调\n",
    "*斜体文本*  \n",
    "**粗体文本**  \n",
    "***粗斜体文本***\n",
    "\n",
    "### 链接\n",
    "这是一个[链接](https://www.example.com)到一个示例网站\n",
    "\n",
    "### 图片\n",
    "![示例图片](https://via.placeholder.com/300x200)  \n",
    "*图片说明*\n",
    "\n",
    "### 表格\n",
    "| 列1 | 列2 | 列3 |\n",
    "|-----|-----|-----|\n",
    "| 内容1 | 内容2 | 内容3 |\n",
    "| 内容4 | 内容5 | 内容6 |\n",
    "\n",
    "### 代码块\n",
    "```python\n",
    "# 示例代码\n",
    "print(\"Hello, World!\")"
   ]
  },
  {
   "cell_type": "markdown",
   "id": "9cff6648-5929-457a-ae0f-7408122afa26",
   "metadata": {},
   "source": [
    "<!DOCTYPE html>\n",
    "<html lang=\"en\">\n",
    "\n",
    "<head>\n",
    "    <meta charset=\"UTF-8\">\n",
    "    <meta name=\"viewport\" content=\"width=device-width, initial-scale=1.0\">\n",
    "    <script src=\"https://cdn.tailwindcss.com\"></script>\n",
    "    <link href=\"https://cdnjs.cloudflare.com/ajax/libs/font-awesome/6.7.2/css/all.min.css\" rel=\"stylesheet\">\n",
    "    <title>示例页面</title>\n",
    "</head>\n",
    "\n",
    "<body class=\"bg-gray-100 font-sans\">\n",
    "    <!-- 导航栏 -->\n",
    "    <nav class=\"bg-white shadow-md\">\n",
    "        <div class=\"container mx-auto px-4 py-3 flex justify-between items-center\">\n",
    "            <a href=\"#\" class=\"text-xl font-bold text-gray-800\">示例网站</a>\n",
    "            <div class=\"space-x-4\">\n",
    "                <a href=\"#\" class=\"text-gray-600 hover:text-gray-800\">首页</a>\n",
    "                <a href=\"#\" class=\"text-gray-600 hover:text-gray-800\">关于我们</a>\n",
    "                <a href=\"#\" class=\"text-gray-600 hover:text-gray-800\">联系我们</a>\n",
    "            </div>\n",
    "        </div>\n",
    "    </nav>\n",
    "\n",
    "    <!-- 主内容区域 -->\n",
    "    <main class=\"container mx-auto px-4 py-8\">\n",
    "        <section class=\"bg-white p-8 rounded-lg shadow-md mb-8\">\n",
    "            <h1 class=\"text-3xl font-bold text-gray-800 mb-4\">欢迎来到示例网站</h1>\n",
    "            <p class=\"text-gray-600 leading-relaxed mb-6\">这是一个使用 Tailwind CSS 和 Font Awesome 构建的示例页面，\n",
    "                展示了如何创建一个具有现代美感和良好交互性的网页。</p>\n",
    "            <a href=\"#\" class=\"bg-blue-500 text-white px-6 py-3 rounded-md hover:bg-blue-600 transition-colors\">了解更多</a>\n",
    "        </section>\n",
    "\n",
    "        <section class=\"grid grid-cols-1 md:grid-cols-2 gap-8\">\n",
    "            <div class=\"bg-white p-8 rounded-lg shadow-md\">\n",
    "                <i class=\"fa-solid fa-lightbulb text-3xl text-yellow-500 mb-4\"></i>\n",
    "                <h2 class=\"text-2xl font-bold text-gray-800 mb-3\">创新理念</h2>\n",
    "                <p class=\"text-gray-600 leading-relaxed\">我们始终秉持创新理念，不断探索新的可能性，为用户提供更优质的服务。</p>\n",
    "            </div>\n",
    "            <div class=\"bg-white p-8 rounded-lg shadow-md\">\n",
    "                <i class=\"fa-solid fa-users text-3xl text-green-500 mb-4\"></i>\n",
    "                <h2 class=\"text-2xl font-bold text-gray-800 mb-3\">专业团队</h2>\n",
    "                <p class=\"text-gray-600 leading-relaxed\">我们拥有一支专业的团队，他们具备丰富的经验和专业知识，为项目的成功提供保障。</p>\n",
    "            </div>\n",
    "        </section>\n",
    "    </main>\n",
    "\n",
    "    <!-- 页脚 -->\n",
    "    <footer class=\"bg-gray-800 text-white py-6\">\n",
    "        <div class=\"container mx-auto px-4 text-center\">\n",
    "            <p>&copy; 2025 示例网站. 保留所有权利.</p>\n",
    "        </div>\n",
    "    </footer>\n",
    "</body>\n",
    "\n",
    "</html>\n",
    "    "
   ]
  },
  {
   "cell_type": "markdown",
   "id": "979c9618-5983-47a2-82e0-6d7a5a1b4391",
   "metadata": {},
   "source": [
    " <main class=\"container mx-auto px-4 py-8\">\n",
    "        <section class=\"bg-white p-8 rounded-lg shadow-md mb-8\">\n",
    "            <h1 class=\"text-3xl font-bold text-gray-800 mb-4\">欢迎来到示例网站</h1>\n",
    "            <p class=\"text-gray-600 leading-relaxed mb-6\">这是一个使用 Tailwind CSS 和 Font Awesome 构建的示例页面，\n",
    "                展示了如何创建一个具有现代美感和良好交互性的网页。</p>\n",
    "            <a href=\"#\" class=\"bg-blue-500 text-white px-6 py-3 rounded-md hover:bg-blue-600 transition-colors\">了解更多</a>\n",
    "        </section>\n",
    "\n",
    "<section class=\"grid grid-cols-1 md:grid-cols-2 gap-8\">\n",
    "    <div class=\"bg-white p-8 rounded-lg shadow-md\">\n",
    "                <i class=\"fa-solid fa-lightbulb text-3xl text-yellow-500 mb-4\"></i>\n",
    "                <h2 class=\"text-2xl font-bold text-gray-800 mb-3\">创新理念</h2>\n",
    "                <p class=\"text-gray-600 leading-relaxed\">我们始终秉持创新理念，不断探索新的可能性，为用户提供更优质的服务。</p>\n",
    "            </div>\n",
    "            <div class=\"bg-white p-8 rounded-lg shadow-md\">\n",
    "                <i class=\"fa-solid fa-users text-3xl text-green-500 mb-4\"></i>\n",
    "                <h2 class=\"text-2xl font-bold text-gray-800 mb-3\">专业团队</h2>\n",
    "                <p class=\"text-gray-600 leading-relaxed\">我们拥有一支专业的团队，他们具备丰富的经验和专业知识，为项目的成功提供保障。</p>\n",
    "            </div>\n",
    "        </section>\n",
    "    </main>"
   ]
  },
  {
   "cell_type": "markdown",
   "id": "15ae9573-760a-4c5f-b49d-36d0bb1fea6e",
   "metadata": {},
   "source": [
    "在微积分中，牛顿 - 莱布尼茨公式是一个核心定理，它建立了定积分与原函数之间的联系。\n",
    "\\[\n",
    "\\int_{a}^{b} f(x) \\, dx = F(b) - F(a)\n",
    "\\]\n",
    "其中 \\(F(x)\\) 是 \\(f(x)\\) 的一个原函数，即 \\(F'(x) = f(x)\\)。\n",
    "\n",
    "多元函数的泰勒展开式是一个重要的工具，用于近似复杂的函数。对于二元函数 \\(f(x,y)\\) 在点 \\((x_0,y_0)\\) 处的二阶泰勒展开式为：\n",
    "\\[\n",
    "\\begin{aligned}\n",
    "f(x,y) \\approx& f(x_0,y_0) + \\frac{\\partial f}{\\partial x}(x_0,y_0)(x - x_0) + \\frac{\\partial f}{\\partial y}(x_0,y_0)(y - y_0) \\\\\n",
    "&+ \\frac{1}{2!} \\left[ \\frac{\\partial^2 f}{\\partial x^2}(x_0,y_0)(x - x_0)^2 + 2\\frac{\\partial^2 f}{\\partial x \\partial y}(x_0,y_0)(x - x_0)(y - y_0) + \\frac{\\partial^2 f}{\\partial y^2}(x_0,y_0)(y - y_0)^2 \\right]\n",
    "\\end{aligned}\n",
    "\\]\n",
    "\n",
    "###线性代数公式\n",
    "矩阵的特征值和特征向量满足以下方程：\n",
    "\\[\n",
    "A \\mathbf{v} = \\lambda \\mathbf{v}\n",
    "\\]\n",
    "其中 \\(A\\) 是一个 \\(n \\times n\\) 的方阵，\\(\\mathbf{v}\\) 是一个非零的 \\(n\\) 维向量，\\(\\lambda\\) 是对应的特征值。\n",
    "\n",
    "行列式的拉普拉斯展开式用于计算方阵的行列式。对于一个 \\(n \\times n\\) 的矩阵 \\(A = (a_{ij})\\)，其行列式可以按第 \\(i\\) 行展开为：\n",
    "\\[\n",
    "\\det(A) = \\sum_{j = 1}^{n} (-1)^{i + j} a_{ij} M_{ij}\n",
    "\\]\n",
    "其中 \\(M_{ij}\\) 是元素 \\(a_{ij}\\) 的余子式，即去掉第 \\(i\\) 行和第 \\(j\\) 列后得到的 \\((n - 1) \\times (n - 1)\\) 矩阵的行列式。\n",
    "\n",
    "###概率论公式\n",
    "正态分布是概率论中最重要的分布之一，其概率密度函数为：\n",
    "\\[\n",
    "f(x) = \\frac{1}{\\sigma \\sqrt{2\\pi}} e^{-\\frac{(x - \\mu)^2}{2\\sigma^2}}\n",
    "\\]\n",
    "其中 \\(\\mu\\) 是均值，\\(\\sigma\\) 是标准差。\n",
    "\n",
    "中心极限定理表明，对于独立同分布的随机变量 \\(X_1, X_2, \\cdots, X_n\\)，其均值为 \\(\\mu\\)，方差为 \\(\\sigma^2\\)，当 \\(n\\) 足够大时，标准化后的和 \\(\\frac{\\sum_{i = 1}^{n} X_i - n\\mu}{\\sqrt{n}\\sigma}\\) 近似服从标准正态分布 \\(N(0,1)\\)，即：\n",
    "\\[\n",
    "\\lim_{n \\to \\infty} P\\left( \\frac{\\sum_{i = 1}^{n} X_i - n\\mu}{\\sqrt{n}\\sigma} \\leq x \\right) = \\Phi(x)\n",
    "\\]\n",
    "其中 \\(\\Phi(x)\\) 是标准正态分布的累积分布函数。"
   ]
  },
  {
   "cell_type": "markdown",
   "id": "ce87582c-b8d6-4c79-969c-2e24daffa9c8",
   "metadata": {},
   "source": [
    "### 微积分公式\n",
    "在微积分中，牛顿 - 莱布尼茨公式是一个核心定理，它建立了定积分与原函数之间的联系。\n",
    "$$\n",
    "\\int_{a}^{b} f(x) \\, dx = F(b) - F(a)\n",
    "$$\n",
    "其中 $F(x)$ 是 $f(x)$ 的一个原函数，即 $F'(x) = f(x)$。\n",
    "\n",
    "多元函数的泰勒展开式是一个重要的工具，用于近似复杂的函数。对于二元函数 $f(x,y)$ 在点 $(x_0,y_0)$ 处的二阶泰勒展开式为：\n",
    "$$\n",
    "\\begin{aligned}\n",
    "f(x,y) \\approx& f(x_0,y_0) + \\frac{\\partial f}{\\partial x}(x_0,y_0)(x - x_0) + \\frac{\\partial f}{\\partial y}(x_0,y_0)(y - y_0) \\\\\n",
    "&+ \\frac{1}{2!} \\left[ \\frac{\\partial^2 f}{\\partial x^2}(x_0,y_0)(x - x_0)^2 + 2\\frac{\\partial^2 f}{\\partial x \\partial y}(x_0,y_0)(x - x_0)(y - y_0) + \\frac{\\partial^2 f}{\\partial y^2}(x_0,y_0)(y - y_0)^2 \\right]\n",
    "\\end{aligned}\n",
    "$$\n",
    "\n",
    "### 线性代数公式\n",
    "矩阵的特征值和特征向量满足以下方程：\n",
    "$$\n",
    "A \\mathbf{v} = \\lambda \\mathbf{v}\n",
    "$$\n",
    "其中 $A$ 是一个 $n \\times n$ 的方阵，$\\mathbf{v}$ 是一个非零的 $n$ 维向量，$\\lambda$ 是对应的特征值。\n",
    "\n",
    "行列式的拉普拉斯展开式用于计算方阵的行列式。对于一个 $n \\times n$ 的矩阵 $A = (a_{ij})$，其行列式可以按第 $i$ 行展开为：\n",
    "$$\n",
    "\\det(A) = \\sum_{j = 1}^{n} (-1)^{i + j} a_{ij} M_{ij}\n",
    "$$\n",
    "其中 $M_{ij}$ 是元素 $a_{ij}$ 的余子式，即去掉第 $i$ 行和第 $j$ 列后得到的 $(n - 1) \\times (n - 1)$ 矩阵的行列式。\n",
    "\n",
    "### 概率论公式\n",
    "正态分布是概率论中最重要的分布之一，其概率密度函数为：\n",
    "$$\n",
    "f(x) = \\frac{1}{\\sigma \\sqrt{2\\pi}} e^{-\\frac{(x - \\mu)^2}{2\\sigma^2}}\n",
    "$$\n",
    "其中 $\\mu$ 是均值，$\\sigma$ 是标准差。\n",
    "\n",
    "中心极限定理表明，对于独立同分布的随机变量 $X_1, X_2, \\cdots, X_n$，其均值为 $\\mu$，方差为 $\\sigma^2$，当 $n$ 足够大时，标准化后的和 $\\frac{\\sum_{i = 1}^{n} X_i - n\\mu}{\\sqrt{n}\\sigma}$ 近似服从标准正态分布 $N(0,1)$，即：\n",
    "$$\n",
    "\\lim_{n \\to \\infty} P\\left( \\frac{\\sum_{i = 1}^{n} X_i - n\\mu}{\\sqrt{n}\\sigma} \\leq x \\right) = \\Phi(x)\n",
    "$$\n",
    "其中 $\\Phi(x)$ 是标准正态分布的累积分布函数。"
   ]
  },
  {
   "cell_type": "code",
   "execution_count": null,
   "id": "0a815296-acdd-4dd0-9348-6d274fff07d8",
   "metadata": {},
   "outputs": [],
   "source": []
  }
 ],
 "metadata": {
  "kernelspec": {
   "display_name": "Python 3 (ipykernel)",
   "language": "python",
   "name": "python3"
  },
  "language_info": {
   "codemirror_mode": {
    "name": "ipython",
    "version": 3
   },
   "file_extension": ".py",
   "mimetype": "text/x-python",
   "name": "python",
   "nbconvert_exporter": "python",
   "pygments_lexer": "ipython3",
   "version": "3.12.10"
  }
 },
 "nbformat": 4,
 "nbformat_minor": 5
}
