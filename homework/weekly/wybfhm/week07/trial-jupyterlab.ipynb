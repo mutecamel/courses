{
 "cells": [
  {
   "cell_type": "code",
   "execution_count": null,
   "id": "47161d12-2f4a-4140-8969-fc593c66e349",
   "metadata": {},
   "outputs": [],
   "source": [
    "x = 5\n",
    "x = \"a\" * x\n",
    "print(x)"
   ]
  },
  {
   "cell_type": "code",
   "execution_count": null,
   "id": "a170352c-f03d-4d8a-885d-bb77677a47f4",
   "metadata": {},
   "outputs": [],
   "source": []
  },
  {
   "cell_type": "code",
   "execution_count": null,
   "id": "d03bdac6-5fa2-4064-976b-f769d62ddb19",
   "metadata": {},
   "outputs": [],
   "source": [
    "x = 5\n",
    "x = \"a\" * x\n",
    "print(x)"
   ]
  },
  {
   "cell_type": "code",
   "execution_count": null,
   "id": "deef2d11-2da6-45ac-a89a-b476b7394aa1",
   "metadata": {},
   "outputs": [],
   "source": [
    "a = [4, 2, 9]"
   ]
  },
  {
   "cell_type": "code",
   "execution_count": null,
   "id": "eafdd707-cfcb-4cde-8fd9-e633484ab6ae",
   "metadata": {},
   "outputs": [],
   "source": [
    "a"
   ]
  },
  {
   "cell_type": "code",
   "execution_count": null,
   "id": "3f38ff2f-d866-4426-b3a3-d8c2453e3de7",
   "metadata": {},
   "outputs": [],
   "source": [
    "a.pop()"
   ]
  },
  {
   "cell_type": "code",
   "execution_count": null,
   "id": "d5d8536a-3326-4b88-8dbc-96e94f5d61d3",
   "metadata": {},
   "outputs": [],
   "source": [
    "a"
   ]
  },
  {
   "cell_type": "code",
   "execution_count": null,
   "id": "a2210b09-43ce-47c7-a136-d67b67a85b7b",
   "metadata": {},
   "outputs": [],
   "source": [
    "print(a)"
   ]
  },
  {
   "cell_type": "code",
   "execution_count": null,
   "id": "7faa288c-ae45-4205-a9e5-1228947fedfc",
   "metadata": {},
   "outputs": [],
   "source": [
    "a.append(7)"
   ]
  },
  {
   "cell_type": "code",
   "execution_count": null,
   "id": "e02f52a4-7575-4ca4-99e3-6c19b6e6de9d",
   "metadata": {},
   "outputs": [],
   "source": []
  },
  {
   "cell_type": "code",
   "execution_count": null,
   "id": "9c4a0907-a134-4273-b939-d07e5b74f54e",
   "metadata": {},
   "outputs": [],
   "source": [
    "a"
   ]
  },
  {
   "cell_type": "code",
   "execution_count": null,
   "id": "e2a0f31b-07c1-4b06-8098-1779dfc3ad44",
   "metadata": {},
   "outputs": [],
   "source": [
    "_8"
   ]
  },
  {
   "cell_type": "code",
   "execution_count": null,
   "id": "b69233e8-d85e-4d39-8bff-a7b91ad6c80b",
   "metadata": {},
   "outputs": [],
   "source": [
    "_5"
   ]
  },
  {
   "cell_type": "code",
   "execution_count": null,
   "id": "230d997d-66ee-4066-aba3-6803d6616567",
   "metadata": {},
   "outputs": [],
   "source": [
    "_8"
   ]
  },
  {
   "cell_type": "code",
   "execution_count": null,
   "id": "855fdbdc-49c6-4bde-93fe-1062cfa74ec2",
   "metadata": {},
   "outputs": [],
   "source": [
    "import time\n",
    "\n",
    "while True:\n",
    "    print('hello')\n",
    "    time.sleep(3)"
   ]
  },
  {
   "cell_type": "code",
   "execution_count": null,
   "id": "5a2be8b5-2ef7-4d74-8945-4658d0a49cb6",
   "metadata": {},
   "outputs": [],
   "source": [
    "a"
   ]
  },
  {
   "cell_type": "code",
   "execution_count": null,
   "id": "74aa7c43-26c1-455c-91b5-dd6569c8edbd",
   "metadata": {},
   "outputs": [],
   "source": [
    "a"
   ]
  },
  {
   "cell_type": "code",
   "execution_count": null,
   "id": "e5e07b53-c463-4659-8ac6-265580af248b",
   "metadata": {},
   "outputs": [],
   "source": [
    "a"
   ]
  },
  {
   "cell_type": "markdown",
   "id": "9aa1978b-7d13-4f09-a8c8-75f3e7371fa6",
   "metadata": {},
   "source": [
    "4\n"
   ]
  },
  {
   "cell_type": "markdown",
   "id": "6b3039bd-b3a2-4f39-8b97-7c2ce2f870d3",
   "metadata": {},
   "source": []
  },
  {
   "cell_type": "markdown",
   "id": "c33756fd-f97f-4beb-b867-d41cbf49e190",
   "metadata": {},
   "source": [
    "x = 5\n",
    "x = \"a\" * x\n",
    "print(x)"
   ]
  },
  {
   "cell_type": "code",
   "execution_count": null,
   "id": "2e35bcaf-0ab1-4ca7-aa1a-2cf172464a27",
   "metadata": {},
   "outputs": [],
   "source": []
  },
  {
   "cell_type": "code",
   "execution_count": 1,
   "id": "d6a5db8b-d8ca-4cb8-a7ad-56a4ad9f5039",
   "metadata": {},
   "outputs": [
    {
     "name": "stdout",
     "output_type": "stream",
     "text": [
      "aaaaa\n"
     ]
    }
   ],
   "source": [
    "x = 5\n",
    "x = \"a\" * x\n",
    "print(x)"
   ]
  },
  {
   "cell_type": "markdown",
   "id": "c573b91e-29bc-47cb-aa86-01cc7336bbd9",
   "metadata": {},
   "source": []
  },
  {
   "cell_type": "markdown",
   "id": "e44e455d-bf75-4566-ac3d-23a2f7605f0d",
   "metadata": {},
   "source": [
    "x = 5\n",
    "x = \"a\" * x\n",
    "print(x)"
   ]
  },
  {
   "cell_type": "markdown",
   "id": "8ecdecc5-1690-4894-867c-e26500fcf354",
   "metadata": {},
   "source": []
  },
  {
   "cell_type": "markdown",
   "id": "a341dc09-94b5-413f-92da-8607c4a42799",
   "metadata": {},
   "source": [
    "x = 5\n",
    "x = \"a\" * x\n",
    "print(x)"
   ]
  },
  {
   "cell_type": "markdown",
   "id": "383f20f2-ed7d-4840-98e5-8e884beca427",
   "metadata": {},
   "source": [
    "# 一级标题\n",
    "## 二级标题\n",
    "### 三级标题\n",
    "\n",
    "这是一段普通的文本内容。你可以使用 **加粗** 来强调重要的文字，或者使用 *斜体* 来突出一些表述。\n",
    "\n",
    "[这是一个超链接](https://www.example.com)，点击它可以跳转到指定的网页。\n",
    "\n",
    "- 这是一个无序列表项 1\n",
    "- 这是一个无序列表项 2\n",
    "  - 这是无序列表的子列表项 1\n",
    "  - 这是无序列表的子列表项 2\n",
    "\n",
    "1. 这是一个有序列表项 1\n",
    "2. 这是一个有序列表项 2\n",
    "\n",
    "> 这是一段引用的内容，通常用于引用他人的话语或观点。\n",
    "\n",
    "`这是行内代码`，用于表示一些简短的代码片段。\n",
    "\n",
    "```python\n",
    "# 这是一段代码块示例，使用 Python 语言\n",
    "def add(a, b):\n",
    "    return a + b\n",
    "\n",
    "result = add(3, 5)\n",
    "print(result)\n"
   ]
  },
  {
   "cell_type": "code",
   "execution_count": null,
   "id": "4c1ce284-a0d1-49c4-9397-ea6d7950a3a1",
   "metadata": {},
   "outputs": [],
   "source": []
  },
  {
   "cell_type": "markdown",
   "id": "0092d91f-6364-45bd-9cbe-76ba9b2bec0b",
   "metadata": {},
   "source": []
  },
  {
   "cell_type": "markdown",
   "id": "dc97ce5f-059c-4b07-a490-0efbd1db8d07",
   "metadata": {},
   "source": [
    "x = 5\n",
    "x = \"a\" * x\n",
    "print(x)"
   ]
  },
  {
   "cell_type": "markdown",
   "id": "22de37fa-3c1e-4219-8d48-a7743d4a70b0",
   "metadata": {},
   "source": []
  },
  {
   "cell_type": "code",
   "execution_count": 1,
   "id": "711d6e41-ebd9-45cc-be45-7940d5c9490d",
   "metadata": {},
   "outputs": [
    {
     "name": "stdout",
     "output_type": "stream",
     "text": [
      "aaaaa\n"
     ]
    }
   ],
   "source": [
    "x = 5\n",
    "x = \"a\" * x\n",
    "print(x)"
   ]
  },
  {
   "cell_type": "markdown",
   "id": "a1a392fc-2d13-478f-8bdf-fd5082407f07",
   "metadata": {},
   "source": []
  },
  {
   "cell_type": "code",
   "execution_count": 1,
   "id": "10b78b72-e690-43c3-9cb6-fc0b2b4b66bf",
   "metadata": {},
   "outputs": [
    {
     "name": "stdout",
     "output_type": "stream",
     "text": [
      "aaaaa\n"
     ]
    }
   ],
   "source": [
    "x = 5\n",
    "x = \"a\" * x\n",
    "print(x)"
   ]
  },
  {
   "cell_type": "markdown",
   "id": "1e1e9a15-457a-480a-becf-b359e6c6793e",
   "metadata": {},
   "source": [
    "\\[\n",
    "\\begin{align*}\n",
    "\\lim_{n \\to \\infty} \\left( \\sum_{k = 1}^{n} \\frac{1}{k^2} \\right) \\int_{a}^{b} \\left( \\begin{array}{ccc}\n",
    "x^2 & \\sin(x) & e^x \\\\\n",
    "\\cos(x) & \\sqrt{x} & \\log(x) \\\\\n",
    "x^3 & x^2 + 1 & \\frac{1}{x}\n",
    "\\end{array} \\right) \\mathrm{d}x \n",
    "= \\left( \\begin{array}{c}\n",
    "\\int_{a}^{b} x^2 \\lim_{n \\to \\infty} \\sum_{k = 1}^{n} \\frac{1}{k^2} \\mathrm{d}x \\\\\n",
    "\\int_{a}^{b} \\sin(x) \\lim_{n \\to \\infty} \\sum_{k = 1}^{n} \\frac{1}{k^2} \\mathrm{d}x \\\\\n",
    "\\int_{a}^{b} e^x \\lim_{n \\to \\infty} \\sum_{k = 1}^{n} \\frac{1}{k^2} \\mathrm{d}x\n",
    "\\end{array} \\right)\n",
    "\\end{align*}\n",
    "\\]\n",
    "\n",
    "\\end{document}\n",
    "\n"
   ]
  },
  {
   "cell_type": "code",
   "execution_count": null,
   "id": "796dae5b-7747-4e09-af61-a7b7cbeded07",
   "metadata": {},
   "outputs": [],
   "source": []
  },
  {
   "cell_type": "markdown",
   "id": "50afd1c4-2524-4313-9fb0-ec51366f0ee7",
   "metadata": {},
   "source": [
    "\\documentclass{article}\n",
    "\\usepackage{amsmath}\n",
    "\n",
    "\\begin{document}\n",
    "\n",
    "我们考虑如下复杂的数学表达式：\n",
    "\n",
    "\\[\n",
    "\\begin{align*}\n",
    "\\lim_{n \\to \\infty} \\left( \\sum_{k = 1}^{n} \\frac{1}{k^2} \\right) \\int_{a}^{b} \\left( \\begin{array}{ccc}\n",
    "x^2 & \\sin(x) & e^x \\\\\n",
    "\\cos(x) & \\sqrt{x} & \\log(x) \\\\\n",
    "x^3 & x^2 + 1 & \\frac{1}{x}\n",
    "\\end{array} \\right) \\mathrm{d}x \n",
    "= \\left( \\begin{array}{c}\n",
    "\\int_{a}^{b} x^2 \\lim_{n \\to \\infty} \\sum_{k = 1}^{n} \\frac{1}{k^2} \\mathrm{d}x \\\\\n",
    "\\int_{a}^{b} \\sin(x) \\lim_{n \\to \\infty} \\sum_{k = 1}^{n} \\frac{1}{k^2} \\mathrm{d}x \\\\\n",
    "\\int_{a}^{b} e^x \\lim_{n \\to \\infty} \\sum_{k = 1}^{n} \\frac{1}{k^2} \\mathrm{d}x\n",
    "\\end{array} \\right)\n",
    "\\end{align*}\n",
    "\\]\n",
    "\n",
    "\\end{document}\n"
   ]
  },
  {
   "cell_type": "code",
   "execution_count": null,
   "id": "48fb2adb-8ff4-46b3-829e-9d370d183abd",
   "metadata": {},
   "outputs": [],
   "source": []
  }
 ],
 "metadata": {
  "kernelspec": {
   "display_name": "Python 3 (ipykernel)",
   "language": "python",
   "name": "python3"
  },
  "language_info": {
   "codemirror_mode": {
    "name": "ipython",
    "version": 3
   },
   "file_extension": ".py",
   "mimetype": "text/x-python",
   "name": "python",
   "nbconvert_exporter": "python",
   "pygments_lexer": "ipython3",
   "version": "3.12.10"
  }
 },
 "nbformat": 4,
 "nbformat_minor": 5
}
