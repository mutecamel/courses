{
 "cells": [
  {
   "cell_type": "code",
   "execution_count": null,
   "id": "f176417c-2f36-4178-acb8-023fbcb6cba3",
   "metadata": {},
   "outputs": [],
   "source": [
    "x = 5\n",
    "x = 3 * 5\n",
    "print(x)"
   ]
  },
  {
   "cell_type": "code",
   "execution_count": null,
   "id": "9972ad6b-8652-4592-90fb-90e127e0311d",
   "metadata": {},
   "outputs": [],
   "source": [
    "x = 5m"
   ]
  },
  {
   "cell_type": "markdown",
   "id": "8d9af044-1033-4648-90c6-63c311e14e39",
   "metadata": {},
   "source": [
    "a = [2, 4, 9]\n",
    "a"
   ]
  },
  {
   "cell_type": "code",
   "execution_count": 5,
   "id": "a6c0fdbc-5481-4565-9a1f-75f012897189",
   "metadata": {},
   "outputs": [
    {
     "data": {
      "text/plain": [
       "[2, 4, 9, 1, 1, 1]"
      ]
     },
     "execution_count": 5,
     "metadata": {},
     "output_type": "execute_result"
    }
   ],
   "source": [
    "_2 + [1, 1, 1]"
   ]
  },
  {
   "cell_type": "markdown",
   "id": "7da7e9f7-dc1c-410b-a66c-7cea74abcbc2",
   "metadata": {},
   "source": [
    "# 一级标题\n",
    "这是一段普通的文本内容。\n",
    "\n",
    "## 二级标题\n",
    "### 三级标题\n",
    "这里可以写一些详细的描述。\n",
    "\n",
    "#### 无序列表\n",
    "- 列表项1\n",
    "- 列表项2\n",
    "  - 子列表项1\n",
    "  - 子列表项2\n",
    "\n",
    "#### 有序列表\n",
    "1. 第一项\n",
    "2. 第二项\n",
    "3. 第三项\n",
    "\n",
    "#### 引用\n",
    "> 这是一段引用的内容。它可以用来突出显示一些重要的话语。\n",
    "\n",
    "#### 代码块\n",
    "```python\n",
    "def hello_world():\n",
    "    print(\"Hello, World!\")\n",
    "\n",
    "hello_world()"
   ]
  },
  {
   "cell_type": "markdown",
   "id": "a21f7da4-45bc-4053-8a6d-23b32e463bbd",
   "metadata": {},
   "source": [
    "<h1>欢迎来到我的简单网页</h1>\n",
    "\n",
    "<!-- 段落内容 -->\n",
    "<p>这是一个不使用任何 CSS 的简单 HTML 页面示例, 展示了 HTML 的基本元素</p>\n",
    "\n",
    "<!-- 无序列表 -->\n",
    "<h2>无序列表示例</h2>\n",
    "<ul>\n",
    "    <li>列表项 1</li>\n",
    "    <li>列表项 2</li>\n",
    "     <li>列表项 3</li>\n",
    "</ul>\n",
    "\n",
    "<!-- 有序列表 -->\n",
    "<h2>有序列表示例</h2>\n",
    "<ol>\n",
    "    <li>第一项</li>\n",
    "    <li>第二项</li>\n",
    "    <li>第三项</li>\n",
    "    </ol>\n",
    "\n",
    "<!-- 链接 -->\n",
    "    <h2>链接示例</h2>\n",
    "    <p>点击下面的链接访问百度: </p>\n",
    "    <a href=\"https://www.baidu.com\">百度</a>\n",
    "\n",
    "<!-- 图片 -->\n",
    "    <h2>图片示例</h2>\n",
    "    <p>这是一张示例图片: </p>\n",
    "    <img src=\"https://picsum.photos/200/300\" alt=\"示例图片\">"
   ]
  },
  {
   "cell_type": "markdown",
   "id": "3619b6ee-d11f-4fc5-826a-93885bbb36dd",
   "metadata": {
    "collapsed": true,
    "jupyter": {
     "outputs_hidden": true
    },
    "scrolled": true
   },
   "source": [
    "$$i\\hbar\\frac{\\partial}{\\partial t}\\Psi(\\mathbf{r},t)=\\left[-\\frac{\\hbar^{2}}{2m}\\nabla^{2}+V(\\mathbf{r},t)\\right]\\Psi(\\mathbf{r},t)$$"
   ]
  },
  {
   "cell_type": "code",
   "execution_count": null,
   "id": "45ca7040-4f88-4bce-b5de-8ec18010f2d6",
   "metadata": {},
   "outputs": [],
   "source": []
  }
 ],
 "metadata": {
  "kernelspec": {
   "display_name": "Python 3 (ipykernel)",
   "language": "python",
   "name": "python3"
  },
  "language_info": {
   "codemirror_mode": {
    "name": "ipython",
    "version": 3
   },
   "file_extension": ".py",
   "mimetype": "text/x-python",
   "name": "python",
   "nbconvert_exporter": "python",
   "pygments_lexer": "ipython3",
   "version": "3.12.10"
  }
 },
 "nbformat": 4,
 "nbformat_minor": 5
}
