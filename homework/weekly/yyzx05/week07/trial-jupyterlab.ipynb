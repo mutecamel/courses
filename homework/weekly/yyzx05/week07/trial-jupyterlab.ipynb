{
 "cells": [
  {
   "cell_type": "code",
   "execution_count": null,
   "id": "8d8f349a-0f72-429e-8abf-8e57c2f9d21b",
   "metadata": {},
   "outputs": [
    {
     "name": "stdout",
     "output_type": "stream",
     "text": [
      "aaaaa\n"
     ]
    }
   ],
   "source": [
    "x = 5\n",
    "x = \"a\" * x\n",
    "print(x)\n"
   ]
  },
  {
   "cell_type": "code",
   "execution_count": null,
   "id": "e264a75b-9915-4394-9ddd-b9b13912e064",
   "metadata": {},
   "outputs": [],
   "source": []
  },
  {
   "cell_type": "code",
   "execution_count": null,
   "id": "1d7f42da-b25b-4356-add8-f60f43645f80",
   "metadata": {},
   "outputs": [],
   "source": []
  },
  {
   "cell_type": "code",
   "execution_count": null,
   "id": "f2790e37-cac2-4694-b7b2-e6f86abbd9a3",
   "metadata": {},
   "outputs": [],
   "source": []
  },
  {
   "cell_type": "code",
   "execution_count": null,
   "id": "3ac1031e-1b28-4ce6-9d4c-7e78bdf6ff03",
   "metadata": {},
   "outputs": [],
   "source": []
  },
  {
   "cell_type": "code",
   "execution_count": null,
   "id": "c84ca19b-c103-4ddc-ac7b-fd4b5b88b693",
   "metadata": {},
   "outputs": [
    {
     "name": "stdout",
     "output_type": "stream",
     "text": [
      "aaaaa\n"
     ]
    },
    {
     "data": {
      "text/plain": [
       "18"
      ]
     },
     "execution_count": 4,
     "metadata": {},
     "output_type": "execute_result"
    }
   ],
   "source": [
    "x = 5\n",
    "x = \"a\" * x\n",
    "print(x)\n",
    "x = 9\n",
    "x * 2"
   ]
  },
  {
   "cell_type": "code",
   "execution_count": null,
   "id": "06391cf0-1fc9-4347-a46b-568c22382020",
   "metadata": {},
   "outputs": [],
   "source": [
    "\n"
   ]
  },
  {
   "cell_type": "code",
   "execution_count": null,
   "id": "6d77e1bc-d1c6-42e9-8e84-c77f91bf7736",
   "metadata": {},
   "outputs": [
    {
     "data": {
      "text/plain": [
       "[4, 3, 6]"
      ]
     },
     "execution_count": 5,
     "metadata": {},
     "output_type": "execute_result"
    }
   ],
   "source": [
    "a = [4, 3, 6]\n",
    "a"
   ]
  },
  {
   "cell_type": "code",
   "execution_count": 6,
   "id": "3ff2115e-bb21-4167-ae27-d7beb9e3f2ef",
   "metadata": {},
   "outputs": [
    {
     "data": {
      "text/plain": [
       "6"
      ]
     },
     "execution_count": 6,
     "metadata": {},
     "output_type": "execute_result"
    }
   ],
   "source": [
    "a.pop()\n"
   ]
  },
  {
   "cell_type": "code",
   "execution_count": null,
   "id": "02dc3e31-f1d0-4976-aae5-65f4eb031a95",
   "metadata": {},
   "outputs": [],
   "source": [
    "a.append(2)\n",
    "a"
   ]
  },
  {
   "cell_type": "code",
   "execution_count": 7,
   "id": "e1fdfb4a-d54a-48da-bce9-c4fc7965ee81",
   "metadata": {},
   "outputs": [
    {
     "data": {
      "text/plain": [
       "[4, 3]"
      ]
     },
     "execution_count": 7,
     "metadata": {},
     "output_type": "execute_result"
    }
   ],
   "source": [
    "a"
   ]
  },
  {
   "cell_type": "code",
   "execution_count": null,
   "id": "981986d6-d1df-463b-88b3-2cb7d4012456",
   "metadata": {},
   "outputs": [
    {
     "data": {
      "text/plain": [
       "20"
      ]
     },
     "execution_count": 8,
     "metadata": {},
     "output_type": "execute_result"
    }
   ],
   "source": [
    "_4 + 2"
   ]
  },
  {
   "cell_type": "markdown",
   "id": "36095b48-0a29-41ca-9641-173a1c7c8980",
   "metadata": {},
   "source": [
    "import time\n",
    "\n",
    "while True:"
   ]
  },
  {
   "cell_type": "code",
   "execution_count": null,
   "id": "65a0d1aa-7b6f-4568-98e0-717212cb7f7f",
   "metadata": {},
   "outputs": [
    {
     "name": "stdout",
     "output_type": "stream",
     "text": [
      "yzx\n",
      "yzx\n",
      "yzx\n",
      "yzx\n",
      "yzx\n",
      "yzx\n",
      "yzx\n"
     ]
    },
    {
     "ename": "KeyboardInterrupt",
     "evalue": "",
     "output_type": "error",
     "traceback": [
      "\u001b[31m---------------------------------------------------------------------------\u001b[39m",
      "\u001b[31mKeyboardInterrupt\u001b[39m                         Traceback (most recent call last)",
      "\u001b[36mCell\u001b[39m\u001b[36m \u001b[39m\u001b[32mIn[9]\u001b[39m\u001b[32m, line 5\u001b[39m\n\u001b[32m      3\u001b[39m \u001b[38;5;28;01mwhile\u001b[39;00m \u001b[38;5;28;01mTrue\u001b[39;00m:\n\u001b[32m      4\u001b[39m     \u001b[38;5;28mprint\u001b[39m(\u001b[33m'\u001b[39m\u001b[33myzx\u001b[39m\u001b[33m'\u001b[39m)\n\u001b[32m----> \u001b[39m\u001b[32m5\u001b[39m     \u001b[43mtime\u001b[49m\u001b[43m.\u001b[49m\u001b[43msleep\u001b[49m\u001b[43m(\u001b[49m\u001b[32;43m10\u001b[39;49m\u001b[43m)\u001b[49m\n",
      "\u001b[31mKeyboardInterrupt\u001b[39m: "
     ]
    }
   ],
   "source": [
    "import time\n",
    "\n",
    "while True:\n",
    "    print(\"yzx\")\n",
    "    time.sleep(10)"
   ]
  },
  {
   "cell_type": "code",
   "execution_count": null,
   "id": "a11b6de3-52e7-4c61-ac19-fa77b705d14b",
   "metadata": {},
   "outputs": [],
   "source": [
    "x = 10\n",
    "print(\"done\")"
   ]
  },
  {
   "cell_type": "code",
   "execution_count": null,
   "id": "ac6eb66e-5405-410f-9f4c-39b646fbc6f1",
   "metadata": {},
   "outputs": [],
   "source": [
    "x = 10"
   ]
  },
  {
   "cell_type": "markdown",
   "id": "0413e20b-97f1-4733-82f3-175017727559",
   "metadata": {},
   "source": [
    "print('done')"
   ]
  },
  {
   "cell_type": "markdown",
   "id": "fe96a9eb-ed52-42ca-b6b6-009e2cb0d966",
   "metadata": {},
   "source": [
    "x = 5\n",
    "print(x ** 2)"
   ]
  },
  {
   "cell_type": "markdown",
   "id": "308ba037-acfe-4a87-b08a-77ca46330fb2",
   "metadata": {},
   "source": [
    "# 一级标题\n",
    "\n",
    "这是一段普通的段落文本。Markdown 是一种轻量级标记语言，使用简单的标记语法来格式化文本。\n",
    "\n",
    "## 二级标题\n",
    "\n",
    "### 三级标题\n",
    "\n",
    "#### 四级标题\n",
    "\n",
    "这是一个有序列表：\n",
    "1. 第一项\n",
    "2. 第二项\n",
    "3. 第三项\n",
    "\n",
    "这是一个无序列表：\n",
    "- 项目 A\n",
    "- 项目 B\n",
    "- 项目 C\n",
    "\n",
    "这是一个链接：[百度](https://www.baidu.com)\n",
    "\n",
    "这是一张图片：![示例图片](https://picsum.photos/200/300)\n",
    "\n",
    "这是一段代码块：\n",
    "```python\n",
    "print(\"Hello, World!\")"
   ]
  },
  {
   "cell_type": "markdown",
   "id": "fb3437a0-f68d-4486-8d73-d56e64f41c86",
   "metadata": {},
   "source": [
    "# 探索大自然的奥秘\n",
    "\n",
    "## 引言\n",
    "大自然是一个神奇而美妙的世界，充满了无数令人惊叹的景象和生物。在这个 Jupyter Notebook 中，我们将一同踏上探索大自然奥秘的旅程。\n",
    "\n",
    "## 壮丽的山脉\n",
    "\n",
    "### 山脉的形成\n",
    "山脉是地球表面的巨大隆起，它们通常是由板块运动和地壳变形形成的。当两个板块相互碰撞时，地壳会受到挤压，从而形成高耸的山脉。例如，喜马拉雅山脉就是由印度板块和欧亚板块的碰撞而形成的。\n",
    "\n",
    "### 著名的山脉\n",
    "世界上有许多著名的山脉，每一座都有其独特的魅力。\n",
    "\n",
    "#### 喜马拉雅山脉\n",
    "喜马拉雅山脉是世界上最高的山脉，拥有许多海拔超过 8000 米的高峰，其中包括珠穆朗玛峰。这里的景色壮丽，吸引了无数登山爱好者和探险家。\n",
    "![喜马拉雅山脉](https://upload.wikimedia.org/wikipedia/commons/thumb/6/60/Mount_Everest_as_seen_from_Drukair2012.jpg/800px-Mount_Everest_as_seen_from_Drukair2012.jpg)\n",
    "\n",
    "#### 阿尔卑斯山脉\n",
    "阿尔卑斯山脉位于欧洲中部，是欧洲最大的山脉。这里有美丽的雪山、湖泊和森林，是旅游和户外运动的热门目的地。\n",
    "![阿尔卑斯山脉](https://upload.wikimedia.org/wikipedia/commons/thumb/3/3d/Matterhorn_from_Domh%C3%BCtte_-_2016.jpg/800px-Matterhorn_from_Domh%C3%BCtte_-_2016.jpg)\n",
    "\n",
    "## 神秘的森林\n",
    "\n",
    "### 森林的生态系统\n",
    "森林是地球上最重要的生态系统之一，它们为无数生物提供了栖息地和食物。森林还能吸收二氧化碳，释放氧气，对维持地球的生态平衡起着至关重要的作用。\n",
    "\n",
    "### 不同类型的森林\n",
    "#### 热带雨林\n",
    "热带雨林位于赤道附近，气候炎热潮湿，拥有丰富的生物多样性。这里生长着各种各样的植物和动物，其中许多是世界上独一无二的物种。\n",
    "![热带雨林](https://upload.wikimedia.org/wikipedia/commons/thumb/9/95/Amazon_rainforest%2C_near_Tef%C3%A9%2C_Peru.jpg/800px-Amazon_rainforest%2C_near_Tef%C3%A9%2C_Peru.jpg)\n",
    "\n",
    "#### 温带森林\n",
    "温带森林分布在温带地区，四季分明。这里的树木种类繁多，包括橡树、枫树和松树等。在秋天，温带森林的树叶会变成各种鲜艳的颜色，形成美丽的秋景。\n",
    "![温带森林](https://upload.wikimedia.org/wikipedia/commons/thumb/2/2d/Autumn_forest_in_Czech_Republic.jpg/800px-Autumn_forest_in_Czech_Republic.jpg)\n",
    "\n",
    "## 结语\n",
    "通过这次对大自然的探索，我们对山脉和森林有了更深入的了解。大自然是我们共同的家园，我们应该珍惜和保护它。希望大家在今后的生活中，也能多走进大自然，感受它的魅力。"
   ]
  },
  {
   "cell_type": "markdown",
   "id": "2831da4d-301f-410d-ac40-19cb4523c253",
   "metadata": {},
   "source": [
    "<!DOCTYPE html>\n",
    "<html lang=\"en\">\n",
    "\n",
    "<head>\n",
    "    <meta charset=\"UTF-8\">\n",
    "    <meta name=\"viewport\" content=\"width=device-width, initial-scale=1.0\">\n",
    "    <script src=\"https://cdn.tailwindcss.com\"></script>\n",
    "    <link href=\"https://cdnjs.cloudflare.com/ajax/libs/font-awesome/6.7.2/css/all.min.css\" rel=\"stylesheet\">\n",
    "    <title>示例网页</title>\n",
    "</head>\n",
    "\n",
    "<body class=\"bg-gray-100 font-sans\">\n",
    "    <!-- 导航栏 -->\n",
    "    <nav class=\"bg-blue-500 p-4\">\n",
    "        <div class=\"container mx-auto flex justify-between items-center\">\n",
    "            <a href=\"#\" class=\"text-white text-2xl font-bold\">示例网站</a>\n",
    "            <ul class=\"flex space-x-4\">\n",
    "                <li><a href=\"#\" class=\"text-white hover:text-gray-200\">首页</a></li>\n",
    "                <li><a href=\"#\" class=\"text-white hover:text-gray-200\">关于</a></li>\n",
    "                <li><a href=\"#\" class=\"text-white hover:text-gray-200\">联系我们</a></li>\n",
    "            </ul>\n",
    "        </div>\n",
    "    </nav>\n",
    "\n",
    "    <!-- 主内容区域 -->\n",
    "    <main class=\"container mx-auto p-8\">\n",
    "        <h1 class=\"text-4xl font-bold mb-4\">欢迎来到示例网站</h1>\n",
    "        <p class=\"text-gray-700 mb-8\">这是一个使用 Tailwind CSS 和 Font Awesome 构建的示例网页。</p>\n",
    "        <div class=\"grid grid-cols-1 md:grid-cols-2 lg:grid-cols-3 gap-8\">\n",
    "            <!-- 卡片 1 -->\n",
    "            <div class=\"bg-white p-6 rounded-lg shadow-md hover:shadow-lg transition duration-300\">\n",
    "                <i class=\"fas fa-code text-4xl text-blue-500 mb-4\"></i>\n",
    "                <h2 class=\"text-xl font-bold mb-2\">前端开发</h2>\n",
    "                <p class=\"text-gray-700\">使用 HTML、CSS 和 JavaScript 构建响应式网站。</p>\n",
    "            </div>\n",
    "            <!-- 卡片 2 -->\n",
    "            <div class=\"bg-white p-6 rounded-lg shadow-md hover:shadow-lg transition duration-300\">\n",
    "                <i class=\"fas fa-server text-4xl text-green-500 mb-4\"></i>\n",
    "                <h2 class=\"text-xl font-bold mb-2\">后端开发</h2>\n",
    "                <p class=\"text-gray-700\">使用 Node.js、Python 等构建强大的服务器端应用。</p>\n",
    "            </div>\n",
    "            <!-- 卡片 3 -->\n",
    "            <div class=\"bg-white p-6 rounded-lg shadow-md hover:shadow-lg transition duration-300\">\n",
    "                <i class=\"fas fa-mobile-alt text-4xl text-yellow-500 mb-4\"></i>\n",
    "                <h2 class=\"text-xl font-bold mb-2\">移动开发</h2>\n",
    "                <p class=\"text-gray-700\">开发跨平台移动应用，如 iOS 和 Android。</p>\n",
    "            </div>\n",
    "        </div>\n",
    "    </main>\n",
    "\n",
    "    <!-- 页脚 -->\n",
    "    <footer class=\"bg-gray-800 p-4 text-center text-white\">\n",
    "        <p>&copy; 2025 示例网站. 保留所有权利.</p>\n",
    "    </footer>\n",
    "</body>\n",
    "\n",
    "</html>\n",
    "    "
   ]
  },
  {
   "cell_type": "markdown",
   "id": "a1fc9bff-1bd5-4cff-b6b3-fe7657f3b2d1",
   "metadata": {},
   "source": [
    "<!DOCTYPE html>\n",
    "<html lang=\"en\">\n",
    "\n",
    "<head>\n",
    "    <meta charset=\"UTF-8\">\n",
    "    <meta name=\"viewport\" content=\"width=device-width, initial-scale=1.0\">\n",
    "    <script src=\"https://cdn.tailwindcss.com\"></script>\n",
    "    <link href=\"https://cdnjs.cloudflare.com/ajax/libs/font-awesome/6.7.2/css/all.min.css\" rel=\"stylesheet\">\n",
    "    <title>复杂表格示例</title>\n",
    "</head>\n",
    "\n",
    "<body class=\"bg-gray-100 p-8\">\n",
    "    <table class=\"min-w-full divide-y divide-gray-200 border-collapse border border-gray-300\">\n",
    "        <!-- 表格头部 -->\n",
    "        <thead class=\"bg-gray-50\">\n",
    "            <tr>\n",
    "                <th colspan=\"2\" class=\"px-6 py-3 text-left text-xs font-medium text-gray-500 uppercase tracking-wider\">\n",
    "                    个人信息\n",
    "                </th>\n",
    "                <th colspan=\"3\" class=\"px-6 py-3 text-left text-xs font-medium text-gray-500 uppercase tracking-wider\">\n",
    "                    成绩信息\n",
    "                </th>\n",
    "            </tr>\n",
    "            <tr>\n",
    "                <th class=\"px-6 py-3 text-left text-xs font-medium text-gray-500 uppercase tracking-wider\">姓名</th>\n",
    "                <th class=\"px-6 py-3 text-left text-xs font-medium text-gray-500 uppercase tracking-wider\">年龄</th>\n",
    "                <th class=\"px-6 py-3 text-left text-xs font-medium text-gray-500 uppercase tracking-wider\">语文</th>\n",
    "                <th class=\"px-6 py-3 text-left text-xs font-medium text-gray-500 uppercase tracking-wider\">数学</th>\n",
    "                <th class=\"px-6 py-3 text-left text-xs font-medium text-gray-500 uppercase tracking-wider\">英语</th>\n",
    "            </tr>\n",
    "        </thead>\n",
    "        <!-- 表格主体 -->\n",
    "        <tbody class=\"bg-white divide-y divide-gray-200\">\n",
    "            <tr>\n",
    "                <td class=\"px-6 py-4 whitespace-nowrap\">张三</td>\n",
    "                <td class=\"px-6 py-4 whitespace-nowrap\">20</td>\n",
    "                <td class=\"px-6 py-4 whitespace-nowrap\">85</td>\n",
    "                <td class=\"px-6 py-4 whitespace-nowrap\">90</td>\n",
    "                <td class=\"px-6 py-4 whitespace-nowrap\">88</td>\n",
    "            </tr>\n",
    "            <tr>\n",
    "                <td class=\"px-6 py-4 whitespace-nowrap\">李四</td>\n",
    "                <td class=\"px-6 py-4 whitespace-nowrap\">21</td>\n",
    "                <td class=\"px-6 py-4 whitespace-nowrap\">78</td>\n",
    "                <td class=\"px-6 py-4 whitespace-nowrap\">82</td>\n",
    "                <td class=\"px-6 py-4 whitespace-nowrap\">75</td>\n",
    "            </tr>\n",
    "            <tr>\n",
    "                <td class=\"px-6 py-4 whitespace-nowrap\">王五</td>\n",
    "                <td class=\"px-6 py-4 whitespace-nowrap\">20</td>\n",
    "                <td class=\"px-6 py-4 whitespace-nowrap\">92</td>\n",
    "                <td class=\"px-6 py-4 whitespace-nowrap\">95</td>\n",
    "                <td class=\"px-6 py-4 whitespace-nowrap\">93</td>\n",
    "            </tr>\n",
    "        </tbody>\n",
    "        <!-- 表格底部汇总 -->\n",
    "        <tfoot class=\"bg-gray-50\">\n",
    "            <tr>\n",
    "                <th colspan=\"2\" class=\"px-6 py-3 text-left text-xs font-medium text-gray-500 uppercase tracking-wider\">\n",
    "                    平均成绩\n",
    "                </th>\n",
    "                <td class=\"px-6 py-4 whitespace-nowrap\">85</td>\n",
    "                <td class=\"px-6 py-4 whitespace-nowrap\">89</td>\n",
    "                <td class=\"px-6 py-4 whitespace-nowrap\">85</td>\n",
    "            </tr>\n",
    "        </tfoot>\n",
    "    </table>\n",
    "</body>\n",
    "\n",
    "</html>\n",
    "    "
   ]
  },
  {
   "cell_type": "code",
   "execution_count": null,
   "id": "cd9bf862-f60d-406b-bc4a-a74dfd326d09",
   "metadata": {},
   "outputs": [],
   "source": []
  },
  {
   "cell_type": "markdown",
   "id": "8650902d-63be-4d5d-81c8-b7c8291b0358",
   "metadata": {},
   "source": [
    "\\documentclass{article}\n",
    "\\usepackage{amsmath}\n",
    "\n",
    "\\begin{document}\n",
    "\n",
    "我们考虑以下复杂的数学公式。\n",
    "\n",
    "### 1. 多元函数的偏导数与链式法则\n",
    "假设 \\(z = f(x,y)\\)，其中 \\(x = g(t)\\) 且 \\(y = h(t)\\)。根据链式法则，\\(z\\) 关于 \\(t\\) 的导数为：\n",
    "\\[\n",
    "\\frac{dz}{dt}=\\frac{\\partial f}{\\partial x}\\frac{dx}{dt}+\\frac{\\partial f}{\\partial y}\\frac{dy}{dt}\n",
    "\\]\n",
    "\n",
    "### 2. 多重积分\n",
    "在二维平面上，函数 \\(f(x,y)\\) 在区域 \\(D\\) 上的二重积分可以表示为：\n",
    "\\[\n",
    "\\iint_{D} f(x,y) \\,dA=\\int_{a}^{b}\\int_{c(x)}^{d(x)} f(x,y) \\,dy \\,dx\n",
    "\\]\n",
    "其中 \\(D=\\{(x,y):a\\leq x\\leq b, c(x)\\leq y\\leq d(x)\\}\\)。\n",
    "\n",
    "### 3. 无穷级数\n",
    "幂级数是形如 \\(\\sum_{n = 0}^{\\infty} a_{n}(x - x_{0})^{n}\\) 的级数，其中 \\(a_{n}\\) 是系数，\\(x_{0}\\) 是中心。根据比值判别法，其收敛半径 \\(R\\) 由下式确定：\n",
    "\\[\n",
    "R=\\lim_{n\\rightarrow\\infty}\\left|\\frac{a_{n}}{a_{n + 1}}\\right|\n",
    "\\]\n",
    "\n",
    "### 4. 矩阵与向量运算\n",
    "设 \\(\\mathbf{A}=\\begin{bmatrix}\n",
    "a_{11}&a_{12}&a_{13}\\\\\n",
    "a_{21}&a_{22}&a_{23}\\\\\n",
    "a_{31}&a_{32}&a_{33}\n",
    "\\end{bmatrix}\\) 是一个 \\(3\\times3\\) 矩阵，\\(\\mathbf{x}=\\begin{bmatrix}\n",
    "x_{1}\\\\\n",
    "x_{2}\\\\\n",
    "x_{3}\n",
    "\\end{bmatrix}\\) 是一个三维向量。则矩阵 - 向量乘法 \\(\\mathbf{y}=\\mathbf{A}\\mathbf{x}\\) 可表示为：\n",
    "\\[\n",
    "\\begin{bmatrix}\n",
    "y_{1}\\\\\n",
    "y_{2}\\\\\n",
    "y_{3}\n",
    "\\end{bmatrix}=\\begin{bmatrix}\n",
    "a_{11}&a_{12}&a_{13}\\\\\n",
    "a_{21}&a_{22}&a_{23}\\\\\n",
    "a_{31}&a_{32}&a_{33}\n",
    "\\end{bmatrix}\\begin{bmatrix}\n",
    "x_{1}\\\\\n",
    "x_{2}\\\\\n",
    "x_{3}\n",
    "\\end{bmatrix}=\\begin{bmatrix}\n",
    "a_{11}x_{1}+a_{12}x_{2}+a_{13}x_{3}\\\\\n",
    "a_{21}x_{1}+a_{22}x_{2}+a_{23}x_{3}\\\\\n",
    "a_{31}x_{1}+a_{32}x_{2}+a_{33}x_{3}\n",
    "\\end{bmatrix}\n",
    "\\]\n",
    "\n",
    "### 5. 拉普拉斯算子\n",
    "在三维空间中，函数 \\(u(x,y,z)\\) 的拉普拉斯算子定义为：\n",
    "\\[\n",
    "\\Delta u=\\frac{\\partial^{2} u}{\\partial x^{2}}+\\frac{\\partial^{2} u}{\\partial y^{2}}+\\frac{\\partial^{2} u}{\\partial z^{2}}\n",
    "\\]\n",
    "\n",
    "\\end{document}"
   ]
  },
  {
   "cell_type": "markdown",
   "id": "ae2fa013-0b16-4aab-81ad-c84a54d2d059",
   "metadata": {},
   "source": [
    "\n",
    "### 1. 多元函数的偏导数与链式法则\n",
    "假设 \\(z = f(x,y)\\)，其中 \\(x = g(t)\\) 且 \\(y = h(t)\\)。根据链式法则，\\(z\\) 关于 \\(t\\) 的导数为：\n",
    "\\[\n",
    "\\frac{dz}{dt}=\\frac{\\partial f}{\\partial x}\\frac{dx}{dt}+\\frac{\\partial f}{\\partial y}\\frac{dy}{dt}\n",
    "\\]\n",
    "\n",
    "### 2. 多重积分\n",
    "在二维平面上，函数 \\(f(x,y)\\) 在区域 \\(D\\) 上的二重积分可以表示为：\n",
    "\\[\n",
    "\\iint_{D} f(x,y) \\,dA=\\int_{a}^{b}\\int_{c(x)}^{d(x)} f(x,y) \\,dy \\,dx\n",
    "\\]\n",
    "其中 \\(D=\\{(x,y):a\\leq x\\leq b, c(x)\\leq y\\leq d(x)\\}\\)。\n",
    "\n",
    "### 3. 无穷级数\n",
    "幂级数是形如 \\(\\sum_{n = 0}^{\\infty} a_{n}(x - x_{0})^{n}\\) 的级数，其中 \\(a_{n}\\) 是系数，\\(x_{0}\\) 是中心。根据比值判别法，其收敛半径 \\(R\\) 由下式确定：\n",
    "\\[\n",
    "R=\\lim_{n\\rightarrow\\infty}\\left|\\frac{a_{n}}{a_{n + 1}}\\right|\n",
    "\\]\n",
    "\n",
    "### 4. 矩阵与向量运算\n",
    "设 \\(\\mathbf{A}=\\begin{bmatrix}\n",
    "a_{11}&a_{12}&a_{13}\\\\\n",
    "a_{21}&a_{22}&a_{23}\\\\\n",
    "a_{31}&a_{32}&a_{33}\n",
    "\\end{bmatrix}\\) 是一个 \\(3\\times3\\) 矩阵，\\(\\mathbf{x}=\\begin{bmatrix}\n",
    "x_{1}\\\\\n",
    "x_{2}\\\\\n",
    "x_{3}\n",
    "\\end{bmatrix}\\) 是一个三维向量。则矩阵 - 向量乘法 \\(\\mathbf{y}=\\mathbf{A}\\mathbf{x}\\) 可表示为：\n",
    "\\[\n",
    "\\begin{bmatrix}\n",
    "y_{1}\\\\\n",
    "y_{2}\\\\\n",
    "y_{3}\n",
    "\\end{bmatrix}=\\begin{bmatrix}\n",
    "a_{11}&a_{12}&a_{13}\\\\\n",
    "a_{21}&a_{22}&a_{23}\\\\\n",
    "a_{31}&a_{32}&a_{33}\n",
    "\\end{bmatrix}\\begin{bmatrix}\n",
    "x_{1}\\\\\n",
    "x_{2}\\\\\n",
    "x_{3}\n",
    "\\end{bmatrix}=\\begin{bmatrix}\n",
    "a_{11}x_{1}+a_{12}x_{2}+a_{13}x_{3}\\\\\n",
    "a_{21}x_{1}+a_{22}x_{2}+a_{23}x_{3}\\\\\n",
    "a_{31}x_{1}+a_{32}x_{2}+a_{33}x_{3}\n",
    "\\end{bmatrix}\n",
    "\\]\n",
    "\n",
    "### 5. 拉普拉斯算子\n",
    "在三维空间中，函数 \\(u(x,y,z)\\) 的拉普拉斯算子定义为：\n",
    "\\[\n",
    "\\Delta u=\\frac{\\partial^{2} u}{\\partial x^{2}}+\\frac{\\partial^{2} u}{\\partial y^{2}}+\\frac{\\partial^{2} u}{\\partial z^{2}}\n",
    "\\]\n",
    "\n",
    "\\end{document}"
   ]
  },
  {
   "cell_type": "code",
   "execution_count": null,
   "id": "f1fdf216-a833-462d-aa69-b0a1f05c9b7f",
   "metadata": {},
   "outputs": [],
   "source": []
  }
 ],
 "metadata": {
  "kernelspec": {
   "display_name": "Python 3 (ipykernel)",
   "language": "python",
   "name": "python3"
  },
  "language_info": {
   "codemirror_mode": {
    "name": "ipython",
    "version": 3
   },
   "file_extension": ".py",
   "mimetype": "text/x-python",
   "name": "python",
   "nbconvert_exporter": "python",
   "pygments_lexer": "ipython3",
   "version": "3.12.10"
  }
 },
 "nbformat": 4,
 "nbformat_minor": 5
}
