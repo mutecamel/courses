{
 "cells": [
  {
   "cell_type": "code",
   "execution_count": null,
   "id": "b79f4a10-17c5-40ad-a83a-ac681642217c",
   "metadata": {},
   "outputs": [],
   "source": []
  },
  {
   "cell_type": "code",
   "execution_count": null,
   "id": "5d94a25a-b0b1-40fc-854f-9228ee8cde64",
   "metadata": {},
   "outputs": [],
   "source": []
  },
  {
   "cell_type": "code",
   "execution_count": null,
   "id": "17a5d5de-f6ac-41be-bb17-29f9218e5392",
   "metadata": {},
   "outputs": [],
   "source": []
  },
  {
   "cell_type": "code",
   "execution_count": null,
   "id": "0c1b85b3-cd6f-4612-a43e-673a9839a1c6",
   "metadata": {},
   "outputs": [],
   "source": []
  },
  {
   "cell_type": "code",
   "execution_count": null,
   "id": "228ad13c-8ae6-4646-94ac-4f7770072485",
   "metadata": {},
   "outputs": [],
   "source": []
  },
  {
   "cell_type": "code",
   "execution_count": null,
   "id": "54f01a1a-e0eb-4687-8a2e-7e930a986909",
   "metadata": {},
   "outputs": [],
   "source": []
  },
  {
   "cell_type": "code",
   "execution_count": 2,
   "id": "8885834c-57d5-4f71-b54f-7b4452c313b3",
   "metadata": {},
   "outputs": [
    {
     "name": "stdout",
     "output_type": "stream",
     "text": [
      "ababababab\n"
     ]
    }
   ],
   "source": [
    "x = 5\n",
    "x = \"ab\" * x\n",
    "print(x)"
   ]
  },
  {
   "cell_type": "code",
   "execution_count": 3,
   "id": "a29d355f-3c85-41b9-a248-a3966b9f28a4",
   "metadata": {},
   "outputs": [
    {
     "name": "stdout",
     "output_type": "stream",
     "text": [
      "abcabcabcabcabc\n"
     ]
    }
   ],
   "source": [
    "x = 5\n",
    "x = \"abc\" * x\n",
    "print(x)\n",
    "x = 9"
   ]
  },
  {
   "cell_type": "code",
   "execution_count": null,
   "id": "2dc11fcb-2cfc-45cd-b72a-4af48ad6f16f",
   "metadata": {},
   "outputs": [],
   "source": []
  },
  {
   "cell_type": "code",
   "execution_count": 4,
   "id": "2881a00b-6de3-4662-b1d3-5a7ed664c68c",
   "metadata": {},
   "outputs": [
    {
     "name": "stdout",
     "output_type": "stream",
     "text": [
      "abcabcabcabcabc\n"
     ]
    },
    {
     "data": {
      "text/plain": [
       "288"
      ]
     },
     "execution_count": 4,
     "metadata": {},
     "output_type": "execute_result"
    }
   ],
   "source": [
    "x = 5\n",
    "x = \"abc\" * x\n",
    "print(x)\n",
    "x = 9\n",
    "x * 32"
   ]
  },
  {
   "cell_type": "code",
   "execution_count": 5,
   "id": "da13dd95-b527-418a-8193-fdb546de27e1",
   "metadata": {},
   "outputs": [
    {
     "data": {
      "text/plain": [
       "[4, 2, 99]"
      ]
     },
     "execution_count": 5,
     "metadata": {},
     "output_type": "execute_result"
    }
   ],
   "source": [
    "a = [4, 2, 99]\n",
    "a"
   ]
  },
  {
   "cell_type": "code",
   "execution_count": 6,
   "id": "08c1e81c-13ef-474f-809c-dc1e1e435264",
   "metadata": {},
   "outputs": [
    {
     "data": {
      "text/plain": [
       "99"
      ]
     },
     "execution_count": 6,
     "metadata": {},
     "output_type": "execute_result"
    }
   ],
   "source": [
    "a.pop()"
   ]
  },
  {
   "cell_type": "code",
   "execution_count": 7,
   "id": "12fe36f0-890d-4e9a-a56a-8bed9ea3fdc1",
   "metadata": {},
   "outputs": [
    {
     "data": {
      "text/plain": [
       "[4, 2]"
      ]
     },
     "execution_count": 7,
     "metadata": {},
     "output_type": "execute_result"
    }
   ],
   "source": [
    "a"
   ]
  },
  {
   "cell_type": "code",
   "execution_count": 8,
   "id": "b5ced79c-43c4-4c1d-9535-e541be179ea8",
   "metadata": {},
   "outputs": [
    {
     "data": {
      "text/plain": [
       "2"
      ]
     },
     "execution_count": 8,
     "metadata": {},
     "output_type": "execute_result"
    }
   ],
   "source": [
    "a.pop()"
   ]
  },
  {
   "cell_type": "code",
   "execution_count": 9,
   "id": "aedb971e-871f-4d28-b541-11f6e96e91ab",
   "metadata": {},
   "outputs": [
    {
     "data": {
      "text/plain": [
       "[4]"
      ]
     },
     "execution_count": 9,
     "metadata": {},
     "output_type": "execute_result"
    }
   ],
   "source": [
    "a"
   ]
  },
  {
   "cell_type": "code",
   "execution_count": 10,
   "id": "99d75e4d-b260-4c5d-a3fa-625211770678",
   "metadata": {},
   "outputs": [
    {
     "name": "stdout",
     "output_type": "stream",
     "text": [
      "[4]\n"
     ]
    }
   ],
   "source": [
    "print(a)"
   ]
  },
  {
   "cell_type": "code",
   "execution_count": 11,
   "id": "c490d0d0-85a8-45f6-a8eb-2e2e63cf20a6",
   "metadata": {},
   "outputs": [],
   "source": [
    "a.append(7)"
   ]
  },
  {
   "cell_type": "code",
   "execution_count": 12,
   "id": "80c9cae6-73f7-4d23-88e9-81af851ab15c",
   "metadata": {},
   "outputs": [
    {
     "data": {
      "text/plain": [
       "[4, 7]"
      ]
     },
     "execution_count": 12,
     "metadata": {},
     "output_type": "execute_result"
    }
   ],
   "source": [
    "a"
   ]
  },
  {
   "cell_type": "code",
   "execution_count": 13,
   "id": "ed9ce1ca-8f8b-465b-a842-7f1abe68c02f",
   "metadata": {},
   "outputs": [
    {
     "data": {
      "text/plain": [
       "35"
      ]
     },
     "execution_count": 13,
     "metadata": {},
     "output_type": "execute_result"
    }
   ],
   "source": [
    "_8 + 33"
   ]
  },
  {
   "cell_type": "code",
   "execution_count": 14,
   "id": "02abd765-f2e2-4a62-992b-92cfe251aed7",
   "metadata": {},
   "outputs": [
    {
     "data": {
      "text/plain": [
       "2"
      ]
     },
     "execution_count": 14,
     "metadata": {},
     "output_type": "execute_result"
    }
   ],
   "source": [
    "_8"
   ]
  },
  {
   "cell_type": "code",
   "execution_count": null,
   "id": "8a5537c1-d201-444f-9000-9d536382eff8",
   "metadata": {},
   "outputs": [],
   "source": []
  },
  {
   "cell_type": "code",
   "execution_count": 15,
   "id": "b88cdcc5-4718-4183-a2be-df8b87463eb0",
   "metadata": {},
   "outputs": [
    {
     "name": "stdout",
     "output_type": "stream",
     "text": [
      "hello\n",
      "hello\n",
      "hello\n",
      "hello\n",
      "hello\n",
      "hello\n",
      "hello\n",
      "hello\n",
      "hello\n",
      "hello\n"
     ]
    },
    {
     "ename": "KeyboardInterrupt",
     "evalue": "",
     "output_type": "error",
     "traceback": [
      "\u001b[31m---------------------------------------------------------------------------\u001b[39m",
      "\u001b[31mKeyboardInterrupt\u001b[39m                         Traceback (most recent call last)",
      "\u001b[36mCell\u001b[39m\u001b[36m \u001b[39m\u001b[32mIn[15]\u001b[39m\u001b[32m, line 5\u001b[39m\n\u001b[32m      3\u001b[39m \u001b[38;5;28;01mwhile\u001b[39;00m \u001b[38;5;28;01mTrue\u001b[39;00m:\n\u001b[32m      4\u001b[39m     \u001b[38;5;28mprint\u001b[39m(\u001b[33m'\u001b[39m\u001b[33mhello\u001b[39m\u001b[33m'\u001b[39m)\n\u001b[32m----> \u001b[39m\u001b[32m5\u001b[39m     \u001b[43mtime\u001b[49m\u001b[43m.\u001b[49m\u001b[43msleep\u001b[49m\u001b[43m(\u001b[49m\u001b[32;43m3\u001b[39;49m\u001b[43m)\u001b[49m\n",
      "\u001b[31mKeyboardInterrupt\u001b[39m: "
     ]
    }
   ],
   "source": [
    "import time \n",
    "\n",
    "while True:\n",
    "    print('hello')\n",
    "    time.sleep(3)"
   ]
  },
  {
   "cell_type": "code",
   "execution_count": 16,
   "id": "a0ff9a47-3fcd-426c-ae29-ddabf3b0cb34",
   "metadata": {},
   "outputs": [],
   "source": [
    "x = 20"
   ]
  },
  {
   "cell_type": "code",
   "execution_count": null,
   "id": "5999ef3b-6ec4-4e1b-88ec-a4f95f4d65f7",
   "metadata": {},
   "outputs": [],
   "source": [
    "x = 88\n",
    "print(x ** 2)"
   ]
  },
  {
   "cell_type": "code",
   "execution_count": 18,
   "id": "bd5ca085-d4df-4390-8f57-79d15f0bbd52",
   "metadata": {},
   "outputs": [
    {
     "data": {
      "text/plain": [
       "20"
      ]
     },
     "execution_count": 18,
     "metadata": {},
     "output_type": "execute_result"
    }
   ],
   "source": [
    "x"
   ]
  },
  {
   "cell_type": "markdown",
   "id": "6bff5be7-f4df-4b63-a3e6-c98290c7b5bf",
   "metadata": {},
   "source": [
    "# 🌟 欢迎来到 Markdown 示例文档 ✨\n",
    "\n",
    "## 1. 标题分级（6级标题）\n",
    "# H1 一级标题\n",
    "## H2 二级标题\n",
    "### H3 三级标题（常用作章节）\n",
    "#### H4 四级标题（常用作子章节）\n",
    "##### H5 五级标题\n",
    "###### H6 六级标题"
   ]
  },
  {
   "cell_type": "markdown",
   "id": "b17102e0-a223-48cd-9f26-178d104ff86a",
   "metadata": {},
   "source": [
    "## 2. 文本样式\n",
    "- **加粗**：重要内容（`**加粗**`）\n",
    "- *斜体*：强调内容（`*斜体*`）\n",
    "- ~~删除线~~：过时内容（`~~删除线~~`）\n",
    "- `行内代码`：`print(\"Hello World\")`\n",
    "\n",
    "## 3. 列表结构\n",
    "### 无序列表\n",
    "- 项目一\n",
    "- 项目二\n",
    "  - 子项目（缩进2空格）\n",
    "  - 子项目\n",
    "- 项目三\n",
    "\n",
    "### 有序列表\n",
    "1. 第一步\n",
    "2. 第二步\n",
    "   1. 子步骤A\n",
    "   2. 子步骤B\n",
    "3. 第三步\n",
    "\n",
    "## 4. 表格（对齐示例）\n",
    "| 姓名   | 年龄 | 职业       | 评分  |\n",
    "|--------|------|------------|-------|\n",
    "| 张三   | 25   | 工程师     | ★★★★☆ |\n",
    "| 李四   | 30   | 设计师     | ★★★★★ |\n",
    "| 王五   | 28   | 产品经理   | ★★★☆☆ |\n",
    "\n",
    "## 5. 代码块（带语法高亮）# Python 示例：斐波那契数列\n",
    "def fib(n):\n",
    "    a, b = 0, 1\n",
    "    while a < n:\n",
    "        print(a, end=' ')\n",
    "        a, b = b, a + b\n",
    "    print()\n",
    "\n",
    "fib(100)  # 输出: 0 1 1 2 3 5 8 13 21 34 55 89\n",
    "## 6. 引用与链接\n",
    "> 这是一段引用（`>`）  \n",
    "> 来自：[Markdown 官方指南](https://www.markdownguide.org)\n",
    "\n",
    "### 链接类型\n",
    "- 行内链接：[豆包官网](https://www.doubao.com)\n",
    "- 引用式链接：[文档](docs)[1]\n",
    "- 图片：![示例图](https://picsum.photos/600/300?random=1)\n",
    "\n",
    "## 7. 特殊符号\n",
    "- 数学公式：`$E=mc^2$` 显示为 $E=mc^2$\n",
    "- 流程图（需渲染支持）：\n",
    "  ```mermaid\n",
    "  graph TD\n",
    "    A[开始] --> B{条件?}\n",
    "    B -->|是| C[执行]\n",
    "    B -->|否| D[结束]\n",
    "  ```\n",
    "\n",
    "## 8. 目录生成（需工具支持）\n",
    "[toc]  <!-- 自动生成目录 -->\n",
    "\n",
    "## 9. 任务列表\n",
    "- [x] 已完成任务\n",
    "- [ ] 进行中任务\n",
    "  - [x] 子任务1\n",
    "  - [ ] 子任务2\n",
    "\n",
    "## 🔖 常用快捷键（GitHub风格）\n",
    "| 操作         | Windows       | Mac         |\n",
    "|--------------|---------------|-------------|\n",
    "| 加粗         | **Ctrl+B**    | **Cmd+B**   |\n",
    "| 代码块       | **Ctrl+Shift+```** | **Cmd+Shift+```** |\n",
    "| 标题         | **# + 空格**  | 同上        |"
   ]
  },
  {
   "cell_type": "markdown",
   "id": "3e4dd2b6-2627-4438-a682-cf615ab74d34",
   "metadata": {},
   "source": [
    "Python 的发展历史可以分为以下几个阶段：\n",
    "\n",
    "### 诞生与早期探索（1989-2000）\n",
    "- **1989 年**：荷兰程序员 Guido van Rossum 在圣诞节期间开始开发 Python，目标是创建一种简洁易读的替代 ABC 语言。\n",
    "- **1991 年**：Python 0.9.0 正式发布，支持类、异常处理、函数式编程，奠定了语法基础。\n",
    "- **1994 年**：Python 1.0 发布，引入了面向对象编程概念，包括类、继承等特性，标准库开始丰富。\n",
    "- **2000 年**：Python 2.0 发布，新增垃圾回收、Unicode 支持，社区开始壮大。\n",
    "\n",
    "### 2.x 时代的黄金十年（2001-2010）\n",
    "- **2004 年**：Django 框架诞生，推动 Python 成为 Web 开发主流语言。\n",
    "- **2006 年**：NumPy 发布，开启了 Python 在科学计算领域的统治地位。\n",
    "- **2008 年**：Python 2.6 与 3.0 并行开发，3.0 为彻底解决设计缺陷，放弃向后兼容，引发社区争议。\n",
    "\n",
    "### 3.x 时代的革新与生态爆发（2010-2020）\n",
    "- **2010 年**：Python 2.7 成为 2.x 系列的最终版本，官方宣布 2020 年停止支持。\n",
    "- **2014 年**：Pipenv 和 Anaconda 发布，解决了包管理与数据科学环境依赖问题。\n",
    "- **2015 年**：TensorFlow 开源，Python 成为深度学习首选语言。\n",
    "- **2018 年**：Python 3.7 新增数据类（`@dataclass`）、类型提示强化。\n",
    "\n",
    "### 现代 Python：全领域渗透（2020 至今）\n",
    "- **2020 年**：Python 2 正式退役，社区全面转向 Python 3。\n",
    "- **2021 年**：Python 3.10 支持结构模式匹配（`match/case`）。\n",
    "- **2022 年**：Python 3.11 性能提升 25%，引入异常组（`ExceptionGroup`）。\n",
    "- **2023 年**：AI 浪潮推动，ChatGPT 等工具依赖 Python 生态，巩固其 AI 基础设施地位。"
   ]
  },
  {
   "cell_type": "code",
   "execution_count": null,
   "id": "a0ad6d13-5730-440f-be2d-66a50b564eb7",
   "metadata": {},
   "outputs": [],
   "source": []
  },
  {
   "cell_type": "markdown",
   "id": "01bf4d64-2ea0-453e-8be5-7e2dd88901b7",
   "metadata": {},
   "source": [
    "<!DOCTYPE html>\n",
    "<html lang=\"zh-CN\">\n",
    "<head>\n",
    "    <meta charset=\"UTF-8\">\n",
    "    <meta name=\"viewport\" content=\"width=device-width, initial-scale=1.0\">\n",
    "    <title>我的第一个网页</title>\n",
    "    <style>\n",
    "        body {\n",
    "            font-family: Arial, sans-serif;\n",
    "            line-height: 1.6;\n",
    "            margin: 0;\n",
    "            padding: 20px;\n",
    "            background-color: #f4f4f4;\n",
    "        }\n",
    "        .container {\n",
    "            max-width: 800px;\n",
    "            margin: 0 auto;\n",
    "            background: #fff;\n",
    "            padding: 20px;\n",
    "            border-radius: 8px;\n",
    "            box-shadow: 0 0 10px rgba(0,0,0,0.1);\n",
    "        }\n",
    "        h1 {\n",
    "            color: #333;\n",
    "        }\n",
    "        .highlight {\n",
    "            background-color: #ffffcc;\n",
    "            padding: 5px;\n",
    "            border-radius: 4px;\n",
    "        }\n",
    "    </style>\n",
    "</head>\n",
    "<body>\n",
    "    <div class=\"container\">\n",
    "        <h1>欢迎来到我的网页！</h1>\n",
    "        \n",
    "        <p>这是一个简单的HTML示例页面。HTML（HyperText Markup Language）是用于创建网页的标准标记语言。</p>\n",
    "        \n",
    "        <p>下面是一些HTML的基本元素示例：</p>\n",
    "        \n",
    "        <ul>\n",
    "            <li><strong>标题</strong> - 使用<h1>到<h6>标签</li>\n",
    "            <li><strong>段落</strong> - 使用<p>标签</li>\n",
    "            <li><strong>列表</strong> - 有序列表<ol>和无序列表<ul></li>\n",
    "            <li><strong>链接</strong> - 使用<a>标签</li>\n",
    "            <li><strong>图片</strong> - 使用<img>标签</li>\n",
    "        </ul>\n",
    "        \n",
    "        <p>这是一个带样式的文本示例： <span class=\"highlight\">这是高亮显示的文本</span></p>\n",
    "        \n",
    "        <h2>HTML的特点</h2>\n",
    "        \n",
    "        <ol>\n",
    "            <li>简单易学</li>\n",
    "            <li>跨平台兼容</li>\n",
    "            <li>可结合CSS进行样式设计</li>\n",
    "            <li>可通过JavaScript实现交互功能</li>\n",
    "        </ol>\n",
    "        \n",
    "        <figure>\n",
    "            <img src=\"https://via.placeholder.com/400x200?text=示例图片\" alt=\"示例图片\" style=\"width: 100%; max-width: 400px; border-radius: 8px;\">\n",
    "            <figcaption>这是一个示例图片占位符</figcaption>\n",
    "        </figure>\n",
    "        \n",
    "        <h2>相关资源</h2>\n",
    "        <p>想要了解更多HTML知识？可以访问以下网站：</p>\n",
    "        <a href=\"https://developer.mozilla.org/zh-CN/docs/Web/HTML\" target=\"_blank\">MDN HTML 文档</a>\n",
    "    </div>\n",
    "</body>\n",
    "</html>"
   ]
  },
  {
   "cell_type": "markdown",
   "id": "afbf8b8d-8226-4ac4-b371-1495799fd72b",
   "metadata": {},
   "source": [
    "<h1>欢迎来到我的网页！</h1>\n",
    "\n",
    "<p>这是一个简单的HTML页面，没有使用CSS样式。</p>\n",
    "\n",
    "<h2>HTML基本元素</h2>\n",
    "\n",
    "<p>以下是一些常见的HTML元素：</p>\n",
    "\n",
    "<ul>\n",
    "    <li>无序列表项 1</li>\n",
    "    <li>无序列表项 2</li>\n",
    "    <li>无序列表项 3</li>\n",
    "</ul>\n",
    "\n",
    "<ol>\n",
    "    <li>有序列表项 1</li>\n",
    "    <li>有序列表项 2</li>\n",
    "    <li>有序列表项 3</li>\n",
    "</ol>\n",
    "\n",
    "<p>这是一个链接：<a href=\"https://www.example.com\">访问示例网站</a></p>\n",
    "\n",
    "<h3>图片示例</h3>\n",
    "<img src=\"https://via.placeholder.com/400x200?text=示例图片\" alt=\"示例图片\">\n",
    "\n",
    "<h3>表格示例</h3>\n",
    "<table border=\"1\">\n",
    "    <tr>\n",
    "        <th>表头 1</th>\n",
    "        <th>表头 2</th>\n",
    "        <th>表头 3</th>\n",
    "    </tr>\n",
    "    <tr>\n",
    "        <td>单元格 1</td>\n",
    "        <td>单元格 2</td>\n",
    "        <td>单元格 3</td>\n",
    "    </tr>\n",
    "    <tr>\n",
    "        <td>单元格 4</td>\n",
    "        <td>单元格 5</td>\n",
    "        <td>单元格 6</td>\n",
    "    </tr>\n",
    "</table>"
   ]
  },
  {
   "cell_type": "code",
   "execution_count": null,
   "id": "fff25a23-8690-404a-b185-14b1ba9ca208",
   "metadata": {},
   "outputs": [],
   "source": []
  },
  {
   "cell_type": "markdown",
   "id": "ff52244c-1ed1-4be6-b104-eddb6f1d9893",
   "metadata": {},
   "source": [
    "\n",
    "   <table border=\"1\">\n",
    "        <tr>\n",
    "            <th>姓名</th>\n",
    "            <th>年龄</th>\n",
    "            <th>城市</th>\n",
    "        </tr>\n",
    "        <tr>\n",
    "            <td>张三</td>\n",
    "            <td>25</td>\n",
    "            <td>北京</td>\n",
    "        </tr>\n",
    "        <tr>\n",
    "            <td>李四</td>\n",
    "            <td>30</td>\n",
    "            <td>上海</td>\n",
    "        </tr>\n",
    "        <tr>\n",
    "            <td>王五</td>\n",
    "            <td>28</td>\n",
    "            <td>广州</td>\n",
    "        </tr>\n",
    "    </table>"
   ]
  },
  {
   "cell_type": "code",
   "execution_count": null,
   "id": "f3eed176-9975-4775-b319-b57fbd92613b",
   "metadata": {},
   "outputs": [],
   "source": []
  },
  {
   "cell_type": "markdown",
   "id": "af79956d-4da3-4b49-a933-0f55b2ea3eb5",
   "metadata": {},
   "source": [
    "\n",
    "\\begin{equation}\n",
    "\\sum_{n=1}^{\\infty} \\frac{(-1)^{n}}{n} \\cos(n\\theta) = -\\frac{1}{2} \\ln\\left(2 - 2\\cos\\theta \\right) = -\\ln\\left| \\sin\\left( \\frac{\\theta}{2} \\right) \\right|\n",
    "\\end{equation}\n",
    "\n",
    "\\begin{equation}\n",
    "\\int_{0}^{\\infty} \\frac{\\sin x}{x} \\, dx = \\frac{\\pi}{2}\n",
    "\\end{equation}\n",
    "\n",
    "\\begin{equation}\n",
    "\\frac{d}{dx} \\left( \\int_{a}^{x} f(t) \\, dt \\right) = f(x)\n",
    "\\end{equation}\n",
    "\n",
    "\\begin{equation}\n",
    "\\mathbf{F} = q \\left( \\mathbf{E} + \\mathbf{v} \\times \\mathbf{B} \\right)\n",
    "\\end{equation}\n",
    "\n",
    "\\begin{equation}\n",
    "\\prod_{k=1}^{n} k = n! = \\int_{0}^{\\infty} x^{n} e^{-x} \\, dx\n",
    "\\end{equation}\n",
    "\n",
    "\\begin{equation}\n",
    "\\frac{d}{dx} \\ln x = \\frac{1}{x}, \\quad x > 0\n",
    "\\end{equation}\n",
    "\n",
    "\\begin{equation}\n",
    "\\sum_{k=0}^{n} \\binom{n}{k} (-1)^{k} = 0\n",
    "\\end{equation}\n",
    "\n",
    "\\begin{equation}\n",
    "\\frac{d}{dx} \\left( e^{x} \\right) = e^{x}\n",
    "\\end{equation}\n",
    "\n",
    "\\begin{equation}\n",
    "\\int_{-\\infty}^{\\infty} e^{-x^{2}} \\, dx = \\sqrt{\\pi}\n",
    "\\end{equation}\n",
    "\n",
    "\\begin{equation}\n",
    "\\frac{d}{dx} \\sin x = \\cos x\n",
    "\\end{equation}\n",
    "\n",
    "\\begin{equation}\n",
    "\\int_{a}^{b} f(x) \\, dx = \\lim_{n \\to \\infty} \\sum_{k=1}^{n} f\\left( a + k \\cdot \\frac{b - a}{n} \\right) \\cdot \\frac{b - a}{n}\n",
    "\\end{equation}\n"
   ]
  },
  {
   "cell_type": "code",
   "execution_count": null,
   "id": "80cca861-f18c-4fb9-8011-771cece9746c",
   "metadata": {},
   "outputs": [],
   "source": []
  },
  {
   "cell_type": "markdown",
   "id": "db1be0a9-fe0f-4295-bfc8-cf92e2ded1f1",
   "metadata": {},
   "source": [
    "\n",
    "$$\n",
    "\\sum_{n=1}^{\\infty} \\frac{(-1)^{n}}{n} \\cos(n\\theta) = -\\frac{1}{2} \\ln\\left(2 - 2\\cos\\theta \\right) = -\\ln\\left| \\sin\\left( \\frac{\\theta}{2} \\right) \\right|\n",
    "$$\n",
    "\n",
    "$$\n",
    "\\int_{0}^{\\infty} \\frac{\\sin x}{x} \\, dx = \\frac{\\pi}{2}\n",
    "$$\n",
    "\n",
    "$$\n",
    "\\frac{d}{dx} \\left( \\int_{a}^{x} f(t) \\, dt \\right) = f(x)\n",
    "$$\n",
    "\n",
    "$$\n",
    "\\mathbf{F} = q \\left( \\mathbf{E} + \\mathbf{v} \\times \\mathbf{B} \\right)\n",
    "$$\n",
    "\n",
    "$$\n",
    "\\prod_{k=1}^{n} k = n! = \\int_{0}^{\\infty} x^{n} e^{-x} \\, dx\n",
    "$$\n",
    "\n",
    "$$\n",
    "\\frac{d}{dx} \\ln x = \\frac{1}{x}, \\quad x > 0\n",
    "$$\n",
    "\n",
    "$$\n",
    "\\sum_{k=0}^{n} \\binom{n}{k} (-1)^{k} = 0\n",
    "$$\n",
    "\n",
    "$$\n",
    "\\frac{d}{dx} \\left( e^{x} \\right) = e^{x}\n",
    "$$\n",
    "\n",
    "$$\n",
    "\\int_{-\\infty}^{\\infty} e^{-x^{2}} \\, dx = \\sqrt{\\pi}\n",
    "$$\n",
    "\n",
    "$$\n",
    "\\frac{d}{dx} \\sin x = \\cos x\n",
    "$$\n",
    "\n",
    "$$\n",
    "\\int_{a}^{b} f(x) \\, dx = \\lim_{n \\to \\infty} \\sum_{k=1}^{n} f\\left( a + k \\cdot \\frac{b - a}{n} \\right) \\cdot \\frac{b - a}{n}\n",
    "$$"
   ]
  },
  {
   "cell_type": "code",
   "execution_count": null,
   "id": "98dbbeb1-af51-42d2-8b8a-eae685ce3a01",
   "metadata": {},
   "outputs": [],
   "source": []
  },
  {
   "cell_type": "code",
   "execution_count": null,
   "id": "877e81b0-7264-40ff-956d-5d9035129922",
   "metadata": {},
   "outputs": [],
   "source": []
  },
  {
   "cell_type": "code",
   "execution_count": null,
   "id": "2bb69d80-8c1f-4e06-9aa1-655a6e7fa2d7",
   "metadata": {},
   "outputs": [],
   "source": []
  },
  {
   "cell_type": "code",
   "execution_count": null,
   "id": "e793ad40-7d21-4a25-85cb-bad03e3fdcae",
   "metadata": {},
   "outputs": [],
   "source": []
  },
  {
   "cell_type": "code",
   "execution_count": null,
   "id": "764a0dd2-21c7-46ca-8eb2-64a18219ef66",
   "metadata": {},
   "outputs": [],
   "source": []
  },
  {
   "cell_type": "code",
   "execution_count": null,
   "id": "7cd2d592-8233-4362-80da-1d64338782dd",
   "metadata": {},
   "outputs": [],
   "source": []
  },
  {
   "cell_type": "code",
   "execution_count": null,
   "id": "b6d28180-7263-40fd-9a6f-704cf4ef3a61",
   "metadata": {},
   "outputs": [],
   "source": []
  },
  {
   "cell_type": "code",
   "execution_count": null,
   "id": "63695a99-3e1a-460e-b3d2-329fa43a15a0",
   "metadata": {},
   "outputs": [],
   "source": []
  },
  {
   "cell_type": "code",
   "execution_count": null,
   "id": "d948c9b9-cc85-4351-9bd6-393895dda043",
   "metadata": {},
   "outputs": [],
   "source": []
  },
  {
   "cell_type": "code",
   "execution_count": null,
   "id": "dbaf546c-1432-4af4-b7e3-6092b608931e",
   "metadata": {},
   "outputs": [],
   "source": []
  },
  {
   "cell_type": "code",
   "execution_count": null,
   "id": "82aac641-0ae5-4998-9cab-3e9e90160144",
   "metadata": {},
   "outputs": [],
   "source": []
  },
  {
   "cell_type": "code",
   "execution_count": null,
   "id": "1014a9be-59d7-4163-8dd2-67e438a435c4",
   "metadata": {},
   "outputs": [],
   "source": []
  },
  {
   "cell_type": "code",
   "execution_count": null,
   "id": "37d54ce8-c565-49e6-a30e-f726cc8b70c4",
   "metadata": {},
   "outputs": [],
   "source": []
  }
 ],
 "metadata": {
  "kernelspec": {
   "display_name": "Python 3 (ipykernel)",
   "language": "python",
   "name": "python3"
  },
  "language_info": {
   "codemirror_mode": {
    "name": "ipython",
    "version": 3
   },
   "file_extension": ".py",
   "mimetype": "text/x-python",
   "name": "python",
   "nbconvert_exporter": "python",
   "pygments_lexer": "ipython3",
   "version": "3.12.7"
  }
 },
 "nbformat": 4,
 "nbformat_minor": 5
}
