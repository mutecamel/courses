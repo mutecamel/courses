{
 "cells": [
  {
   "cell_type": "markdown",
   "id": "765492d7-f3e1-4939-a511-57d170aa7343",
   "metadata": {},
   "source": [
    "# 一级标题\n",
    "\n",
    "这是一段普通的文本内容，Markdown 可以让你轻松地创建各种格式的文档。\n",
    "\n",
    "## 二级标题\n",
    "\n",
    "### 三级标题\n",
    "\n",
    "#### 四级标题\n",
    "\n",
    "这里可以使用不同级别的标题来组织文档结构。\n",
    "\n",
    "## 列表\n",
    "\n",
    "### 无序列表\n",
    "- 列表项 1\n",
    "- 列表项 2\n",
    "  - 子列表项 1\n",
    "  - 子列表项 2\n",
    "- 列表项 3\n",
    "\n",
    "### 有序列表\n",
    "1. 第一项\n",
    "2. 第二项\n",
    "3. 第三项\n",
    "\n",
    "## 引用\n",
    "> 这是一个引用块，用于引用他人的话语或重要的段落。\n",
    "> 引用可以有多行内容。\n",
    "\n",
    "## 代码块\n",
    "\n",
    "### 行内代码\n",
    "使用 `print(\"Hello, World!\")` 可以在 Python 中输出一条消息。\n",
    "\n",
    "### 代码块\n",
    "```python\n",
    "# 这是一个 Python 代码块\n",
    "def greet(name):\n",
    "    return f\"Hello, {name}!\"\n",
    "\n",
    "message = greet(\"Alice\")\n",
    "print(message)"
   ]
  },
  {
   "cell_type": "markdown",
   "id": "3838cd2e-0bbd-4c83-861d-af1ea1efe4dc",
   "metadata": {},
   "source": []
  }
 ],
 "metadata": {
  "kernelspec": {
   "display_name": "Python 3 (ipykernel)",
   "language": "python",
   "name": "python3"
  },
  "language_info": {
   "codemirror_mode": {
    "name": "ipython",
    "version": 3
   },
   "file_extension": ".py",
   "mimetype": "text/x-python",
   "name": "python",
   "nbconvert_exporter": "python",
   "pygments_lexer": "ipython3",
   "version": "3.12.10"
  }
 },
 "nbformat": 4,
 "nbformat_minor": 5
}
