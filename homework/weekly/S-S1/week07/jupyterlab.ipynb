{
 "cells": [
  {
   "cell_type": "code",
   "execution_count": 2,
   "id": "b6881546-fc79-46e3-a437-daf6a3673af1",
   "metadata": {},
   "outputs": [
    {
     "name": "stdout",
     "output_type": "stream",
     "text": [
      "aaaaaaaaaa\n"
     ]
    }
   ],
   "source": [
    "x=10\n",
    "x=\"a\"*x\n",
    "print(x)"
   ]
  },
  {
   "cell_type": "code",
   "execution_count": 3,
   "id": "e76c1b03-722e-416b-aabd-374314ec9fdd",
   "metadata": {},
   "outputs": [
    {
     "name": "stdout",
     "output_type": "stream",
     "text": [
      "aaaaaaaaaa\n"
     ]
    }
   ],
   "source": [
    "x=10\n",
    "x=\"a\"*x\n",
    "print(x)\n",
    "x=9"
   ]
  },
  {
   "cell_type": "code",
   "execution_count": 4,
   "id": "fbebcde8-08e3-49cd-aee3-d5e197cde61c",
   "metadata": {},
   "outputs": [],
   "source": [
    "x=4"
   ]
  },
  {
   "cell_type": "code",
   "execution_count": 5,
   "id": "94de575b-597e-4f5c-bff5-8b6b3b273722",
   "metadata": {},
   "outputs": [
    {
     "name": "stdout",
     "output_type": "stream",
     "text": [
      "aaaaaaaaaa\n"
     ]
    },
    {
     "data": {
      "text/plain": [
       "27"
      ]
     },
     "execution_count": 5,
     "metadata": {},
     "output_type": "execute_result"
    }
   ],
   "source": [
    "x=10\n",
    "x=\"a\"*x\n",
    "print(x)\n",
    "x=9\n",
    "x*3"
   ]
  },
  {
   "cell_type": "code",
   "execution_count": 6,
   "id": "92a81992-cc5c-44a5-8b86-0df21e9affee",
   "metadata": {},
   "outputs": [
    {
     "data": {
      "text/plain": [
       "[3, 4829, 89]"
      ]
     },
     "execution_count": 6,
     "metadata": {},
     "output_type": "execute_result"
    }
   ],
   "source": [
    "da=[3,4829,89]\n",
    "da"
   ]
  },
  {
   "cell_type": "code",
   "execution_count": 7,
   "id": "cd635056-ff8b-420e-aee5-8242d87b8376",
   "metadata": {},
   "outputs": [
    {
     "data": {
      "text/plain": [
       "89"
      ]
     },
     "execution_count": 7,
     "metadata": {},
     "output_type": "execute_result"
    }
   ],
   "source": [
    "da.pop()"
   ]
  },
  {
   "cell_type": "code",
   "execution_count": 8,
   "id": "60d6f9fd-e856-469c-8504-2d2a415d29fb",
   "metadata": {},
   "outputs": [
    {
     "data": {
      "text/plain": [
       "[3, 4829]"
      ]
     },
     "execution_count": 8,
     "metadata": {},
     "output_type": "execute_result"
    }
   ],
   "source": [
    "da"
   ]
  },
  {
   "cell_type": "code",
   "execution_count": 9,
   "id": "99157b96-0ced-41ea-8595-6e9483bb1655",
   "metadata": {},
   "outputs": [
    {
     "name": "stdout",
     "output_type": "stream",
     "text": [
      "[3, 4829]\n"
     ]
    }
   ],
   "source": [
    "print(da)"
   ]
  },
  {
   "cell_type": "code",
   "execution_count": 14,
   "id": "828154b0-5483-4bb5-a1bc-19d80205b8c0",
   "metadata": {},
   "outputs": [],
   "source": [
    "da.append(7)"
   ]
  },
  {
   "cell_type": "code",
   "execution_count": 16,
   "id": "8d0e49de-f352-4408-b49b-b884c76635ac",
   "metadata": {},
   "outputs": [
    {
     "data": {
      "text/plain": [
       "1780"
      ]
     },
     "execution_count": 16,
     "metadata": {},
     "output_type": "execute_result"
    }
   ],
   "source": [
    "_7*20"
   ]
  },
  {
   "cell_type": "code",
   "execution_count": null,
   "id": "c81e7641-b1a1-4771-904f-9afe9c859782",
   "metadata": {},
   "outputs": [],
   "source": [
    "x=7\n",
    "print(x)"
   ]
  },
  {
   "cell_type": "code",
   "execution_count": null,
   "id": "055d6019-a60e-4727-81ad-e13cc4559cd1",
   "metadata": {},
   "outputs": [],
   "source": []
  },
  {
   "cell_type": "code",
   "execution_count": 17,
   "id": "6d3a6925-e313-46ca-8825-afcdf5b60183",
   "metadata": {},
   "outputs": [
    {
     "data": {
      "text/plain": [
       "[3, 4829, 89]"
      ]
     },
     "execution_count": 17,
     "metadata": {},
     "output_type": "execute_result"
    }
   ],
   "source": [
    "da=[3,4829,89]\n",
    "da"
   ]
  },
  {
   "cell_type": "markdown",
   "id": "1fe75d15-5d44-48f7-b4aa-2a343f9092dc",
   "metadata": {},
   "source": [
    "\\documentclass{article}\n",
    "\\begin{document}\n",
    "\\[\n",
    "F(x,y,z) = \\int_{a}^{b} \\left[ \\sum_{i=1}^{n} \\left( A_{i} \\cdot \\sin\\left( \\frac{2\\pi i x}{L} \\right) + B_{i} \\cdot \\cos\\left( \\frac{2\\pi i x}{L} \\right) \\right) \\right] \n",
    "\\begin{bmatrix} \n",
    "\\frac{\\partial^2 u}{\\partial x^2} \\\\\n",
    "\\frac{\\partial^2 u}{\\partial y^2} \\\\\n",
    "\\frac{\\partial^2 u}{\\partial z^2} \n",
    "\\end{bmatrix} dx\n",
    "\\]\n",
    "\\end{document}"
   ]
  },
  {
   "cell_type": "code",
   "execution_count": null,
   "id": "5d4d5838-f413-4de8-b847-67b84b32c52c",
   "metadata": {},
   "outputs": [],
   "source": []
  },
  {
   "cell_type": "markdown",
   "id": "b9dc5dbd-963f-4573-8f4f-3b4a623d813a",
   "metadata": {},
   "source": [
    "# 一级标题\n",
    "\n",
    "这是一段普通的文本。可以使用 *斜体* 和 **粗体** 来突出显示文本。\n",
    "\n",
    "## 二级标题\n",
    "## 三级标题\n",
    "\n",
    "### 列表\n",
    "#### 无序列表\n",
    "- 项目 1\n",
    "- 项目 2\n",
    "  - 子项目 1\n",
    "  - 子项目 2\n",
    "\n",
    "#### 有序列表\n",
    "1. 第一项\n",
    "2. 第二项\n",
    "3. 第三项\n",
    "\n",
    "### 引用\n",
    "> 这是一个引用。可以用来突出显示重要的语句。\n",
    "\n",
    "### 代码块\n",
    "```python\n",
    "def hello_world():\n",
    "    print(\"Hello, World!\")\n",
    "```\n",
    "hello_world()"
   ]
  },
  {
   "cell_type": "markdown",
   "id": "f82b015b-6b93-47f6-ab91-4b446d05ac15",
   "metadata": {},
   "source": [
    "# 探索宇宙奥秘：从恒星到星系\n",
    "\n",
    "## 一、引言\n",
    "在浩瀚无垠的宇宙中，充满了无数神秘而迷人的天体。人类对宇宙的探索从未停止，每一次的发现都让我们对这个世界有了更深的认识。本章节将带领大家初步了解宇宙中的一些基本天体。\n",
    "\n",
    "## 二、恒星：宇宙中的明灯\n",
    "\n",
    "### 2.1 恒星的诞生\n",
    "恒星诞生于巨大的分子云中。这些分子云主要由氢和氦组成，在引力的作用下逐渐聚集。当密度足够大时，核心温度开始上升，最终引发核聚变反应，一颗恒星就此诞生。\n",
    "\n",
    "![恒星诞生](https://upload.wikimedia.org/wikipedia/commons/thumb/3/39/Star-forming_region_Serpens.jpg/800px-Star-forming_region_Serpens.jpg)\n",
    "\n",
    "### 2.2 恒星的生命周期\n",
    "恒星的生命周期与其质量密切相关。质量较小的恒星，如红矮星，可能会稳定燃烧数千亿年；而质量较大的恒星，在经过数百万年的燃烧后，会以超新星爆发的形式结束生命，最终可能形成中子星或黑洞。\n",
    "\n",
    "| 恒星类型 | 质量范围（太阳质量） | 寿命 | 最终归宿 |\n",
    "| ---- | ---- | ---- | ---- |\n",
    "| 红矮星 | < 0.5 | 数千亿年 | 黑矮星 |\n",
    "| 太阳型恒星 | 0.5 - 8 | 数十亿年 | 白矮星 |\n",
    "| 大质量恒星 | > 8 | 数百万年 | 中子星或黑洞 |\n",
    "\n",
    "## 三、星系：恒星的家园\n",
    "\n",
    "### 3.1 星系的分类\n",
    "星系主要可以分为三类：螺旋星系、椭圆星系和不规则星系。螺旋星系具有明显的旋臂结构，如我们所在的银河系；椭圆星系形状较为规则，呈椭圆形；不规则星系则没有明显的结构。\n",
    "\n",
    "![星系分类](https://upload.wikimedia.org/wikipedia/commons/thumb/9/93/Hubble_sequence.svg/800px-Hubble_sequence.svg.png)\n",
    "\n",
    "### 3.2 银河系：我们的家园\n",
    "银河系是一个棒旋星系，直径约为 10 万 - 18 万光年。它包含了大约 1000 亿 - 4000 亿颗恒星，以及大量的气体和尘埃。太阳系位于银河系的一个旋臂上，距离银心约 2.6 万光年。\n",
    "# 简单示例：计算银河系中恒星数量的范围\n",
    "min_stars = 1000 * 10**8\n",
    "max_stars = 4000 * 10**8\n",
    "print(f\"银河系中恒星数量的范围是 {min_stars} 到 {max_stars} 颗。\")\n",
    "## 四、宇宙探索的未来\n",
    "随着科技的不断进步，人类对宇宙的探索也将不断深入。未来，我们有望发现更多的系外行星，甚至可能找到外星生命的迹象。同时，对暗物质和暗能量的研究也将帮助我们更全面地了解宇宙的本质。\n",
    "\n",
    "### 4.1 未来的太空任务\n",
    "许多国家和组织都在计划未来的太空任务，如 NASA 的詹姆斯·韦伯太空望远镜将为我们提供更清晰的宇宙图像，帮助我们研究早期星系的形成。\n",
    "\n",
    "### 4.2 对人类的意义\n",
    "宇宙探索不仅可以帮助我们了解宇宙的奥秘，还可能为人类的未来发展提供新的资源和空间。例如，在其他行星上寻找可居住的环境，或者开发利用小行星上的矿产资源。\n",
    "\n",
    "---\n",
    "**参考资料**\n",
    "- 《宇宙简史》\n",
    "- [NASA 官方网站](https://www.nasa.gov/)\n",
    "    "
   ]
  },
  {
   "cell_type": "markdown",
   "id": "3c363bc1-4f75-4ccd-ae22-0edbdb5ac540",
   "metadata": {},
   "source": [
    "<!DOCTYPE html>\n",
    "<html lang=\"en\">\n",
    "\n",
    "<head>\n",
    "    <meta charset=\"UTF-8\">\n",
    "    <meta name=\"viewport\" content=\"width=device-width, initial-scale=1.0\">\n",
    "    <script src=\"https://cdn.tailwindcss.com\"></script>\n",
    "    <link href=\"https://cdnjs.cloudflare.com/ajax/libs/font-awesome/6.7.2/css/all.min.css\" rel=\"stylesheet\">\n",
    "    <title>示例网页</title>\n",
    "</head>\n",
    "\n",
    "<body class=\"bg-gray-100 font-sans\">\n",
    "    <!-- 导航栏 -->\n",
    "    <nav class=\"bg-blue-500 p-4\">\n",
    "        <div class=\"container mx-auto flex justify-between items-center\">\n",
    "            <a href=\"#\" class=\"text-white text-xl font-bold\">示例网站</a>\n",
    "            <ul class=\"flex space-x-4\">\n",
    "                <li><a href=\"#\" class=\"text-white hover:text-gray-200\">首页</a></li>\n",
    "                <li><a href=\"#\" class=\"text-white hover:text-gray-200\">关于</a></li>\n",
    "                <li><a href=\"#\" class=\"text-white hover:text-gray-200\">联系</a></li>\n",
    "            </ul>\n",
    "        </div>\n",
    "    </nav>\n",
    "\n",
    "    <!-- 主内容 -->\n",
    "    <main class=\"container mx-auto p-8\">\n",
    "        <h1 class=\"text-4xl font-bold text-gray-800 mb-4\">欢迎来到示例网页</h1>\n",
    "        <p class=\"text-gray-600 mb-8\">这是一个简单的 HTML 示例，使用 Tailwind CSS 进行样式设计。</p>\n",
    "\n",
    "        <!-- 图片 -->\n",
    "        <img src=\"https://picsum.photos/800/400\" alt=\"示例图片\" class=\"rounded-md shadow-md mb-8\">\n",
    "\n",
    "        <!-- 按钮 -->\n",
    "        <a href=\"#\" class=\"bg-blue-500 text-white px-6 py-3 rounded-md hover:bg-blue-600 transition duration-300\">了解更多</a>\n",
    "\n",
    "        <!-- 文章 -->\n",
    "        <article class=\"mt-12\">\n",
    "            <h2 class=\"text-2xl font-bold text-gray-800 mb-2\">文章标题</h2>\n",
    "            <p class=\"text-gray-600\">这是一篇示例文章的内容。你可以在这里添加更多的文本，描述相关的信息。</p>\n",
    "        </article>\n",
    "    </main>\n",
    "\n",
    "    <!-- 页脚 -->\n",
    "    <footer class=\"bg-gray-200 p-4 text-center text-gray-600\">\n",
    "        &copy; 2025 示例网站. 保留所有权利.\n",
    "    </footer>\n",
    "</body>\n",
    "\n",
    "</html>\n",
    "    "
   ]
  },
  {
   "cell_type": "markdown",
   "id": "419abbc6-2106-4a66-a36a-e8bb5eaa5e73",
   "metadata": {},
   "source": [
    "<h1>欢迎来到简单 HTML 页面</h1>\n",
    "\n",
    "<!-- 段落 -->\n",
    "<p>这是一个简单的 HTML 示例，不使用任何 CSS 样式。它展示了基本的 HTML 元素，如标题、段落、列表和链接。</p>\n",
    "\n",
    "<!-- 无序列表 -->\n",
    "<h2>无序列表示例</h2>\n",
    "<ul>\n",
    "     <li>列表项 1</li>\n",
    "     <li>列表项 2</li>\n",
    "     <li>列表项 3</li>\n",
    " </ul>\n",
    "\n",
    " <!-- 有序列表 -->\n",
    "<h2>有序列表示例</h2>\n",
    " <ol>\n",
    "    <li>第一项</li>\n",
    "    <li>第二项</li>\n",
    "    <li>第三项</li>\n",
    "    </ol>\n",
    "\n",
    " <!-- 链接 -->\n",
    " <h2>链接示例</h2>\n",
    " <p>点击下面的链接访问百度：</p>\n",
    "<a href=\"https://www.baidu.com\">百度</a>\n",
    "\n",
    "<!-- 图片 -->\n",
    " <h2>图片示例</h2>\n",
    "<img src=\"https://picsum.photos/200/300\" alt=\"示例图片\">"
   ]
  },
  {
   "cell_type": "code",
   "execution_count": null,
   "id": "5331647f-4262-49a5-99f4-348fc75758e8",
   "metadata": {},
   "outputs": [],
   "source": []
  },
  {
   "cell_type": "code",
   "execution_count": null,
   "id": "7186af05-238c-4297-83a2-5ddd083256d3",
   "metadata": {},
   "outputs": [],
   "source": []
  },
  {
   "cell_type": "code",
   "execution_count": null,
   "id": "1e050d92-b4cc-4989-9df6-f882d149ebb1",
   "metadata": {},
   "outputs": [],
   "source": []
  },
  {
   "cell_type": "markdown",
   "id": "98a14369-1845-4bab-bb22-6978a9ec9ea2",
   "metadata": {},
   "source": []
  },
  {
   "cell_type": "code",
   "execution_count": null,
   "id": "b9081a80-c80d-4314-aa07-14bf42f88e5a",
   "metadata": {},
   "outputs": [],
   "source": []
  },
  {
   "cell_type": "code",
   "execution_count": null,
   "id": "df226fc5-951a-4d81-9598-17cbb43be1e7",
   "metadata": {},
   "outputs": [],
   "source": []
  },
  {
   "cell_type": "code",
   "execution_count": null,
   "id": "a3e94a98-ec19-45b0-be11-001201f831f6",
   "metadata": {},
   "outputs": [],
   "source": []
  }
 ],
 "metadata": {
  "kernelspec": {
   "display_name": "Python 3 (ipykernel)",
   "language": "python",
   "name": "python3"
  },
  "language_info": {
   "codemirror_mode": {
    "name": "ipython",
    "version": 3
   },
   "file_extension": ".py",
   "mimetype": "text/x-python",
   "name": "python",
   "nbconvert_exporter": "python",
   "pygments_lexer": "ipython3",
   "version": "3.12.10"
  }
 },
 "nbformat": 4,
 "nbformat_minor": 5
}
