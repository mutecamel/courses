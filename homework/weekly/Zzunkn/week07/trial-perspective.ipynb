{
 "cells": [
  {
   "cell_type": "code",
   "execution_count": 1,
   "id": "6cdeba07-af81-43de-9a1c-26f4fbda44ae",
   "metadata": {},
   "outputs": [],
   "source": [
    "import polars as pl\n",
    "from perspective.widget import PerspectiveWidget"
   ]
  },
  {
   "cell_type": "code",
   "execution_count": 2,
   "id": "c57c4702-e049-4149-981b-3299ad5224d1",
   "metadata": {},
   "outputs": [
    {
     "data": {
      "text/html": [
       "<div><style>\n",
       ".dataframe > thead > tr,\n",
       ".dataframe > tbody > tr {\n",
       "  text-align: right;\n",
       "  white-space: pre-wrap;\n",
       "}\n",
       "</style>\n",
       "<small>shape: (2_000, 12)</small><table border=\"1\" class=\"dataframe\"><thead><tr><th>ts_code</th><th>sub_code</th><th>name</th><th>ipo_date</th><th>issue_date</th><th>amount</th><th>market_amount</th><th>price</th><th>pe</th><th>limit_amount</th><th>funds</th><th>ballot</th></tr><tr><td>str</td><td>str</td><td>str</td><td>str</td><td>str</td><td>f64</td><td>f64</td><td>f64</td><td>f64</td><td>f64</td><td>f64</td><td>f64</td></tr></thead><tbody><tr><td>&quot;603014.SH&quot;</td><td>&quot;732014&quot;</td><td>&quot;威高血净&quot;</td><td>&quot;20250508&quot;</td><td>null</td><td>4114.0</td><td>0.0</td><td>0.0</td><td>0.0</td><td>1.1</td><td>0.0</td><td>0.0</td></tr><tr><td>&quot;301595.SZ&quot;</td><td>&quot;301595&quot;</td><td>&quot;太力科技&quot;</td><td>&quot;20250508&quot;</td><td>null</td><td>2707.0</td><td>0.0</td><td>0.0</td><td>0.0</td><td>0.65</td><td>0.0</td><td>0.0</td></tr><tr><td>&quot;688755.SH&quot;</td><td>&quot;787755&quot;</td><td>&quot;汉邦科技&quot;</td><td>&quot;20250507&quot;</td><td>null</td><td>2200.0</td><td>0.0</td><td>0.0</td><td>0.0</td><td>0.5</td><td>0.0</td><td>0.0</td></tr><tr><td>&quot;301636.SZ&quot;</td><td>&quot;301636&quot;</td><td>&quot;泽润新能&quot;</td><td>&quot;20250428&quot;</td><td>null</td><td>1597.0</td><td>455.0</td><td>33.06</td><td>17.57</td><td>0.45</td><td>5.279</td><td>0.0</td></tr><tr><td>&quot;920068.BJ&quot;</td><td>&quot;920068&quot;</td><td>&quot;天工股份&quot;</td><td>&quot;20250428&quot;</td><td>null</td><td>6000.0</td><td>4200.0</td><td>3.94</td><td>14.98</td><td>255.0</td><td>2.364</td><td>0.0</td></tr><tr><td>&hellip;</td><td>&hellip;</td><td>&hellip;</td><td>&hellip;</td><td>&hellip;</td><td>&hellip;</td><td>&hellip;</td><td>&hellip;</td><td>&hellip;</td><td>&hellip;</td><td>&hellip;</td><td>&hellip;</td></tr><tr><td>&quot;300777.SZ&quot;</td><td>&quot;300777&quot;</td><td>&quot;中简科技&quot;</td><td>&quot;20190506&quot;</td><td>&quot;20190516&quot;</td><td>4001.0</td><td>3601.0</td><td>6.06</td><td>22.98</td><td>1.1</td><td>2.425</td><td>0.04</td></tr><tr><td>&quot;603267.SH&quot;</td><td>&quot;732267&quot;</td><td>&quot;鸿远电子&quot;</td><td>&quot;20190430&quot;</td><td>&quot;20190515&quot;</td><td>4134.0</td><td>3721.0</td><td>20.24</td><td>16.5</td><td>1.6</td><td>8.367</td><td>0.03</td></tr><tr><td>&quot;600989.SH&quot;</td><td>&quot;730989&quot;</td><td>&quot;宝丰能源&quot;</td><td>&quot;20190430&quot;</td><td>&quot;20190516&quot;</td><td>73336.0</td><td>66002.0</td><td>11.12</td><td>22.07</td><td>22.0</td><td>81.55</td><td>0.25</td></tr><tr><td>&quot;300778.SZ&quot;</td><td>&quot;300778&quot;</td><td>&quot;新城市&quot;</td><td>&quot;20190425&quot;</td><td>&quot;20190510&quot;</td><td>2000.0</td><td>2000.0</td><td>27.33</td><td>22.99</td><td>2.0</td><td>5.466</td><td>0.02</td></tr><tr><td>&quot;002953.SZ&quot;</td><td>&quot;002953&quot;</td><td>&quot;日丰股份&quot;</td><td>&quot;20190424&quot;</td><td>&quot;20190509&quot;</td><td>4302.0</td><td>3872.0</td><td>10.52</td><td>16.34</td><td>1.7</td><td>4.526</td><td>0.03</td></tr></tbody></table></div>"
      ],
      "text/plain": [
       "shape: (2_000, 12)\n",
       "┌───────────┬──────────┬──────────┬──────────┬───┬───────┬──────────────┬───────┬────────┐\n",
       "│ ts_code   ┆ sub_code ┆ name     ┆ ipo_date ┆ … ┆ pe    ┆ limit_amount ┆ funds ┆ ballot │\n",
       "│ ---       ┆ ---      ┆ ---      ┆ ---      ┆   ┆ ---   ┆ ---          ┆ ---   ┆ ---    │\n",
       "│ str       ┆ str      ┆ str      ┆ str      ┆   ┆ f64   ┆ f64          ┆ f64   ┆ f64    │\n",
       "╞═══════════╪══════════╪══════════╪══════════╪═══╪═══════╪══════════════╪═══════╪════════╡\n",
       "│ 603014.SH ┆ 732014   ┆ 威高血净 ┆ 20250508 ┆ … ┆ 0.0   ┆ 1.1          ┆ 0.0   ┆ 0.0    │\n",
       "│ 301595.SZ ┆ 301595   ┆ 太力科技 ┆ 20250508 ┆ … ┆ 0.0   ┆ 0.65         ┆ 0.0   ┆ 0.0    │\n",
       "│ 688755.SH ┆ 787755   ┆ 汉邦科技 ┆ 20250507 ┆ … ┆ 0.0   ┆ 0.5          ┆ 0.0   ┆ 0.0    │\n",
       "│ 301636.SZ ┆ 301636   ┆ 泽润新能 ┆ 20250428 ┆ … ┆ 17.57 ┆ 0.45         ┆ 5.279 ┆ 0.0    │\n",
       "│ 920068.BJ ┆ 920068   ┆ 天工股份 ┆ 20250428 ┆ … ┆ 14.98 ┆ 255.0        ┆ 2.364 ┆ 0.0    │\n",
       "│ …         ┆ …        ┆ …        ┆ …        ┆ … ┆ …     ┆ …            ┆ …     ┆ …      │\n",
       "│ 300777.SZ ┆ 300777   ┆ 中简科技 ┆ 20190506 ┆ … ┆ 22.98 ┆ 1.1          ┆ 2.425 ┆ 0.04   │\n",
       "│ 603267.SH ┆ 732267   ┆ 鸿远电子 ┆ 20190430 ┆ … ┆ 16.5  ┆ 1.6          ┆ 8.367 ┆ 0.03   │\n",
       "│ 600989.SH ┆ 730989   ┆ 宝丰能源 ┆ 20190430 ┆ … ┆ 22.07 ┆ 22.0         ┆ 81.55 ┆ 0.25   │\n",
       "│ 300778.SZ ┆ 300778   ┆ 新城市   ┆ 20190425 ┆ … ┆ 22.99 ┆ 2.0          ┆ 5.466 ┆ 0.02   │\n",
       "│ 002953.SZ ┆ 002953   ┆ 日丰股份 ┆ 20190424 ┆ … ┆ 16.34 ┆ 1.7          ┆ 4.526 ┆ 0.03   │\n",
       "└───────────┴──────────┴──────────┴──────────┴───┴───────┴──────────────┴───────┴────────┘"
      ]
     },
     "execution_count": 2,
     "metadata": {},
     "output_type": "execute_result"
    }
   ],
   "source": [
    "d1 = pl.read_parquet(\"new_share.parquet\")\n",
    "d1"
   ]
  },
  {
   "cell_type": "code",
   "execution_count": 3,
   "id": "ede52d78-e288-486e-a78f-67ca3c6fbf69",
   "metadata": {},
   "outputs": [
    {
     "data": {
      "text/html": [
       "<div><style>\n",
       ".dataframe > thead > tr,\n",
       ".dataframe > tbody > tr {\n",
       "  text-align: right;\n",
       "  white-space: pre-wrap;\n",
       "}\n",
       "</style>\n",
       "<small>shape: (5_415, 17)</small><table border=\"1\" class=\"dataframe\"><thead><tr><th>ts_code</th><th>symbol</th><th>name</th><th>area</th><th>industry</th><th>fullname</th><th>enname</th><th>cnspell</th><th>market</th><th>exchange</th><th>curr_type</th><th>list_date</th><th>delist_date</th><th>is_hs</th><th>act_name</th><th>act_ent_type</th><th>list_status</th></tr><tr><td>str</td><td>str</td><td>str</td><td>str</td><td>str</td><td>str</td><td>str</td><td>str</td><td>str</td><td>str</td><td>str</td><td>str</td><td>null</td><td>str</td><td>str</td><td>str</td><td>str</td></tr></thead><tbody><tr><td>&quot;000001.SZ&quot;</td><td>&quot;000001&quot;</td><td>&quot;平安银行&quot;</td><td>&quot;深圳&quot;</td><td>&quot;银行&quot;</td><td>&quot;平安银行股份有限公司&quot;</td><td>&quot;Ping An Bank Co., Ltd.&quot;</td><td>&quot;payh&quot;</td><td>&quot;主板&quot;</td><td>&quot;SZSE&quot;</td><td>&quot;CNY&quot;</td><td>&quot;19910403&quot;</td><td>null</td><td>&quot;S&quot;</td><td>&quot;无实际控制人&quot;</td><td>&quot;无&quot;</td><td>&quot;L&quot;</td></tr><tr><td>&quot;000002.SZ&quot;</td><td>&quot;000002&quot;</td><td>&quot;万科A&quot;</td><td>&quot;深圳&quot;</td><td>&quot;全国地产&quot;</td><td>&quot;万科企业股份有限公司&quot;</td><td>&quot;China Vanke Co.,Ltd.&quot;</td><td>&quot;wka&quot;</td><td>&quot;主板&quot;</td><td>&quot;SZSE&quot;</td><td>&quot;CNY&quot;</td><td>&quot;19910129&quot;</td><td>null</td><td>&quot;S&quot;</td><td>&quot;深圳市人民政府国有资产监督管理委员会&quot;</td><td>&quot;地方国企&quot;</td><td>&quot;L&quot;</td></tr><tr><td>&quot;000004.SZ&quot;</td><td>&quot;000004&quot;</td><td>&quot;国华网安&quot;</td><td>&quot;深圳&quot;</td><td>&quot;软件服务&quot;</td><td>&quot;深圳国华网安科技股份有限公司&quot;</td><td>&quot;Shenzhen Guohua Network Securi…</td><td>&quot;ghwa&quot;</td><td>&quot;主板&quot;</td><td>&quot;SZSE&quot;</td><td>&quot;CNY&quot;</td><td>&quot;19910114&quot;</td><td>null</td><td>&quot;N&quot;</td><td>&quot;李映彤&quot;</td><td>&quot;民营企业&quot;</td><td>&quot;L&quot;</td></tr><tr><td>&quot;000006.SZ&quot;</td><td>&quot;000006&quot;</td><td>&quot;深振业A&quot;</td><td>&quot;深圳&quot;</td><td>&quot;区域地产&quot;</td><td>&quot;深圳市振业(集团)股份有限公司&quot;</td><td>&quot;Shenzhen Zhenye(Group) Co., Lt…</td><td>&quot;szya&quot;</td><td>&quot;主板&quot;</td><td>&quot;SZSE&quot;</td><td>&quot;CNY&quot;</td><td>&quot;19920427&quot;</td><td>null</td><td>&quot;S&quot;</td><td>&quot;深圳市人民政府国有资产监督管理委员会&quot;</td><td>&quot;地方国企&quot;</td><td>&quot;L&quot;</td></tr><tr><td>&quot;000007.SZ&quot;</td><td>&quot;000007&quot;</td><td>&quot;全新好&quot;</td><td>&quot;深圳&quot;</td><td>&quot;其他商业&quot;</td><td>&quot;深圳市全新好股份有限公司&quot;</td><td>&quot;Shenzhen Quanxinhao Co,.Ltd.&quot;</td><td>&quot;qxh&quot;</td><td>&quot;主板&quot;</td><td>&quot;SZSE&quot;</td><td>&quot;CNY&quot;</td><td>&quot;19920413&quot;</td><td>null</td><td>&quot;N&quot;</td><td>&quot;王玩虹&quot;</td><td>&quot;民营企业&quot;</td><td>&quot;L&quot;</td></tr><tr><td>&hellip;</td><td>&hellip;</td><td>&hellip;</td><td>&hellip;</td><td>&hellip;</td><td>&hellip;</td><td>&hellip;</td><td>&hellip;</td><td>&hellip;</td><td>&hellip;</td><td>&hellip;</td><td>&hellip;</td><td>&hellip;</td><td>&hellip;</td><td>&hellip;</td><td>&hellip;</td><td>&hellip;</td></tr><tr><td>&quot;920111.BJ&quot;</td><td>&quot;920111&quot;</td><td>&quot;聚星科技&quot;</td><td>null</td><td>null</td><td>&quot;温州聚星科技股份有限公司&quot;</td><td>&quot;Wenzhou Juxing Science And Tec…</td><td>&quot;jxkj&quot;</td><td>&quot;北交所&quot;</td><td>&quot;BSE&quot;</td><td>&quot;CNY&quot;</td><td>&quot;20241111&quot;</td><td>null</td><td>&quot;N&quot;</td><td>null</td><td>null</td><td>&quot;L&quot;</td></tr><tr><td>&quot;920116.BJ&quot;</td><td>&quot;920116&quot;</td><td>&quot;星图测控&quot;</td><td>null</td><td>null</td><td>&quot;中科星图测控技术股份有限公司&quot;</td><td>&quot;Geovis Insighter Technology Co…</td><td>&quot;xtck&quot;</td><td>&quot;北交所&quot;</td><td>&quot;BSE&quot;</td><td>&quot;CNY&quot;</td><td>&quot;20250102&quot;</td><td>null</td><td>&quot;N&quot;</td><td>null</td><td>null</td><td>&quot;L&quot;</td></tr><tr><td>&quot;920118.BJ&quot;</td><td>&quot;920118&quot;</td><td>&quot;太湖远大&quot;</td><td>null</td><td>null</td><td>&quot;浙江太湖远大新材料股份有限公司&quot;</td><td>&quot;Zhejiang Taihu Yuanda New Mate…</td><td>&quot;thyd&quot;</td><td>&quot;北交所&quot;</td><td>&quot;BSE&quot;</td><td>&quot;CNY&quot;</td><td>&quot;20240822&quot;</td><td>null</td><td>&quot;N&quot;</td><td>null</td><td>null</td><td>&quot;L&quot;</td></tr><tr><td>&quot;920128.BJ&quot;</td><td>&quot;920128&quot;</td><td>&quot;胜业电气&quot;</td><td>null</td><td>null</td><td>&quot;胜业电气股份有限公司&quot;</td><td>&quot;Shengye Electric Co., Ltd.&quot;</td><td>&quot;sydq&quot;</td><td>&quot;北交所&quot;</td><td>&quot;BSE&quot;</td><td>&quot;CNY&quot;</td><td>&quot;20241129&quot;</td><td>null</td><td>&quot;N&quot;</td><td>null</td><td>null</td><td>&quot;L&quot;</td></tr><tr><td>&quot;689009.SH&quot;</td><td>&quot;689009&quot;</td><td>&quot;九号公司-WD&quot;</td><td>&quot;北京&quot;</td><td>&quot;摩托车&quot;</td><td>&quot;九号有限公司&quot;</td><td>&quot;Ninebot Limited&quot;</td><td>&quot;jhgs&quot;</td><td>&quot;科创板&quot;</td><td>&quot;SSE&quot;</td><td>&quot;CNY&quot;</td><td>&quot;20201029&quot;</td><td>null</td><td>null</td><td>null</td><td>null</td><td>&quot;L&quot;</td></tr></tbody></table></div>"
      ],
      "text/plain": [
       "shape: (5_415, 17)\n",
       "┌───────────┬────────┬─────────────┬──────┬───┬───────┬─────────────────────────────────┬──────────────┬─────────────┐\n",
       "│ ts_code   ┆ symbol ┆ name        ┆ area ┆ … ┆ is_hs ┆ act_name                        ┆ act_ent_type ┆ list_status │\n",
       "│ ---       ┆ ---    ┆ ---         ┆ ---  ┆   ┆ ---   ┆ ---                             ┆ ---          ┆ ---         │\n",
       "│ str       ┆ str    ┆ str         ┆ str  ┆   ┆ str   ┆ str                             ┆ str          ┆ str         │\n",
       "╞═══════════╪════════╪═════════════╪══════╪═══╪═══════╪═════════════════════════════════╪══════════════╪═════════════╡\n",
       "│ 000001.SZ ┆ 000001 ┆ 平安银行    ┆ 深圳 ┆ … ┆ S     ┆ 无实际控制人                    ┆ 无           ┆ L           │\n",
       "│ 000002.SZ ┆ 000002 ┆ 万科A       ┆ 深圳 ┆ … ┆ S     ┆ 深圳市人民政府国有资产监督管理  ┆ 地方国企     ┆ L           │\n",
       "│           ┆        ┆             ┆      ┆   ┆       ┆ 委员会                          ┆              ┆             │\n",
       "│ 000004.SZ ┆ 000004 ┆ 国华网安    ┆ 深圳 ┆ … ┆ N     ┆ 李映彤                          ┆ 民营企业     ┆ L           │\n",
       "│ 000006.SZ ┆ 000006 ┆ 深振业A     ┆ 深圳 ┆ … ┆ S     ┆ 深圳市人民政府国有资产监督管理  ┆ 地方国企     ┆ L           │\n",
       "│           ┆        ┆             ┆      ┆   ┆       ┆ 委员会                          ┆              ┆             │\n",
       "│ 000007.SZ ┆ 000007 ┆ 全新好      ┆ 深圳 ┆ … ┆ N     ┆ 王玩虹                          ┆ 民营企业     ┆ L           │\n",
       "│ …         ┆ …      ┆ …           ┆ …    ┆ … ┆ …     ┆ …                               ┆ …            ┆ …           │\n",
       "│ 920111.BJ ┆ 920111 ┆ 聚星科技    ┆ null ┆ … ┆ N     ┆ null                            ┆ null         ┆ L           │\n",
       "│ 920116.BJ ┆ 920116 ┆ 星图测控    ┆ null ┆ … ┆ N     ┆ null                            ┆ null         ┆ L           │\n",
       "│ 920118.BJ ┆ 920118 ┆ 太湖远大    ┆ null ┆ … ┆ N     ┆ null                            ┆ null         ┆ L           │\n",
       "│ 920128.BJ ┆ 920128 ┆ 胜业电气    ┆ null ┆ … ┆ N     ┆ null                            ┆ null         ┆ L           │\n",
       "│ 689009.SH ┆ 689009 ┆ 九号公司-WD ┆ 北京 ┆ … ┆ null  ┆ null                            ┆ null         ┆ L           │\n",
       "└───────────┴────────┴─────────────┴──────┴───┴───────┴─────────────────────────────────┴──────────────┴─────────────┘"
      ]
     },
     "execution_count": 3,
     "metadata": {},
     "output_type": "execute_result"
    }
   ],
   "source": [
    "d2 = pl.read_parquet(\"stock_basic.parquet\")\n",
    "d2"
   ]
  },
  {
   "cell_type": "code",
   "execution_count": 4,
   "id": "47bdfa18-16c9-47f3-b49a-42db997e94cb",
   "metadata": {},
   "outputs": [],
   "source": [
    "d1=d1.with_columns(\n",
    "    ipo_date=pl.col.ipo_date.str.to_date(\"%Y%m%d\"),\n",
    "    issue_date=pl.col.issue_date.str.to_date(\"%Y%m%d\"),\n",
    ")"
   ]
  },
  {
   "cell_type": "code",
   "execution_count": 5,
   "id": "d54077b1-2680-4a0a-bf3d-e57e2de5f47f",
   "metadata": {},
   "outputs": [],
   "source": [
    "d2=d2.with_columns(\n",
    "    list_date=pl.col.list_date.str.to_date(\"%Y%m%d\"),\n",
    ")"
   ]
  },
  {
   "cell_type": "code",
   "execution_count": 6,
   "id": "04e468b0-77cb-47dc-8b65-abd918520f22",
   "metadata": {},
   "outputs": [
    {
     "data": {
      "application/vnd.jupyter.widget-view+json": {
       "model_id": "10f0da6b14e0456b88fcb7eda976c496",
       "version_major": 2,
       "version_minor": 0
      },
      "text/plain": [
       "PerspectiveWidget(binding_mode='server', columns=['ts_code', 'sub_code', 'name', 'ipo_date', 'issue_date', 'am…"
      ]
     },
     "execution_count": 6,
     "metadata": {},
     "output_type": "execute_result"
    }
   ],
   "source": [
    "PerspectiveWidget(d1)"
   ]
  },
  {
   "cell_type": "code",
   "execution_count": 7,
   "id": "641ff834-14af-497e-9ac4-c52024b0b673",
   "metadata": {},
   "outputs": [
    {
     "data": {
      "application/vnd.jupyter.widget-view+json": {
       "model_id": "f9ff2cb5edf146a89efe8ddb4ea1f357",
       "version_major": 2,
       "version_minor": 0
      },
      "text/plain": [
       "PerspectiveWidget(binding_mode='server', columns=['ts_code', 'symbol', 'name', 'area', 'industry', 'fullname',…"
      ]
     },
     "execution_count": 7,
     "metadata": {},
     "output_type": "execute_result"
    }
   ],
   "source": [
    "PerspectiveWidget(d2)"
   ]
  },
  {
   "cell_type": "code",
   "execution_count": 9,
   "id": "fbc500d5-03b8-4bf0-a26f-a48c3f370f85",
   "metadata": {},
   "outputs": [
    {
     "data": {
      "text/html": [
       "<div><style>\n",
       ".dataframe > thead > tr,\n",
       ".dataframe > tbody > tr {\n",
       "  text-align: right;\n",
       "  white-space: pre-wrap;\n",
       "}\n",
       "</style>\n",
       "<small>shape: (2_000, 28)</small><table border=\"1\" class=\"dataframe\"><thead><tr><th>ts_code</th><th>sub_code</th><th>name</th><th>ipo_date</th><th>issue_date</th><th>amount</th><th>market_amount</th><th>price</th><th>pe</th><th>limit_amount</th><th>funds</th><th>ballot</th><th>symbol</th><th>name_right</th><th>area</th><th>industry</th><th>fullname</th><th>enname</th><th>cnspell</th><th>market</th><th>exchange</th><th>curr_type</th><th>list_date</th><th>delist_date</th><th>is_hs</th><th>act_name</th><th>act_ent_type</th><th>list_status</th></tr><tr><td>str</td><td>str</td><td>str</td><td>date</td><td>date</td><td>f64</td><td>f64</td><td>f64</td><td>f64</td><td>f64</td><td>f64</td><td>f64</td><td>str</td><td>str</td><td>str</td><td>str</td><td>str</td><td>str</td><td>str</td><td>str</td><td>str</td><td>str</td><td>date</td><td>null</td><td>str</td><td>str</td><td>str</td><td>str</td></tr></thead><tbody><tr><td>&quot;603014.SH&quot;</td><td>&quot;732014&quot;</td><td>&quot;威高血净&quot;</td><td>2025-05-08</td><td>null</td><td>4114.0</td><td>0.0</td><td>0.0</td><td>0.0</td><td>1.1</td><td>0.0</td><td>0.0</td><td>null</td><td>null</td><td>null</td><td>null</td><td>null</td><td>null</td><td>null</td><td>null</td><td>null</td><td>null</td><td>null</td><td>null</td><td>null</td><td>null</td><td>null</td><td>null</td></tr><tr><td>&quot;301595.SZ&quot;</td><td>&quot;301595&quot;</td><td>&quot;太力科技&quot;</td><td>2025-05-08</td><td>null</td><td>2707.0</td><td>0.0</td><td>0.0</td><td>0.0</td><td>0.65</td><td>0.0</td><td>0.0</td><td>null</td><td>null</td><td>null</td><td>null</td><td>null</td><td>null</td><td>null</td><td>null</td><td>null</td><td>null</td><td>null</td><td>null</td><td>null</td><td>null</td><td>null</td><td>null</td></tr><tr><td>&quot;688755.SH&quot;</td><td>&quot;787755&quot;</td><td>&quot;汉邦科技&quot;</td><td>2025-05-07</td><td>null</td><td>2200.0</td><td>0.0</td><td>0.0</td><td>0.0</td><td>0.5</td><td>0.0</td><td>0.0</td><td>null</td><td>null</td><td>null</td><td>null</td><td>null</td><td>null</td><td>null</td><td>null</td><td>null</td><td>null</td><td>null</td><td>null</td><td>null</td><td>null</td><td>null</td><td>null</td></tr><tr><td>&quot;301636.SZ&quot;</td><td>&quot;301636&quot;</td><td>&quot;泽润新能&quot;</td><td>2025-04-28</td><td>null</td><td>1597.0</td><td>455.0</td><td>33.06</td><td>17.57</td><td>0.45</td><td>5.279</td><td>0.0</td><td>null</td><td>null</td><td>null</td><td>null</td><td>null</td><td>null</td><td>null</td><td>null</td><td>null</td><td>null</td><td>null</td><td>null</td><td>null</td><td>null</td><td>null</td><td>null</td></tr><tr><td>&quot;920068.BJ&quot;</td><td>&quot;920068&quot;</td><td>&quot;天工股份&quot;</td><td>2025-04-28</td><td>null</td><td>6000.0</td><td>4200.0</td><td>3.94</td><td>14.98</td><td>255.0</td><td>2.364</td><td>0.0</td><td>null</td><td>null</td><td>null</td><td>null</td><td>null</td><td>null</td><td>null</td><td>null</td><td>null</td><td>null</td><td>null</td><td>null</td><td>null</td><td>null</td><td>null</td><td>null</td></tr><tr><td>&hellip;</td><td>&hellip;</td><td>&hellip;</td><td>&hellip;</td><td>&hellip;</td><td>&hellip;</td><td>&hellip;</td><td>&hellip;</td><td>&hellip;</td><td>&hellip;</td><td>&hellip;</td><td>&hellip;</td><td>&hellip;</td><td>&hellip;</td><td>&hellip;</td><td>&hellip;</td><td>&hellip;</td><td>&hellip;</td><td>&hellip;</td><td>&hellip;</td><td>&hellip;</td><td>&hellip;</td><td>&hellip;</td><td>&hellip;</td><td>&hellip;</td><td>&hellip;</td><td>&hellip;</td><td>&hellip;</td></tr><tr><td>&quot;300777.SZ&quot;</td><td>&quot;300777&quot;</td><td>&quot;中简科技&quot;</td><td>2019-05-06</td><td>2019-05-16</td><td>4001.0</td><td>3601.0</td><td>6.06</td><td>22.98</td><td>1.1</td><td>2.425</td><td>0.04</td><td>&quot;300777&quot;</td><td>&quot;中简科技&quot;</td><td>&quot;江苏&quot;</td><td>&quot;化纤&quot;</td><td>&quot;中简科技股份有限公司&quot;</td><td>&quot;Sinofibers Technology Co.,Ltd.&quot;</td><td>&quot;zjkj&quot;</td><td>&quot;创业板&quot;</td><td>&quot;SZSE&quot;</td><td>&quot;CNY&quot;</td><td>2019-05-16</td><td>null</td><td>&quot;S&quot;</td><td>null</td><td>null</td><td>&quot;L&quot;</td></tr><tr><td>&quot;603267.SH&quot;</td><td>&quot;732267&quot;</td><td>&quot;鸿远电子&quot;</td><td>2019-04-30</td><td>2019-05-15</td><td>4134.0</td><td>3721.0</td><td>20.24</td><td>16.5</td><td>1.6</td><td>8.367</td><td>0.03</td><td>&quot;603267&quot;</td><td>&quot;鸿远电子&quot;</td><td>&quot;北京&quot;</td><td>&quot;元器件&quot;</td><td>&quot;北京元六鸿远电子科技股份有限公司&quot;</td><td>&quot;Beijing Yuanliu Hongyuan Elect…</td><td>&quot;hydz&quot;</td><td>&quot;主板&quot;</td><td>&quot;SSE&quot;</td><td>&quot;CNY&quot;</td><td>2019-05-15</td><td>null</td><td>&quot;H&quot;</td><td>null</td><td>null</td><td>&quot;L&quot;</td></tr><tr><td>&quot;600989.SH&quot;</td><td>&quot;730989&quot;</td><td>&quot;宝丰能源&quot;</td><td>2019-04-30</td><td>2019-05-16</td><td>73336.0</td><td>66002.0</td><td>11.12</td><td>22.07</td><td>22.0</td><td>81.55</td><td>0.25</td><td>&quot;600989&quot;</td><td>&quot;宝丰能源&quot;</td><td>&quot;宁夏&quot;</td><td>&quot;化工原料&quot;</td><td>&quot;宁夏宝丰能源集团股份有限公司&quot;</td><td>&quot;Ningxia Baofeng Energy Group C…</td><td>&quot;bfny&quot;</td><td>&quot;主板&quot;</td><td>&quot;SSE&quot;</td><td>&quot;CNY&quot;</td><td>2019-05-16</td><td>null</td><td>&quot;H&quot;</td><td>null</td><td>null</td><td>&quot;L&quot;</td></tr><tr><td>&quot;300778.SZ&quot;</td><td>&quot;300778&quot;</td><td>&quot;新城市&quot;</td><td>2019-04-25</td><td>2019-05-10</td><td>2000.0</td><td>2000.0</td><td>27.33</td><td>22.99</td><td>2.0</td><td>5.466</td><td>0.02</td><td>&quot;300778&quot;</td><td>&quot;新城市&quot;</td><td>&quot;深圳&quot;</td><td>&quot;建筑工程&quot;</td><td>&quot;深圳市新城市规划建筑设计股份有限公司&quot;</td><td>&quot;Shenzhen New Land Tool Plannin…</td><td>&quot;xcs&quot;</td><td>&quot;创业板&quot;</td><td>&quot;SZSE&quot;</td><td>&quot;CNY&quot;</td><td>2019-05-10</td><td>null</td><td>&quot;N&quot;</td><td>null</td><td>null</td><td>&quot;L&quot;</td></tr><tr><td>&quot;002953.SZ&quot;</td><td>&quot;002953&quot;</td><td>&quot;日丰股份&quot;</td><td>2019-04-24</td><td>2019-05-09</td><td>4302.0</td><td>3872.0</td><td>10.52</td><td>16.34</td><td>1.7</td><td>4.526</td><td>0.03</td><td>&quot;002953&quot;</td><td>&quot;日丰股份&quot;</td><td>&quot;广东&quot;</td><td>&quot;电气设备&quot;</td><td>&quot;广东日丰电缆股份有限公司&quot;</td><td>&quot;Guangdong Rifeng Electric Cabl…</td><td>&quot;rfgf&quot;</td><td>&quot;主板&quot;</td><td>&quot;SZSE&quot;</td><td>&quot;CNY&quot;</td><td>2019-05-09</td><td>null</td><td>&quot;N&quot;</td><td>&quot;冯就景&quot;</td><td>&quot;民营企业&quot;</td><td>&quot;L&quot;</td></tr></tbody></table></div>"
      ],
      "text/plain": [
       "shape: (2_000, 28)\n",
       "┌───────────┬──────────┬──────────┬────────────┬───┬───────┬──────────┬──────────────┬─────────────┐\n",
       "│ ts_code   ┆ sub_code ┆ name     ┆ ipo_date   ┆ … ┆ is_hs ┆ act_name ┆ act_ent_type ┆ list_status │\n",
       "│ ---       ┆ ---      ┆ ---      ┆ ---        ┆   ┆ ---   ┆ ---      ┆ ---          ┆ ---         │\n",
       "│ str       ┆ str      ┆ str      ┆ date       ┆   ┆ str   ┆ str      ┆ str          ┆ str         │\n",
       "╞═══════════╪══════════╪══════════╪════════════╪═══╪═══════╪══════════╪══════════════╪═════════════╡\n",
       "│ 603014.SH ┆ 732014   ┆ 威高血净 ┆ 2025-05-08 ┆ … ┆ null  ┆ null     ┆ null         ┆ null        │\n",
       "│ 301595.SZ ┆ 301595   ┆ 太力科技 ┆ 2025-05-08 ┆ … ┆ null  ┆ null     ┆ null         ┆ null        │\n",
       "│ 688755.SH ┆ 787755   ┆ 汉邦科技 ┆ 2025-05-07 ┆ … ┆ null  ┆ null     ┆ null         ┆ null        │\n",
       "│ 301636.SZ ┆ 301636   ┆ 泽润新能 ┆ 2025-04-28 ┆ … ┆ null  ┆ null     ┆ null         ┆ null        │\n",
       "│ 920068.BJ ┆ 920068   ┆ 天工股份 ┆ 2025-04-28 ┆ … ┆ null  ┆ null     ┆ null         ┆ null        │\n",
       "│ …         ┆ …        ┆ …        ┆ …          ┆ … ┆ …     ┆ …        ┆ …            ┆ …           │\n",
       "│ 300777.SZ ┆ 300777   ┆ 中简科技 ┆ 2019-05-06 ┆ … ┆ S     ┆ null     ┆ null         ┆ L           │\n",
       "│ 603267.SH ┆ 732267   ┆ 鸿远电子 ┆ 2019-04-30 ┆ … ┆ H     ┆ null     ┆ null         ┆ L           │\n",
       "│ 600989.SH ┆ 730989   ┆ 宝丰能源 ┆ 2019-04-30 ┆ … ┆ H     ┆ null     ┆ null         ┆ L           │\n",
       "│ 300778.SZ ┆ 300778   ┆ 新城市   ┆ 2019-04-25 ┆ … ┆ N     ┆ null     ┆ null         ┆ L           │\n",
       "│ 002953.SZ ┆ 002953   ┆ 日丰股份 ┆ 2019-04-24 ┆ … ┆ N     ┆ 冯就景   ┆ 民营企业     ┆ L           │\n",
       "└───────────┴──────────┴──────────┴────────────┴───┴───────┴──────────┴──────────────┴─────────────┘"
      ]
     },
     "execution_count": 9,
     "metadata": {},
     "output_type": "execute_result"
    }
   ],
   "source": [
    "df=d1.join(d2,on=\"ts_code\",how=\"left\")\n",
    "df\n"
   ]
  },
  {
   "cell_type": "code",
   "execution_count": 10,
   "id": "ac67be75-0cb2-4f4b-8d7e-3f3bb08c62ed",
   "metadata": {},
   "outputs": [
    {
     "data": {
      "application/vnd.jupyter.widget-view+json": {
       "model_id": "de0f46b27ba046be99562f7a466ad9d2",
       "version_major": 2,
       "version_minor": 0
      },
      "text/plain": [
       "PerspectiveWidget(binding_mode='server', columns=['ts_code', 'sub_code', 'name', 'ipo_date', 'issue_date', 'am…"
      ]
     },
     "execution_count": 10,
     "metadata": {},
     "output_type": "execute_result"
    }
   ],
   "source": [
    "PerspectiveWidget(df)"
   ]
  },
  {
   "cell_type": "code",
   "execution_count": 12,
   "id": "83118514-8f4b-40cc-9d60-e4165850312d",
   "metadata": {},
   "outputs": [
    {
     "data": {
      "application/vnd.jupyter.widget-view+json": {
       "model_id": "411faa8dfbc1492f9c9e238e1276e37f",
       "version_major": 2,
       "version_minor": 0
      },
      "text/plain": [
       "PerspectiveWidget(binding_mode='server', columns=['ts_code', 'sub_code', 'name', 'ipo_date', 'issue_date', 'am…"
      ]
     },
     "execution_count": 12,
     "metadata": {},
     "output_type": "execute_result"
    }
   ],
   "source": [
    "PerspectiveWidget(df)"
   ]
  },
  {
   "cell_type": "code",
   "execution_count": 15,
   "id": "67d386d6-294b-473a-af23-2dff8d3f6a4f",
   "metadata": {},
   "outputs": [
    {
     "data": {
      "application/vnd.jupyter.widget-view+json": {
       "model_id": "3c57e7f2ecc54ea6848117af6e93eba3",
       "version_major": 2,
       "version_minor": 0
      },
      "text/plain": [
       "PerspectiveWidget(binding_mode='server', columns=['ts_code', 'sub_code', 'name', 'ipo_date', 'issue_date', 'am…"
      ]
     },
     "execution_count": 15,
     "metadata": {},
     "output_type": "execute_result"
    }
   ],
   "source": [
    "PerspectiveWidget(df)"
   ]
  },
  {
   "cell_type": "code",
   "execution_count": 16,
   "id": "51ebe175-f8d4-489f-8f0d-7d6ed3258f3b",
   "metadata": {},
   "outputs": [
    {
     "data": {
      "application/vnd.jupyter.widget-view+json": {
       "model_id": "d3363ca25e3941ef8c8b0c01772bb615",
       "version_major": 2,
       "version_minor": 0
      },
      "text/plain": [
       "PerspectiveWidget(binding_mode='server', columns=['ts_code', 'sub_code', 'name', 'ipo_date', 'issue_date', 'am…"
      ]
     },
     "execution_count": 16,
     "metadata": {},
     "output_type": "execute_result"
    }
   ],
   "source": [
    "PerspectiveWidget(df)"
   ]
  },
  {
   "cell_type": "code",
   "execution_count": 17,
   "id": "81656841-1139-4683-97f4-8d0052a9b15f",
   "metadata": {},
   "outputs": [
    {
     "data": {
      "application/vnd.jupyter.widget-view+json": {
       "model_id": "a30dcd531d7c4dce8e6166e86483e634",
       "version_major": 2,
       "version_minor": 0
      },
      "text/plain": [
       "PerspectiveWidget(binding_mode='server', columns=['ts_code', 'sub_code', 'name', 'ipo_date', 'issue_date', 'am…"
      ]
     },
     "execution_count": 17,
     "metadata": {},
     "output_type": "execute_result"
    }
   ],
   "source": [
    "PerspectiveWidget(df)"
   ]
  },
  {
   "cell_type": "code",
   "execution_count": 18,
   "id": "4d10aa44-4a8a-4577-89a8-940e390bdf15",
   "metadata": {},
   "outputs": [
    {
     "data": {
      "application/vnd.jupyter.widget-view+json": {
       "model_id": "e844fec7290d4a299e068c94e82df69e",
       "version_major": 2,
       "version_minor": 0
      },
      "text/plain": [
       "PerspectiveWidget(binding_mode='server', columns=['ts_code', 'sub_code', 'name', 'ipo_date', 'issue_date', 'am…"
      ]
     },
     "execution_count": 18,
     "metadata": {},
     "output_type": "execute_result"
    }
   ],
   "source": [
    "PerspectiveWidget(df)"
   ]
  },
  {
   "cell_type": "code",
   "execution_count": 19,
   "id": "a3051dd0-6323-46b2-8475-cb13fc5ec3f9",
   "metadata": {},
   "outputs": [
    {
     "data": {
      "application/vnd.jupyter.widget-view+json": {
       "model_id": "0c8fc5857f984e0fa0502a1f6738949c",
       "version_major": 2,
       "version_minor": 0
      },
      "text/plain": [
       "PerspectiveWidget(binding_mode='server', columns=['ts_code', 'sub_code', 'name', 'ipo_date', 'issue_date', 'am…"
      ]
     },
     "execution_count": 19,
     "metadata": {},
     "output_type": "execute_result"
    }
   ],
   "source": [
    "PerspectiveWidget(df)"
   ]
  },
  {
   "cell_type": "code",
   "execution_count": null,
   "id": "17dd95df-cd00-4a9a-9255-e15f663fff5a",
   "metadata": {},
   "outputs": [],
   "source": []
  }
 ],
 "metadata": {
  "kernelspec": {
   "display_name": "Python 3 (ipykernel)",
   "language": "python",
   "name": "python3"
  },
  "language_info": {
   "codemirror_mode": {
    "name": "ipython",
    "version": 3
   },
   "file_extension": ".py",
   "mimetype": "text/x-python",
   "name": "python",
   "nbconvert_exporter": "python",
   "pygments_lexer": "ipython3",
   "version": "3.12.10"
  }
 },
 "nbformat": 4,
 "nbformat_minor": 5
}
