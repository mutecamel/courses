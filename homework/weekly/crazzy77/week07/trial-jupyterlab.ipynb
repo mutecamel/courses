{
 "cells": [
  {
   "cell_type": "code",
   "execution_count": 1,
   "id": "cf668170-304a-4961-be0a-cea56b042c88",
   "metadata": {},
   "outputs": [
    {
     "name": "stdout",
     "output_type": "stream",
     "text": [
      "aaaaa\n"
     ]
    }
   ],
   "source": [
    "x=5\n",
    "x=\"a\"*5\n",
    "print(x)"
   ]
  },
  {
   "cell_type": "code",
   "execution_count": 2,
   "id": "988508bf-3132-48e1-acbd-fdfa7be77e33",
   "metadata": {},
   "outputs": [
    {
     "data": {
      "text/plain": [
       "[2, 5, 8]"
      ]
     },
     "execution_count": 2,
     "metadata": {},
     "output_type": "execute_result"
    }
   ],
   "source": [
    "a=[2,5,8]\n",
    "a"
   ]
  },
  {
   "cell_type": "code",
   "execution_count": 3,
   "id": "56fbf685-bfe7-4152-af64-ad4bbc83d7d7",
   "metadata": {},
   "outputs": [
    {
     "data": {
      "text/plain": [
       "8"
      ]
     },
     "execution_count": 3,
     "metadata": {},
     "output_type": "execute_result"
    }
   ],
   "source": [
    "a.pop()"
   ]
  },
  {
   "cell_type": "code",
   "execution_count": 4,
   "id": "1d2aa41b-8b03-4a19-8fdc-c75913a2e970",
   "metadata": {},
   "outputs": [
    {
     "data": {
      "text/plain": [
       "[2, 5]"
      ]
     },
     "execution_count": 4,
     "metadata": {},
     "output_type": "execute_result"
    }
   ],
   "source": [
    "a"
   ]
  },
  {
   "cell_type": "code",
   "execution_count": 5,
   "id": "3cbf9ae6-745f-4fd6-aeb9-79bc41cbf166",
   "metadata": {},
   "outputs": [],
   "source": [
    "a.append(8)"
   ]
  },
  {
   "cell_type": "code",
   "execution_count": 6,
   "id": "2642476c-f284-41be-81d0-280c715d72af",
   "metadata": {},
   "outputs": [
    {
     "data": {
      "text/plain": [
       "[2, 5, 8]"
      ]
     },
     "execution_count": 6,
     "metadata": {},
     "output_type": "execute_result"
    }
   ],
   "source": [
    "a"
   ]
  },
  {
   "cell_type": "code",
   "execution_count": 7,
   "id": "21624ae2-3c28-4609-8163-d10215a28401",
   "metadata": {},
   "outputs": [
    {
     "data": {
      "text/plain": [
       "6"
      ]
     },
     "execution_count": 7,
     "metadata": {},
     "output_type": "execute_result"
    }
   ],
   "source": [
    "-3+9"
   ]
  },
  {
   "cell_type": "code",
   "execution_count": 8,
   "id": "c3461d5b-5a6c-4ecc-a8af-359778ece9fa",
   "metadata": {},
   "outputs": [
    {
     "data": {
      "text/plain": [
       "17"
      ]
     },
     "execution_count": 8,
     "metadata": {},
     "output_type": "execute_result"
    }
   ],
   "source": [
    "_3+9"
   ]
  },
  {
   "cell_type": "code",
   "execution_count": 10,
   "id": "ccc38838-a983-428a-b815-455f72ea24e1",
   "metadata": {},
   "outputs": [
    {
     "name": "stdout",
     "output_type": "stream",
     "text": [
      "hello\n",
      "hello\n",
      "hello\n",
      "hello\n",
      "hello\n",
      "hello\n"
     ]
    },
    {
     "ename": "KeyboardInterrupt",
     "evalue": "",
     "output_type": "error",
     "traceback": [
      "\u001b[31m---------------------------------------------------------------------------\u001b[39m",
      "\u001b[31mKeyboardInterrupt\u001b[39m                         Traceback (most recent call last)",
      "\u001b[36mCell\u001b[39m\u001b[36m \u001b[39m\u001b[32mIn[10]\u001b[39m\u001b[32m, line 5\u001b[39m\n\u001b[32m      3\u001b[39m \u001b[38;5;28;01mwhile\u001b[39;00m \u001b[38;5;28;01mTrue\u001b[39;00m:\n\u001b[32m      4\u001b[39m       \u001b[38;5;28mprint\u001b[39m(\u001b[33m\"\u001b[39m\u001b[33mhello\u001b[39m\u001b[33m\"\u001b[39m)\n\u001b[32m----> \u001b[39m\u001b[32m5\u001b[39m       \u001b[43mtime\u001b[49m\u001b[43m.\u001b[49m\u001b[43msleep\u001b[49m\u001b[43m(\u001b[49m\u001b[32;43m3\u001b[39;49m\u001b[43m)\u001b[49m\n",
      "\u001b[31mKeyboardInterrupt\u001b[39m: "
     ]
    }
   ],
   "source": [
    "import time\n",
    "\n",
    "while True:\n",
    "      print(\"hello\")\n",
    "      time.sleep(3)"
   ]
  },
  {
   "cell_type": "markdown",
   "id": "1e380ddf-e9bf-438a-96ea-e08e1b134997",
   "metadata": {},
   "source": [
    "\n",
    "# 全面功能的 Jupyter Notebook Markdown 示例\n",
    "\n",
    "## 一、段落文本\n",
    "这是一个普通的段落文本，用于阐述一般性的内容。在 Jupyter Notebook 里，Markdown 能让你以清晰易读的方式记录信息。你可以在这里详细描述分析背景、研究目的等内容。\n",
    "\n",
    "## 二、列表\n",
    "### 无序列表\n",
    "- 列表项 1\n",
    "- 列表项 2\n",
    "  - 子列表项 1\n",
    "  - 子列表项 2\n",
    "- 列表项 3\n",
    "\n",
    "### 有序列表\n",
    "1. 第一个有序列表项\n",
    "2. 第二个有序列表项\n",
    "    1. 第一个嵌套有序列表项\n",
    "    2. 第二个嵌套有序列表项\n",
    "3. 第三个有序列表项\n",
    "\n",
    "## 三、引用\n",
    "> 这是一个引用示例，通常用于引用他人的话语或者重要的观点。比如：\n",
    "> \"数据是新的石油。\" - 克莱夫·汉比\n",
    "\n",
    "## 四、代码块\n",
    "### 内联代码\n",
    "在 Python 中，你可以使用 `print()` 函数来输出信息。\n",
    "\n",
    "### 多行代码块\n",
    "```python\n",
    "# 这是一个 Python 代码示例\n",
    "def add_numbers(a, b):\n",
    "    return a + b\n",
    "\n",
    "result = add_numbers(3, 5)\n",
    "print(result)\n",
    "```\n",
    "\n",
    "```sql\n",
    "-- 这是一个 SQL 代码示例\n",
    "SELECT column1, column2\n",
    "FROM table_name\n",
    "WHERE condition;\n",
    "```\n",
    "\n",
    "## 五、表格\n",
    "| 列 1 | 列 2 | 列 3 |\n",
    "| ---- | ---- | ---- |\n",
    "| 数据 1 | 数据 2 | 数据 3 |\n",
    "| 数据 4 | 数据 5 | 数据 6 |\n",
    "\n",
    "## 六、图片\n",
    "![示例图片](https://picsum.photos/800/600)\n",
    "这里展示了一张示例图片，你可以替换为实际需要的图片链接。\n",
    "\n",
    "## 七、链接\n",
    "你可以通过 [链接文本](https://www.example.com) 来创建超链接，点击链接文本就会跳转到指定的网页。\n",
    "\n",
    "## 八、数学公式\n",
    "### 行内公式\n",
    "在 Markdown 中，你可以使用 $E=mc^2$ 这样的行内公式来表示数学关系。\n",
    "\n",
    "### 块级公式\n",
    "下面是一个块级公式示例：\n",
    "$$\n",
    "\\sum_{i=1}^{n} i = \\frac{n(n + 1)}{2}\n",
    "$$\n",
    "\n",
    "这个公式展示了从 1 到 n 的整数求和公式。\n",
    "```M"
   ]
  },
  {
   "cell_type": "markdown",
   "id": "784225a6-d918-4eaf-8315-e6a2d6fad380",
   "metadata": {},
   "source": [
    "<!DOCTYPE html>\n",
    "<html lang=\"en\">\n",
    "\n",
    "<head>\n",
    "    <meta charset=\"UTF-8\">\n",
    "    <meta name=\"viewport\" content=\"width=device-width, initial-scale=1.0\">\n",
    "    <script src=\"https://cdn.tailwindcss.com\"></script>\n",
    "    <link href=\"https://cdnjs.cloudflare.com/ajax/libs/font-awesome/6.7.2/css/all.min.css\" rel=\"stylesheet\">\n",
    "    <title>示例页面</title>\n",
    "</head>\n",
    "\n",
    "<body class=\"bg-gray-100 font-sans\">\n",
    "    <!-- 导航栏 -->\n",
    "    <nav class=\"bg-blue-600 p-4\">\n",
    "        <div class=\"container mx-auto flex justify-between items-center\">\n",
    "            <a href=\"#\" class=\"text-white text-2xl font-bold\">我的网站</a>\n",
    "            <ul class=\"flex space-x-4\">\n",
    "                <li><a href=\"#\" class=\"text-white hover:text-gray-300\">首页</a></li>\n",
    "                <li><a href=\"#\" class=\"text-white hover:text-gray-300\">关于</a></li>\n",
    "                <li><a href=\"#\" class=\"text-white hover:text-gray-300\">联系</a></li>\n",
    "            </ul>\n",
    "        </div>\n",
    "    </nav>\n",
    "\n",
    "    <!-- 主内容区域 -->\n",
    "    <main class=\"container mx-auto p-8\">\n",
    "        <h1 class=\"text-4xl font-bold text-gray-800 mb-4\">欢迎来到我的网站</h1>\n",
    "        <p class=\"text-gray-700 leading-relaxed mb-8\">\n",
    "            这是一个示例网页，展示了 HTML、Tailwind CSS 和 Font Awesome 的运用。在这里你可以添加更多内容，像文章、图片或者视频。\n",
    "        </p>\n",
    "        <a href=\"#\" class=\"bg-blue-600 text-white py-2 px-4 rounded-md hover:bg-blue-700 transition-colors\">\n",
    "            <i class=\"fas fa-arrow-right mr-2\"></i>了解更多\n",
    "        </a>\n",
    "    </main>\n",
    "\n",
    "    <!-- 页脚 -->\n",
    "    <footer class=\"bg-gray-800 text-white text-center p-4\">\n",
    "        <p>&copy; 2025 我的网站. 保留所有权利.</p>\n",
    "    </footer>\n",
    "</body>\n",
    "\n",
    "</html>\n",
    "    "
   ]
  },
  {
   "cell_type": "markdown",
   "id": "75451ba4-c091-4a11-8b20-cb1659dbc083",
   "metadata": {},
   "source": [
    "<!DOCTYPE html>\n",
    "<html lang=\"en\">\n",
    "\n",
    "<head>\n",
    "    <meta charset=\"UTF-8\">\n",
    "    <meta name=\"viewport\" content=\"width=device-width, initial-scale=1.0\">\n",
    "    <title>无 CSS 的示例页面</title>\n",
    "</head>\n",
    "\n",
    "<body>\n",
    "    <h1>欢迎来到我的简单网页</h1>\n",
    "    <p>这是一个不使用任何 CSS 样式的示例页面。它展示了基本的 HTML 元素的使用。</p>\n",
    "    <h2>列表示例</h2>\n",
    "    <ul>\n",
    "        <li>列表项 1</li>\n",
    "        <li>列表项 2</li>\n",
    "        <li>列表项 3</li>\n",
    "    </ul>\n",
    "    <h2>链接示例</h2>\n",
    "    <p>你可以访问 <a href=\"https://www.example.com\">示例网站</a> 获取更多信息。</p>\n",
    "    <h2>图片示例</h2>\n",
    "    <img src=\"https://picsum.photos/200/300\" alt=\"示例图片\">\n",
    "</body>\n",
    "\n",
    "</html>\n",
    "    "
   ]
  },
  {
   "cell_type": "markdown",
   "id": "546b8ed8-2078-4cc0-b44c-ea702786fe6f",
   "metadata": {},
   "source": [
    "<body>\n",
    "    <table>\n",
    "        <caption>复杂表格示例</caption>\n",
    "        <colgroup>\n",
    "            <col style=\"background-color: #e6f7ff;\">\n",
    "            <col span=\"2\" style=\"background-color: #fff6cc;\">\n",
    "            <col style=\"background-color: #ffe6e6;\">\n",
    "        </colgroup>\n",
    "        <thead>\n",
    "            <tr>\n",
    "                <th rowspan=\"2\">学生信息</th>\n",
    "                <th colspan=\"2\">课程成绩</th>\n",
    "                <th rowspan=\"2\">总评</th>\n",
    "            </tr>\n",
    "            <tr>\n",
    "                <th>语文</th>\n",
    "                <th>数学</th>\n",
    "            </tr>\n",
    "        </thead>\n",
    "        <tbody>\n",
    "            <tr>\n",
    "                <td>\n",
    "                    <table>\n",
    "                        <tr>\n",
    "                            <td>姓名</td>\n",
    "                            <td>张三</td>\n",
    "                        </tr>\n",
    "                        <tr>\n",
    "                            <td>学号</td>\n",
    "                            <td>001</td>\n",
    "                        </tr>\n",
    "                    </table>\n",
    "                </td>\n",
    "                <td>85</td>\n",
    "                <td>90</td>\n",
    "                <td>优秀</td>\n",
    "            </tr>\n",
    "            <tr>\n",
    "                <td>\n",
    "                    <table>\n",
    "                        <tr>\n",
    "                            <td>姓名</td>\n",
    "                            <td>李四</td>\n",
    "                        </tr>\n",
    "                        <tr>\n",
    "                            <td>学号</td>\n",
    "                            <td>002</td>\n",
    "                        </tr>\n",
    "                    </table>\n",
    "                </td>\n",
    "                <td>70</td>\n",
    "                <td>75</td>\n",
    "                <td>良好</td>\n",
    "            </tr>\n",
    "            <tr>\n",
    "                <td>\n",
    "                    <table>\n",
    "                        <tr>\n",
    "                            <td>姓名</td>\n",
    "                            <td>王五</td>\n",
    "                        </tr>\n",
    "                        <tr>\n",
    "                            <td>学号</td>\n",
    "                            <td>003</td>\n",
    "                        </tr>\n",
    "                    </table>\n",
    "                </td>\n",
    "                <td>55</td>\n",
    "                <td>60</td>\n",
    "                <td>及格</td>\n",
    "            </tr>\n",
    "        </tbody>\n",
    "        <tfoot>\n",
    "            <tr>\n",
    "                <td colspan=\"4\">注：成绩仅供参考</td>\n",
    "            </tr>\n",
    "        </tfoot>\n",
    "    </table>\n",
    "</body>\n",
    "\n",
    "</html>"
   ]
  },
  {
   "cell_type": "markdown",
   "id": "a6701250-4973-47b2-b807-5e17b37c6553",
   "metadata": {},
   "source": [
    "# 基础公式\n",
    "\n",
    "## 1. 简单代数公式\n",
    "一元二次方程 $ax^{2}+bx + c = 0$ 的求根公式为：\n",
    "$$x=\\frac{-b\\pm\\sqrt{b^{2}-4ac}}{2a}$$\n",
    "\n",
    "## 2. 三角函数公式\n",
    "正弦定理：在任意一个平面三角形中，各边和它所对角的正弦值的比相等，即\n",
    "$$\\frac{a}{\\sin A}=\\frac{b}{\\sin B}=\\frac{c}{\\sin C}=2R$$\n",
    "其中 $a,b,c$ 为三角形的三边，$A,B,C$ 为三角形的三个内角，$R$ 为三角形外接圆半径。\n",
    "\n",
    "## 3. 指数与对数公式\n",
    "对数恒等式 $a^{\\log_{a}N}=N$（$a>0,a\\neq1,N>0$）\n",
    "\n",
    "## 4. 向量公式\n",
    "两个向量 $\\vec{a}=(x_1,y_1)$ 和 $\\vec{b}=(x_2,y_2)$ 的点积为\n",
    "$$\\vec{a}\\cdot\\vec{b}=x_1x_2 + y_1y_2$$\n",
    "\n",
    "# 微积分公式\n",
    "\n",
    "## 1. 导数公式\n",
    "函数 $y = x^n$ 的导数为 $y^\\prime=nx^{n - 1}$\n",
    "\n",
    "## 2. 积分公式\n",
    "不定积分 $\\int x^n dx=\\frac{x^{n + 1}}{n+1}+C$（$n\\neq - 1$）\n",
    "\n",
    "## 3. 泰勒公式\n",
    "若函数 $f(x)$ 在包含 $x_0$ 的某个开区间 $(a,b)$ 内具有直到 $n + 1$ 阶的导数，则对任意 $x\\in(a,b)$，有\n",
    "$$f(x)=f(x_0)+f^\\prime(x_0)(x - x_0)+\\frac{f^{\\prime\\prime}(x_0)}{2!}(x - x_0)^2+\\cdots+\\frac{f^{(n)}(x_0)}{n!}(x - x_0)^n+R_n(x)$$\n",
    "其中 $R_n(x)$ 为拉格朗日型余项，$R_n(x)=\\frac{f^{(n + 1)}(\\xi)}{(n+1)!}(x - x_0)^{n+1}$，这里 $\\xi$ 介于 $x$ 与 $x_0$ 之间。"
   ]
  },
  {
   "cell_type": "code",
   "execution_count": null,
   "id": "aa06922d-6177-4c53-bded-c3fde52d3c89",
   "metadata": {},
   "outputs": [],
   "source": []
  }
 ],
 "metadata": {
  "kernelspec": {
   "display_name": "Python 3 (ipykernel)",
   "language": "python",
   "name": "python3"
  },
  "language_info": {
   "codemirror_mode": {
    "name": "ipython",
    "version": 3
   },
   "file_extension": ".py",
   "mimetype": "text/x-python",
   "name": "python",
   "nbconvert_exporter": "python",
   "pygments_lexer": "ipython3",
   "version": "3.12.10"
  }
 },
 "nbformat": 4,
 "nbformat_minor": 5
}
